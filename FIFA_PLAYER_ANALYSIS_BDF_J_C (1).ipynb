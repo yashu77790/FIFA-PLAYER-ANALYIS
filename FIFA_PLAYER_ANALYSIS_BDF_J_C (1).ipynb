{
  "cells": [
    {
      "cell_type": "code",
      "execution_count": null,
      "metadata": {
        "colab": {
          "base_uri": "https://localhost:8080/"
        },
        "id": "6uugLjmaoNGO",
        "outputId": "57bc188b-466e-4425-ecb4-af84504fbf8d"
      },
      "outputs": [
        {
          "name": "stdout",
          "output_type": "stream",
          "text": [
            "Looking in indexes: https://pypi.org/simple, https://us-python.pkg.dev/colab-wheels/public/simple/\n",
            "Collecting pyspark\n",
            "  Downloading pyspark-3.3.2.tar.gz (281.4 MB)\n",
            "\u001b[2K     \u001b[90m━━━━━━━━━━━━━━━━━━━━━━━━━━━━━━━━━━━━━━━\u001b[0m \u001b[32m281.4/281.4 MB\u001b[0m \u001b[31m5.4 MB/s\u001b[0m eta \u001b[36m0:00:00\u001b[0m\n",
            "\u001b[?25h  Preparing metadata (setup.py) ... \u001b[?25l\u001b[?25hdone\n",
            "Collecting py4j==0.10.9.5\n",
            "  Downloading py4j-0.10.9.5-py2.py3-none-any.whl (199 kB)\n",
            "\u001b[2K     \u001b[90m━━━━━━━━━━━━━━━━━━━━━━━━━━━━━━━━━━━━━━\u001b[0m \u001b[32m199.7/199.7 kB\u001b[0m \u001b[31m19.6 MB/s\u001b[0m eta \u001b[36m0:00:00\u001b[0m\n",
            "\u001b[?25hBuilding wheels for collected packages: pyspark\n",
            "  Building wheel for pyspark (setup.py) ... \u001b[?25l\u001b[?25hdone\n",
            "  Created wheel for pyspark: filename=pyspark-3.3.2-py2.py3-none-any.whl size=281824028 sha256=51360c5d64c2c913a93948c648ad5f0a24e1eb3aa907cca664add66920bbf9d7\n",
            "  Stored in directory: /root/.cache/pip/wheels/6c/e3/9b/0525ce8a69478916513509d43693511463c6468db0de237c86\n",
            "Successfully built pyspark\n",
            "Installing collected packages: py4j, pyspark\n",
            "  Attempting uninstall: py4j\n",
            "    Found existing installation: py4j 0.10.9.7\n",
            "    Uninstalling py4j-0.10.9.7:\n",
            "      Successfully uninstalled py4j-0.10.9.7\n",
            "Successfully installed py4j-0.10.9.5 pyspark-3.3.2\n"
          ]
        }
      ],
      "source": [
        "!pip install pyspark"
      ]
    },
    {
      "cell_type": "code",
      "execution_count": null,
      "metadata": {
        "id": "Zx9G8tjxrQMo"
      },
      "outputs": [],
      "source": [
        "from pyspark.context import SparkContext\n",
        "from pyspark.sql.session import SparkSession\n",
        "sc = SparkContext('local')\n",
        "spark = SparkSession(sc)"
      ]
    },
    {
      "cell_type": "code",
      "execution_count": null,
      "metadata": {
        "id": "PH4lDC5VkspK"
      },
      "outputs": [],
      "source": [
        "from pyspark.sql import SparkSession\n",
        "\n",
        "spark = SparkSession.builder.appName(\"fifa2018\").getOrCreate()\n"
      ]
    },
    {
      "cell_type": "code",
      "execution_count": null,
      "metadata": {
        "colab": {
          "base_uri": "https://localhost:8080/"
        },
        "id": "TtQ2P9Y5q4qJ",
        "outputId": "6f1f7748-9067-4da6-fcc5-7b38ab1b5ca0"
      },
      "outputs": [
        {
          "name": "stdout",
          "output_type": "stream",
          "text": [
            "+------------+-----------------+---+--------------------+-----------+--------------------+-------+---------+-------------------+--------------------+------+-----+-------+------------+----------+-------+-------+------------+---------+--------+-----+---------+---------+------------------+---------+-----------+----------+--------------+-----------+----------------+-------------+-------+------------+----------+-------+---------+-----------+---------+-------------+----------+--------------+------------+-------+---------------+--------+------+-------+----+----+----+----+----+------+----+----+----+----+----+----+----+----+----+----+-------------------+----+----+----+----+----+----+----+----+----+----+----+\n",
            "|SerialNumber|             Name|Age|               Photo|Nationality|                Flag|Overall|Potential|               Club|           Club Logo| Value| Wage|Special|Acceleration|Aggression|Agility|Balance|Ball control|Composure|Crossing|Curve|Dribbling|Finishing|Free kick accuracy|GK diving|GK handling|GK kicking|GK positioning|GK reflexes|Heading accuracy|Interceptions|Jumping|Long passing|Long shots|Marking|Penalties|Positioning|Reactions|Short passing|Shot power|Sliding tackle|Sprint speed|Stamina|Standing tackle|Strength|Vision|Volleys| CAM|  CB| CDM|  CF|  CM|    ID| LAM|  LB| LCB| LCM| LDM|  LF|  LM|  LS|  LW| LWB|Preferred Positions| RAM|  RB| RCB| RCM| RDM|  RF|  RM|  RS|  RW| RWB|  ST|\n",
            "+------------+-----------------+---+--------------------+-----------+--------------------+-------+---------+-------------------+--------------------+------+-----+-------+------------+----------+-------+-------+------------+---------+--------+-----+---------+---------+------------------+---------+-----------+----------+--------------+-----------+----------------+-------------+-------+------------+----------+-------+---------+-----------+---------+-------------+----------+--------------+------------+-------+---------------+--------+------+-------+----+----+----+----+----+------+----+----+----+----+----+----+----+----+----+----+-------------------+----+----+----+----+----+----+----+----+----+----+----+\n",
            "|           0|Cristiano Ronaldo| 32|https://cdn.sofif...|   Portugal|https://cdn.sofif...|     94|       94|     Real Madrid CF|https://cdn.sofif...|€95.5M|€565K|   2228|          89|        63|     89|     63|          93|       95|      85|   81|       91|       94|                76|        7|         11|        15|            14|         11|              88|           29|     95|          77|        92|     22|       85|         95|       96|           83|        94|            23|          91|     92|             31|      80|    85|     88|  89|  53|  62|  91|  82| 20801|  89|  61|  53|  82|  62|  91|  89|  92|  91|  66|             ST LW |  89|  61|  53|  82|  62|  91|  89|  92|  91|  66|  92|\n",
            "|           1|         L. Messi| 30|https://cdn.sofif...|  Argentina|https://cdn.sofif...|     93|       93|       FC Barcelona|https://cdn.sofif...| €105M|€565K|   2154|          92|        48|     90|     95|          95|       96|      77|   89|       97|       95|                90|        6|         11|        15|            14|          8|              71|           22|     68|          87|        88|     13|       74|         93|       95|           88|        85|            26|          87|     73|             28|      59|    90|     85|  92|  45|  59|  92|  84|158023|  92|  57|  45|  84|  59|  92|  90|  88|  91|  62|                RW |  92|  57|  45|  84|  59|  92|  90|  88|  91|  62|  88|\n",
            "|           2|           Neymar| 25|https://cdn.sofif...|     Brazil|https://cdn.sofif...|     92|       94|Paris Saint-Germain|https://cdn.sofif...| €123M|€280K|   2100|          94|        56|     96|     82|          95|       92|      75|   81|       96|       89|                84|        9|          9|        15|            15|         11|              62|           36|     61|          75|        77|     21|       81|         90|       88|           81|        80|            33|          90|     78|             24|      53|    80|     83|  88|  46|  59|  88|  79|190871|  88|  59|  46|  79|  59|  88|  87|  84|  89|  64|                LW |  88|  59|  46|  79|  59|  88|  87|  84|  89|  64|  84|\n",
            "|           3|        L. Suárez| 30|https://cdn.sofif...|    Uruguay|https://cdn.sofif...|     92|       92|       FC Barcelona|https://cdn.sofif...|  €97M|€510K|   2291|          88|        78|     86|     60|          91|       83|      77|   86|       86|       94|                84|       27|         25|        31|            33|         37|              77|           41|     69|          64|        86|     30|       85|         92|       93|           83|        87|            38|          77|     89|             45|      80|    84|     88|  87|  58|  65|  88|  80|176580|  87|  64|  58|  80|  65|  88|  85|  88|  87|  68|                ST |  87|  64|  58|  80|  65|  88|  85|  88|  87|  68|  88|\n",
            "|           4|         M. Neuer| 31|https://cdn.sofif...|    Germany|https://cdn.sofif...|     92|       92|   FC Bayern Munich|https://cdn.sofif...|  €61M|€230K|   1493|          58|        29|     52|     35|          48|       70|      15|   14|       30|       13|                11|       91|         90|        95|            91|         89|              25|           30|     78|          59|        16|     10|       47|         12|       85|           55|        25|            11|          61|     44|             10|      83|    70|     11|null|null|null|null|null|167495|null|null|null|null|null|null|null|null|null|null|                GK |null|null|null|null|null|null|null|null|null|null|null|\n",
            "|           5|   R. Lewandowski| 28|https://cdn.sofif...|     Poland|https://cdn.sofif...|     91|       91|   FC Bayern Munich|https://cdn.sofif...|  €92M|€355K|   2143|          79|        80|     78|     80|          89|       87|      62|   77|       85|       91|                84|       15|          6|        12|             8|         10|              85|           39|     84|          65|        83|     25|       81|         91|       91|           83|        88|            19|          83|     79|             42|      84|    78|     87|  84|  57|  62|  87|  78|188545|  84|  58|  57|  78|  62|  87|  82|  88|  84|  61|                ST |  84|  58|  57|  78|  62|  87|  82|  88|  84|  61|  88|\n",
            "|           6|           De Gea| 26|https://cdn.sofif...|      Spain|https://cdn.sofif...|     90|       92|  Manchester United|https://cdn.sofif...|€64.5M|€215K|   1458|          57|        38|     60|     43|          42|       64|      17|   21|       18|       13|                19|       90|         85|        87|            86|         90|              21|           30|     67|          51|        12|     13|       40|         12|       88|           50|        31|            13|          58|     40|             21|      64|    68|     13|null|null|null|null|null|193080|null|null|null|null|null|null|null|null|null|null|                GK |null|null|null|null|null|null|null|null|null|null|null|\n",
            "|           7|        E. Hazard| 26|https://cdn.sofif...|    Belgium|https://cdn.sofif...|     90|       91|            Chelsea|https://cdn.sofif...|€90.5M|€295K|   2096|          93|        54|     93|     91|          92|       87|      80|   82|       93|       83|                79|       11|         12|         6|             8|          8|              57|           41|     59|          81|        82|     25|       86|         85|       85|           86|        79|            22|          87|     79|             27|      65|    86|     79|  88|  47|  61|  87|  81|183277|  88|  59|  47|  81|  61|  87|  87|  82|  88|  64|                LW |  88|  59|  47|  81|  61|  87|  87|  82|  88|  64|  82|\n",
            "|           8|         T. Kroos| 27|https://cdn.sofif...|    Germany|https://cdn.sofif...|     90|       90|     Real Madrid CF|https://cdn.sofif...|  €79M|€340K|   2165|          60|        60|     71|     69|          89|       85|      85|   85|       79|       76|                84|       10|         11|        13|             7|         10|              54|           85|     32|          93|        90|     63|       73|         79|       86|           90|        87|            69|          52|     77|             82|      74|    88|     82|  83|  72|  82|  81|  87|182521|  83|  76|  72|  87|  82|  81|  81|  77|  80|  78|            CDM CM |  83|  76|  72|  87|  82|  81|  81|  77|  80|  78|  77|\n",
            "|           9|       G. Higuaín| 29|https://cdn.sofif...|  Argentina|https://cdn.sofif...|     90|       90|           Juventus|https://cdn.sofif...|  €77M|€275K|   1961|          78|        50|     75|     69|          85|       86|      68|   74|       84|       91|                62|        5|         12|         7|             5|         10|              86|           20|     79|          59|        82|     12|       70|         92|       88|           75|        88|            18|          80|     72|             22|      85|    70|     88|  81|  46|  52|  84|  71|167664|  81|  51|  46|  71|  52|  84|  79|  87|  82|  55|                ST |  81|  51|  46|  71|  52|  84|  79|  87|  82|  55|  87|\n",
            "|          10|     Sergio Ramos| 31|https://cdn.sofif...|      Spain|https://cdn.sofif...|     90|       90|     Real Madrid CF|https://cdn.sofif...|  €52M|€310K|   2153|          75|        84|     79|     60|          84|       80|      66|   73|       61|       60|                67|       11|          8|         9|             7|         11|              91|           88|     93|          72|        55|     86|       68|         52|       85|           78|        79|            91|          77|     84|             89|      81|    63|     66|  70|  87|  83|  70|  74|155862|  70|  84|  87|  74|  83|  70|  71|  72|  69|  81|                CB |  70|  84|  87|  74|  83|  70|  71|  72|  69|  81|  72|\n",
            "|          11|     K. De Bruyne| 26|https://cdn.sofif...|    Belgium|https://cdn.sofif...|     89|       92|    Manchester City|https://cdn.sofif...|  €83M|€285K|   2162|          76|        68|     80|     75|          87|       84|      90|   83|       85|       83|                83|       15|         13|         5|            10|         13|              53|           56|     65|          84|        86|     30|       77|         84|       88|           90|        85|            40|          75|     87|             51|      73|    90|     82|  86|  57|  70|  85|  84|192985|  86|  66|  57|  84|  70|  85|  85|  81|  85|  71|         RM CM CAM |  86|  66|  57|  84|  70|  85|  85|  81|  85|  71|  81|\n",
            "|          12|      T. Courtois| 25|https://cdn.sofif...|    Belgium|https://cdn.sofif...|     89|       92|            Chelsea|https://cdn.sofif...|  €59M|€190K|   1282|          46|        23|     61|     45|          23|       52|      14|   19|       13|       14|                11|       85|         91|        69|            86|         88|              13|           15|     68|          31|        17|     11|       27|         13|       81|           32|        36|            16|          52|     38|             18|      70|    44|     12|null|null|null|null|null|192119|null|null|null|null|null|null|null|null|null|null|                GK |null|null|null|null|null|null|null|null|null|null|null|\n",
            "|          13|       A. Sánchez| 28|https://cdn.sofif...|      Chile|https://cdn.sofif...|     89|       89|            Arsenal|https://cdn.sofif...|€67.5M|€265K|   2181|          88|        80|     90|     87|          87|       86|      80|   78|       90|       85|                78|       10|         10|        15|            12|         13|              70|           42|     85|          73|        82|     30|       77|         86|       87|           81|        84|            35|          84|     85|             39|      72|    83|     83|  85|  56|  64|  85|  79|184941|  85|  62|  56|  79|  64|  85|  85|  83|  86|  66|       RM LW ST LM |  85|  62|  56|  79|  64|  85|  85|  83|  86|  66|  83|\n",
            "|          14|        L. Modrić| 31|https://cdn.sofif...|    Croatia|https://cdn.sofif...|     89|       89|     Real Madrid CF|https://cdn.sofif...|  €57M|€340K|   2228|          75|        62|     93|     94|          92|       84|      78|   79|       86|       71|                77|       13|          9|         7|            14|          9|              55|           76|     67|          83|        82|     66|       80|         79|       88|           92|        73|            73|          71|     82|             80|      58|    90|     74|  86|  72|  80|  83|  86|177003|  86|  78|  72|  86|  80|  83|  84|  76|  83|  80|            CDM CM |  86|  78|  72|  86|  80|  83|  84|  76|  83|  80|  76|\n",
            "|          15|          G. Bale| 27|https://cdn.sofif...|      Wales|https://cdn.sofif...|     89|       89|     Real Madrid CF|https://cdn.sofif...|€69.5M|€370K|   2263|          93|        65|     77|     65|          87|       85|      87|   86|       89|       87|                85|       15|         15|        11|             5|          6|              86|           59|     85|          80|        90|     51|       76|         86|       87|           86|        91|            52|          95|     76|             55|      80|    79|     76|  86|  67|  71|  87|  81|173731|  86|  72|  67|  81|  71|  87|  87|  87|  87|  74|                RW |  86|  72|  67|  81|  71|  87|  87|  87|  87|  74|  87|\n",
            "|          16|        S. Agüero| 29|https://cdn.sofif...|  Argentina|https://cdn.sofif...|     89|       89|    Manchester City|https://cdn.sofif...|€66.5M|€325K|   2074|          90|        63|     86|     91|          89|       90|      70|   82|       89|       90|                72|       13|         15|         6|            11|         14|              68|           24|     80|          63|        83|     13|       83|         91|       89|           79|        88|            12|          84|     74|             20|      74|    83|     85|  85|  44|  54|  87|  75|153079|  85|  52|  44|  75|  54|  87|  84|  86|  86|  57|                ST |  85|  52|  44|  75|  54|  87|  84|  86|  86|  57|  86|\n",
            "|          17|     G. Chiellini| 32|https://cdn.sofif...|      Italy|https://cdn.sofif...|     89|       89|           Juventus|https://cdn.sofif...|  €38M|€225K|   1867|          68|        92|     59|     64|          57|       82|      58|   60|       58|       33|                31|        3|          3|         2|             4|          3|              84|           88|     89|          59|        49|     92|       50|         28|       82|           59|        78|            90|          78|     68|             92|      91|    50|     45|  55|  86|  76|  55|  60|138956|  55|  78|  86|  60|  76|  55|  58|  59|  56|  75|                CB |  55|  78|  86|  60|  76|  55|  58|  59|  56|  75|  59|\n",
            "|          18|        G. Buffon| 39|https://cdn.sofif...|      Italy|https://cdn.sofif...|     89|       89|           Juventus|https://cdn.sofif...| €4.5M|€110K|   1335|          49|        38|     55|     49|          28|       70|      13|   20|       26|       15|                13|       89|         88|        74|            90|         84|              13|           28|     75|          35|        13|     10|       22|         12|       80|           37|        39|            11|          43|     39|             11|      69|    50|     17|null|null|null|null|null|  1179|null|null|null|null|null|null|null|null|null|null|                GK |null|null|null|null|null|null|null|null|null|null|null|\n",
            "|          19|        P. Dybala| 23|https://cdn.sofif...|  Argentina|https://cdn.sofif...|     88|       93|           Juventus|https://cdn.sofif...|  €79M|€215K|   2063|          88|        48|     91|     85|          93|       84|      80|   88|       92|       85|                84|        5|          4|         4|             5|          8|              68|           24|     75|          71|        88|     14|       86|         84|       84|           83|        82|            20|          84|     83|             20|      65|    84|     88|  86|  43|  55|  86|  78|211110|  86|  55|  43|  78|  55|  86|  86|  83|  87|  60|            ST CAM |  86|  55|  43|  78|  55|  86|  86|  83|  87|  60|  83|\n",
            "+------------+-----------------+---+--------------------+-----------+--------------------+-------+---------+-------------------+--------------------+------+-----+-------+------------+----------+-------+-------+------------+---------+--------+-----+---------+---------+------------------+---------+-----------+----------+--------------+-----------+----------------+-------------+-------+------------+----------+-------+---------+-----------+---------+-------------+----------+--------------+------------+-------+---------------+--------+------+-------+----+----+----+----+----+------+----+----+----+----+----+----+----+----+----+----+-------------------+----+----+----+----+----+----+----+----+----+----+----+\n",
            "only showing top 20 rows\n",
            "\n"
          ]
        }
      ],
      "source": [
        "df = spark.read.csv(\"/content/FIFA18.csv\", inferSchema = True, header = True) \n",
        "df.show()"
      ]
    },
    {
      "cell_type": "code",
      "execution_count": null,
      "metadata": {
        "colab": {
          "base_uri": "https://localhost:8080/"
        },
        "id": "dqEUZT3Nk0p_",
        "outputId": "9f1788aa-a036-47d3-f1b4-e4e453362a8a"
      },
      "outputs": [
        {
          "name": "stdout",
          "output_type": "stream",
          "text": [
            "+------------+-----------------+---+--------------------+-----------+--------------------+-------+---------+-------------------+--------------------+------+-----+-------+------------+----------+-------+-------+------------+---------+--------+-----+---------+---------+------------------+---------+-----------+----------+--------------+-----------+----------------+-------------+-------+------------+----------+-------+---------+-----------+---------+-------------+----------+--------------+------------+-------+---------------+--------+------+-------+----+----+----+----+----+------+----+----+----+----+----+----+----+----+----+----+-------------------+----+----+----+----+----+----+----+----+----+----+----+---------+\n",
            "|SerialNumber|             Name|Age|               Photo|Nationality|                Flag|Overall|Potential|               Club|           Club Logo| Value| Wage|Special|Acceleration|Aggression|Agility|Balance|Ball control|Composure|Crossing|Curve|Dribbling|Finishing|Free kick accuracy|GK diving|GK handling|GK kicking|GK positioning|GK reflexes|Heading accuracy|Interceptions|Jumping|Long passing|Long shots|Marking|Penalties|Positioning|Reactions|Short passing|Shot power|Sliding tackle|Sprint speed|Stamina|Standing tackle|Strength|Vision|Volleys| CAM|  CB| CDM|  CF|  CM|    ID| LAM|  LB| LCB| LCM| LDM|  LF|  LM|  LS|  LW| LWB|Preferred Positions| RAM|  RB| RCB| RCM| RDM|  RF|  RM|  RS|  RW| RWB|  ST|log_Value|\n",
            "+------------+-----------------+---+--------------------+-----------+--------------------+-------+---------+-------------------+--------------------+------+-----+-------+------------+----------+-------+-------+------------+---------+--------+-----+---------+---------+------------------+---------+-----------+----------+--------------+-----------+----------------+-------------+-------+------------+----------+-------+---------+-----------+---------+-------------+----------+--------------+------------+-------+---------------+--------+------+-------+----+----+----+----+----+------+----+----+----+----+----+----+----+----+----+----+-------------------+----+----+----+----+----+----+----+----+----+----+----+---------+\n",
            "|           0|Cristiano Ronaldo| 32|https://cdn.sofif...|   Portugal|https://cdn.sofif...|     94|       94|     Real Madrid CF|https://cdn.sofif...|€95.5M|€565K|   2228|        89.0|      63.0|   89.0|   63.0|        93.0|     95.0|    85.0| 81.0|     91.0|     94.0|              76.0|      7.0|       11.0|      15.0|          14.0|       11.0|            88.0|         29.0|   95.0|        77.0|      92.0|   22.0|     85.0|       95.0|     96.0|         83.0|      94.0|          23.0|        91.0|   92.0|           31.0|    80.0|  85.0|   88.0|  89|  53|  62|  91|  82| 20801|  89|  61|  53|  82|  62|  91|  89|  92|  91|  66|             ST LW |  89|  61|  53|  82|  62|  91|  89|  92|  91|  66|  92|     null|\n",
            "|           1|         L. Messi| 30|https://cdn.sofif...|  Argentina|https://cdn.sofif...|     93|       93|       FC Barcelona|https://cdn.sofif...| €105M|€565K|   2154|        92.0|      48.0|   90.0|   95.0|        95.0|     96.0|    77.0| 89.0|     97.0|     95.0|              90.0|      6.0|       11.0|      15.0|          14.0|        8.0|            71.0|         22.0|   68.0|        87.0|      88.0|   13.0|     74.0|       93.0|     95.0|         88.0|      85.0|          26.0|        87.0|   73.0|           28.0|    59.0|  90.0|   85.0|  92|  45|  59|  92|  84|158023|  92|  57|  45|  84|  59|  92|  90|  88|  91|  62|                RW |  92|  57|  45|  84|  59|  92|  90|  88|  91|  62|  88|     null|\n",
            "|           2|           Neymar| 25|https://cdn.sofif...|     Brazil|https://cdn.sofif...|     92|       94|Paris Saint-Germain|https://cdn.sofif...| €123M|€280K|   2100|        94.0|      56.0|   96.0|   82.0|        95.0|     92.0|    75.0| 81.0|     96.0|     89.0|              84.0|      9.0|        9.0|      15.0|          15.0|       11.0|            62.0|         36.0|   61.0|        75.0|      77.0|   21.0|     81.0|       90.0|     88.0|         81.0|      80.0|          33.0|        90.0|   78.0|           24.0|    53.0|  80.0|   83.0|  88|  46|  59|  88|  79|190871|  88|  59|  46|  79|  59|  88|  87|  84|  89|  64|                LW |  88|  59|  46|  79|  59|  88|  87|  84|  89|  64|  84|     null|\n",
            "|           3|        L. Suárez| 30|https://cdn.sofif...|    Uruguay|https://cdn.sofif...|     92|       92|       FC Barcelona|https://cdn.sofif...|  €97M|€510K|   2291|        88.0|      78.0|   86.0|   60.0|        91.0|     83.0|    77.0| 86.0|     86.0|     94.0|              84.0|     27.0|       25.0|      31.0|          33.0|       37.0|            77.0|         41.0|   69.0|        64.0|      86.0|   30.0|     85.0|       92.0|     93.0|         83.0|      87.0|          38.0|        77.0|   89.0|           45.0|    80.0|  84.0|   88.0|  87|  58|  65|  88|  80|176580|  87|  64|  58|  80|  65|  88|  85|  88|  87|  68|                ST |  87|  64|  58|  80|  65|  88|  85|  88|  87|  68|  88|     null|\n",
            "|           4|         M. Neuer| 31|https://cdn.sofif...|    Germany|https://cdn.sofif...|     92|       92|   FC Bayern Munich|https://cdn.sofif...|  €61M|€230K|   1493|        58.0|      29.0|   52.0|   35.0|        48.0|     70.0|    15.0| 14.0|     30.0|     13.0|              11.0|     91.0|       90.0|      95.0|          91.0|       89.0|            25.0|         30.0|   78.0|        59.0|      16.0|   10.0|     47.0|       12.0|     85.0|         55.0|      25.0|          11.0|        61.0|   44.0|           10.0|    83.0|  70.0|   11.0|null|null|null|null|null|167495|null|null|null|null|null|null|null|null|null|null|                GK |null|null|null|null|null|null|null|null|null|null|null|     null|\n",
            "|           5|   R. Lewandowski| 28|https://cdn.sofif...|     Poland|https://cdn.sofif...|     91|       91|   FC Bayern Munich|https://cdn.sofif...|  €92M|€355K|   2143|        79.0|      80.0|   78.0|   80.0|        89.0|     87.0|    62.0| 77.0|     85.0|     91.0|              84.0|     15.0|        6.0|      12.0|           8.0|       10.0|            85.0|         39.0|   84.0|        65.0|      83.0|   25.0|     81.0|       91.0|     91.0|         83.0|      88.0|          19.0|        83.0|   79.0|           42.0|    84.0|  78.0|   87.0|  84|  57|  62|  87|  78|188545|  84|  58|  57|  78|  62|  87|  82|  88|  84|  61|                ST |  84|  58|  57|  78|  62|  87|  82|  88|  84|  61|  88|     null|\n",
            "|           6|           De Gea| 26|https://cdn.sofif...|      Spain|https://cdn.sofif...|     90|       92|  Manchester United|https://cdn.sofif...|€64.5M|€215K|   1458|        57.0|      38.0|   60.0|   43.0|        42.0|     64.0|    17.0| 21.0|     18.0|     13.0|              19.0|     90.0|       85.0|      87.0|          86.0|       90.0|            21.0|         30.0|   67.0|        51.0|      12.0|   13.0|     40.0|       12.0|     88.0|         50.0|      31.0|          13.0|        58.0|   40.0|           21.0|    64.0|  68.0|   13.0|null|null|null|null|null|193080|null|null|null|null|null|null|null|null|null|null|                GK |null|null|null|null|null|null|null|null|null|null|null|     null|\n",
            "|           7|        E. Hazard| 26|https://cdn.sofif...|    Belgium|https://cdn.sofif...|     90|       91|            Chelsea|https://cdn.sofif...|€90.5M|€295K|   2096|        93.0|      54.0|   93.0|   91.0|        92.0|     87.0|    80.0| 82.0|     93.0|     83.0|              79.0|     11.0|       12.0|       6.0|           8.0|        8.0|            57.0|         41.0|   59.0|        81.0|      82.0|   25.0|     86.0|       85.0|     85.0|         86.0|      79.0|          22.0|        87.0|   79.0|           27.0|    65.0|  86.0|   79.0|  88|  47|  61|  87|  81|183277|  88|  59|  47|  81|  61|  87|  87|  82|  88|  64|                LW |  88|  59|  47|  81|  61|  87|  87|  82|  88|  64|  82|     null|\n",
            "|           8|         T. Kroos| 27|https://cdn.sofif...|    Germany|https://cdn.sofif...|     90|       90|     Real Madrid CF|https://cdn.sofif...|  €79M|€340K|   2165|        60.0|      60.0|   71.0|   69.0|        89.0|     85.0|    85.0| 85.0|     79.0|     76.0|              84.0|     10.0|       11.0|      13.0|           7.0|       10.0|            54.0|         85.0|   32.0|        93.0|      90.0|   63.0|     73.0|       79.0|     86.0|         90.0|      87.0|          69.0|        52.0|   77.0|           82.0|    74.0|  88.0|   82.0|  83|  72|  82|  81|  87|182521|  83|  76|  72|  87|  82|  81|  81|  77|  80|  78|            CDM CM |  83|  76|  72|  87|  82|  81|  81|  77|  80|  78|  77|     null|\n",
            "|           9|       G. Higuaín| 29|https://cdn.sofif...|  Argentina|https://cdn.sofif...|     90|       90|           Juventus|https://cdn.sofif...|  €77M|€275K|   1961|        78.0|      50.0|   75.0|   69.0|        85.0|     86.0|    68.0| 74.0|     84.0|     91.0|              62.0|      5.0|       12.0|       7.0|           5.0|       10.0|            86.0|         20.0|   79.0|        59.0|      82.0|   12.0|     70.0|       92.0|     88.0|         75.0|      88.0|          18.0|        80.0|   72.0|           22.0|    85.0|  70.0|   88.0|  81|  46|  52|  84|  71|167664|  81|  51|  46|  71|  52|  84|  79|  87|  82|  55|                ST |  81|  51|  46|  71|  52|  84|  79|  87|  82|  55|  87|     null|\n",
            "+------------+-----------------+---+--------------------+-----------+--------------------+-------+---------+-------------------+--------------------+------+-----+-------+------------+----------+-------+-------+------------+---------+--------+-----+---------+---------+------------------+---------+-----------+----------+--------------+-----------+----------------+-------------+-------+------------+----------+-------+---------+-----------+---------+-------------+----------+--------------+------------+-------+---------------+--------+------+-------+----+----+----+----+----+------+----+----+----+----+----+----+----+----+----+----+-------------------+----+----+----+----+----+----+----+----+----+----+----+---------+\n",
            "only showing top 10 rows\n",
            "\n",
            "root\n",
            " |-- SerialNumber: integer (nullable = true)\n",
            " |-- Name: string (nullable = true)\n",
            " |-- Age: integer (nullable = true)\n",
            " |-- Photo: string (nullable = true)\n",
            " |-- Nationality: string (nullable = true)\n",
            " |-- Flag: string (nullable = true)\n",
            " |-- Overall: integer (nullable = true)\n",
            " |-- Potential: integer (nullable = true)\n",
            " |-- Club: string (nullable = true)\n",
            " |-- Club Logo: string (nullable = true)\n",
            " |-- Value: string (nullable = true)\n",
            " |-- Wage: string (nullable = true)\n",
            " |-- Special: integer (nullable = true)\n",
            " |-- Acceleration: float (nullable = true)\n",
            " |-- Aggression: float (nullable = true)\n",
            " |-- Agility: float (nullable = true)\n",
            " |-- Balance: float (nullable = true)\n",
            " |-- Ball control: float (nullable = true)\n",
            " |-- Composure: float (nullable = true)\n",
            " |-- Crossing: float (nullable = true)\n",
            " |-- Curve: float (nullable = true)\n",
            " |-- Dribbling: float (nullable = true)\n",
            " |-- Finishing: float (nullable = true)\n",
            " |-- Free kick accuracy: float (nullable = true)\n",
            " |-- GK diving: float (nullable = true)\n",
            " |-- GK handling: float (nullable = true)\n",
            " |-- GK kicking: float (nullable = true)\n",
            " |-- GK positioning: float (nullable = true)\n",
            " |-- GK reflexes: float (nullable = true)\n",
            " |-- Heading accuracy: float (nullable = true)\n",
            " |-- Interceptions: float (nullable = true)\n",
            " |-- Jumping: float (nullable = true)\n",
            " |-- Long passing: float (nullable = true)\n",
            " |-- Long shots: float (nullable = true)\n",
            " |-- Marking: float (nullable = true)\n",
            " |-- Penalties: float (nullable = true)\n",
            " |-- Positioning: float (nullable = true)\n",
            " |-- Reactions: float (nullable = true)\n",
            " |-- Short passing: float (nullable = true)\n",
            " |-- Shot power: float (nullable = true)\n",
            " |-- Sliding tackle: float (nullable = true)\n",
            " |-- Sprint speed: float (nullable = true)\n",
            " |-- Stamina: float (nullable = true)\n",
            " |-- Standing tackle: float (nullable = true)\n",
            " |-- Strength: float (nullable = true)\n",
            " |-- Vision: float (nullable = true)\n",
            " |-- Volleys: float (nullable = true)\n",
            " |-- CAM: integer (nullable = true)\n",
            " |-- CB: integer (nullable = true)\n",
            " |-- CDM: integer (nullable = true)\n",
            " |-- CF: integer (nullable = true)\n",
            " |-- CM: integer (nullable = true)\n",
            " |-- ID: integer (nullable = true)\n",
            " |-- LAM: integer (nullable = true)\n",
            " |-- LB: integer (nullable = true)\n",
            " |-- LCB: integer (nullable = true)\n",
            " |-- LCM: integer (nullable = true)\n",
            " |-- LDM: integer (nullable = true)\n",
            " |-- LF: integer (nullable = true)\n",
            " |-- LM: integer (nullable = true)\n",
            " |-- LS: integer (nullable = true)\n",
            " |-- LW: integer (nullable = true)\n",
            " |-- LWB: integer (nullable = true)\n",
            " |-- Preferred Positions: string (nullable = true)\n",
            " |-- RAM: integer (nullable = true)\n",
            " |-- RB: integer (nullable = true)\n",
            " |-- RCB: integer (nullable = true)\n",
            " |-- RCM: integer (nullable = true)\n",
            " |-- RDM: integer (nullable = true)\n",
            " |-- RF: integer (nullable = true)\n",
            " |-- RM: integer (nullable = true)\n",
            " |-- RS: integer (nullable = true)\n",
            " |-- RW: integer (nullable = true)\n",
            " |-- RWB: integer (nullable = true)\n",
            " |-- ST: integer (nullable = true)\n",
            " |-- log_Value: double (nullable = true)\n",
            "\n",
            "+-------+-----------------+-------------+------------------+--------------------+-----------+--------------------+-----------------+-----------------+--------------------+--------------------+-----+-----+------------------+-----------------+-----------------+-----------------+------------------+------------------+------------------+------------------+-----------------+-----------------+------------------+------------------+------------------+------------------+-----------------+-----------------+------------------+------------------+-----------------+-----------------+------------------+------------------+------------------+------------------+-----------------+------------------+------------------+-----------------+-----------------+-----------------+------------------+------------------+-----------------+-----------------+------------------+-----------------+-----------------+------------------+-----------------+-----------------+-----------------+-----------------+------------------+-----------------+-----------------+------------------+-----------------+-----------------+-----------------+-----------------+-----------------+-------------------+-----------------+------------------+-----------------+-----------------+------------------+-----------------+-----------------+-----------------+-----------------+-----------------+-----------------+---------+\n",
            "|summary|     SerialNumber|         Name|               Age|               Photo|Nationality|                Flag|          Overall|        Potential|                Club|           Club Logo|Value| Wage|           Special|     Acceleration|       Aggression|          Agility|           Balance|      Ball control|         Composure|          Crossing|            Curve|        Dribbling|         Finishing|Free kick accuracy|         GK diving|       GK handling|       GK kicking|   GK positioning|       GK reflexes|  Heading accuracy|    Interceptions|          Jumping|      Long passing|        Long shots|           Marking|         Penalties|      Positioning|         Reactions|     Short passing|       Shot power|   Sliding tackle|     Sprint speed|           Stamina|   Standing tackle|         Strength|           Vision|           Volleys|              CAM|               CB|               CDM|               CF|               CM|               ID|              LAM|                LB|              LCB|              LCM|               LDM|               LF|               LM|               LS|               LW|              LWB|Preferred Positions|              RAM|                RB|              RCB|              RCM|               RDM|               RF|               RM|               RS|               RW|              RWB|               ST|log_Value|\n",
            "+-------+-----------------+-------------+------------------+--------------------+-----------+--------------------+-----------------+-----------------+--------------------+--------------------+-----+-----+------------------+-----------------+-----------------+-----------------+------------------+------------------+------------------+------------------+-----------------+-----------------+------------------+------------------+------------------+------------------+-----------------+-----------------+------------------+------------------+-----------------+-----------------+------------------+------------------+------------------+------------------+-----------------+------------------+------------------+-----------------+-----------------+-----------------+------------------+------------------+-----------------+-----------------+------------------+-----------------+-----------------+------------------+-----------------+-----------------+-----------------+-----------------+------------------+-----------------+-----------------+------------------+-----------------+-----------------+-----------------+-----------------+-----------------+-------------------+-----------------+------------------+-----------------+-----------------+------------------+-----------------+-----------------+-----------------+-----------------+-----------------+-----------------+---------+\n",
            "|  count|            17981|        17981|             17981|               17981|      17981|               17981|            17981|            17981|               17733|               17981|17981|17981|             17981|            17897|            17913|            17910|             17924|             17840|             17887|             17885|            17908|            17850|             17867|             17932|             17955|             17954|            17962|            17955|             17952|             17906|            17881|            17911|             17860|             17898|             17869|             17951|            17886|             17866|             17832|            17908|            17886|            17867|             17873|             17857|            17877|            17874|             17940|            15952|            15952|             15952|            15952|            15952|            17981|            15952|             15952|            15952|            15952|             15952|            15952|            15952|            15952|            15952|            15952|              17981|            15952|             15952|            15952|            15952|             15952|            15952|            15952|            15952|            15952|            15952|            15952|        0|\n",
            "|   mean|           8990.0|         null|25.144541460430453|                null|       null|                null|66.24798398309326|71.19081252433124|                null|                null| null| null|1594.0951003837383|64.57652120467118|55.79149221235974|63.33361250697934| 63.80389422004017| 58.07146860986547|  57.8773410857047| 49.72530053117137|47.26111235202144| 55.0072268907563| 45.20272009850562| 43.13339281730984|16.664940128098024| 16.44413501169656| 16.3441710277252|16.43469785575049|16.783032531194294| 52.30358539037194|46.49958056037134|64.88387024733404| 52.40408734602464| 47.15828584199352|44.020258548323916| 48.97064230404991|49.59230683215923|61.898802194111724|58.263963660834456| 55.6222917132008|45.49664542099966|64.79571276655287| 63.23320091758519| 47.35218681749454|65.27912960787604|52.96749468501734| 43.19849498327759|59.25175526579739|55.55046389167502| 56.86528335005015|59.03002758274825|58.50683299899699|207658.7101384795|59.25175526579739|56.979689067201605|55.55046389167502|58.50683299899699| 56.86528335005015|59.03002758274825|60.05773570712137|58.20404964894684|59.35926529588766|57.69872116349047|               null|59.25175526579739|56.979689067201605|55.55046389167502|58.50683299899699| 56.86528335005015|59.03002758274825|60.05773570712137|58.20404964894684|59.35926529588766|57.69872116349047|58.20404964894684|     null|\n",
            "| stddev|5190.811930709877|         null| 4.614272345005111|                null|       null|                null|6.987965339747416|6.102199325567335|                null|                null| null| null| 272.1514351168674|14.91831329019313|17.47657179841652|14.80279974904928|14.100949772164975|16.834553803955277|12.938164998009173|18.474237173319988|18.46339389115979|19.01933529346871|19.473240181431876| 17.56947525011612| 17.69808291280733|16.928068018823854|16.54840454332358|17.04976397361467|17.971706220718623|17.423963684011923|20.69365107984128|11.89298187476567|15.542677359763399|19.288718936879604| 21.58269619744984|15.814547670482447|19.44896348594609| 9.176708595845298|14.947943099938035|17.40848344223398|21.48992560156814|14.64912651400421|15.942737621427558|21.851022569615775|12.61841460206578|14.38701451564245|17.734258903846072|9.880163887609708| 12.1925788559732|10.310177563417998|9.926987602768284|8.888040141192354|32291.66731290502|9.880163887609708| 9.791626975509338| 12.1925788559732|8.888040141192354|10.310177563417998|9.926987602768284|9.349180368212966| 9.18139225081143|9.978084098855218|9.142825142013749|               null|9.880163887609708| 9.791626975509338| 12.1925788559732|8.888040141192354|10.310177563417998|9.926987602768284|9.349180368212966| 9.18139225081143|9.978084098855218|9.142825142013749| 9.18139225081143|     null|\n",
            "|    min|                0|     A. Abbas|                16|https://cdn.sofif...|Afghanistan|https://cdn.sofif...|               46|               46| SSV Jahn Regensburg|https://cdn.sofif...|   €0|   €0|               728|             11.0|             11.0|             14.0|              11.0|               8.0|               5.0|               5.0|              6.0|              2.0|               2.0|               4.0|               1.0|               1.0|              1.0|              1.0|               1.0|               4.0|              4.0|             13.0|               7.0|               3.0|               4.0|               5.0|              2.0|              28.0|              10.0|              3.0|              4.0|             11.0|              12.0|               4.0|             12.0|             10.0|               4.0|               27|               25|                26|               27|               30|               16|               27|                30|               25|               30|                26|               27|               28|               31|               26|               31|               CAM |               27|                30|               25|               30|                26|               27|               28|               31|               26|               31|               31|     null|\n",
            "|    max|            17980|Óscar Whalley|                47|https://cdn.sofif...|   Zimbabwe|https://cdn.sofif...|               94|               94|       Śląsk Wrocław|https://cdn.sofif...|  €9M|  €9K|              2291|             96.0|             96.0|             96.0|              96.0|              95.0|              96.0|              91.0|             92.0|             97.0|              95.0|              93.0|              91.0|              91.0|             95.0|             91.0|              90.0|              94.0|             92.0|             95.0|              93.0|              92.0|              92.0|              92.0|             95.0|              96.0|              92.0|             94.0|             91.0|             96.0|              95.0|              92.0|             98.0|             94.0|              91.0|               92|               87|                85|               92|               87|           241219|               92|                84|               87|               87|                85|               92|               90|               92|               91|               84|          ST RW RM |               92|                84|               87|               87|                85|               92|               90|               92|               91|               84|               92|     null|\n",
            "+-------+-----------------+-------------+------------------+--------------------+-----------+--------------------+-----------------+-----------------+--------------------+--------------------+-----+-----+------------------+-----------------+-----------------+-----------------+------------------+------------------+------------------+------------------+-----------------+-----------------+------------------+------------------+------------------+------------------+-----------------+-----------------+------------------+------------------+-----------------+-----------------+------------------+------------------+------------------+------------------+-----------------+------------------+------------------+-----------------+-----------------+-----------------+------------------+------------------+-----------------+-----------------+------------------+-----------------+-----------------+------------------+-----------------+-----------------+-----------------+-----------------+------------------+-----------------+-----------------+------------------+-----------------+-----------------+-----------------+-----------------+-----------------+-------------------+-----------------+------------------+-----------------+-----------------+------------------+-----------------+-----------------+-----------------+-----------------+-----------------+-----------------+---------+\n",
            "\n",
            "+--------------------+-----+\n",
            "|                Club|count|\n",
            "+--------------------+-----+\n",
            "|             Palermo|   28|\n",
            "|         Yeovil Town|   21|\n",
            "|  1. FC Union Berlin|   27|\n",
            "|  Santiago Wanderers|   20|\n",
            "|               Carpi|   30|\n",
            "|Evkur Yeni Malaty...|   30|\n",
            "|          Sagan Tosu|   25|\n",
            "|            FC Basel|   25|\n",
            "|  Argentinos Juniors|   28|\n",
            "|       Karlsruher SC|   27|\n",
            "|  Lorca Deportiva CF|   29|\n",
            "|     SC Paderborn 07|   28|\n",
            "|     Cheltenham Town|   28|\n",
            "|San Lorenzo de Al...|   28|\n",
            "|         SC Freiburg|   32|\n",
            "|  SpVgg Unterhaching|   28|\n",
            "|Atletico Nacional...|   28|\n",
            "|Universidad Católica|   20|\n",
            "|         GFC Ajaccio|   25|\n",
            "|           FC Luzern|   27|\n",
            "+--------------------+-----+\n",
            "only showing top 20 rows\n",
            "\n"
          ]
        }
      ],
      "source": [
        "df.show(10) # view the first 10 rows\n",
        "df.printSchema() # print the schema\n",
        "df.describe().show() # view summary statis\n",
        "df.groupBy(\"Club\").count().show() # count the number of players in each position\n"
      ]
    },
    {
      "cell_type": "code",
      "execution_count": null,
      "metadata": {
        "colab": {
          "base_uri": "https://localhost:8080/"
        },
        "id": "CupbKKv5mc-D",
        "outputId": "fec0d921-7783-49a6-c25d-2730f91e4672"
      },
      "outputs": [
        {
          "name": "stdout",
          "output_type": "stream",
          "text": [
            "+------------+-------------+---+--------------------+-----------+--------------------+-------+---------+-------------------+--------------------+------+-----+-------+------------+----------+-------+-------+------------+---------+--------+-----+---------+---------+------------------+---------+-----------+----------+--------------+-----------+----------------+-------------+-------+------------+----------+-------+---------+-----------+---------+-------------+----------+--------------+------------+-------+---------------+--------+------+-------+----+----+----+----+----+------+----+----+----+----+----+----+----+----+----+----+-------------------+----+----+----+----+----+----+----+----+----+----+----+---------+\n",
            "|SerialNumber|         Name|Age|               Photo|Nationality|                Flag|Overall|Potential|               Club|           Club Logo| Value| Wage|Special|Acceleration|Aggression|Agility|Balance|Ball control|Composure|Crossing|Curve|Dribbling|Finishing|Free kick accuracy|GK diving|GK handling|GK kicking|GK positioning|GK reflexes|Heading accuracy|Interceptions|Jumping|Long passing|Long shots|Marking|Penalties|Positioning|Reactions|Short passing|Shot power|Sliding tackle|Sprint speed|Stamina|Standing tackle|Strength|Vision|Volleys| CAM|  CB| CDM|  CF|  CM|    ID| LAM|  LB| LCB| LCM| LDM|  LF|  LM|  LS|  LW| LWB|Preferred Positions| RAM|  RB| RCB| RCM| RDM|  RF|  RM|  RS|  RW| RWB|  ST|log_Value|\n",
            "+------------+-------------+---+--------------------+-----------+--------------------+-------+---------+-------------------+--------------------+------+-----+-------+------------+----------+-------+-------+------------+---------+--------+-----+---------+---------+------------------+---------+-----------+----------+--------------+-----------+----------------+-------------+-------+------------+----------+-------+---------+-----------+---------+-------------+----------+--------------+------------+-------+---------------+--------+------+-------+----+----+----+----+----+------+----+----+----+----+----+----+----+----+----+----+-------------------+----+----+----+----+----+----+----+----+----+----+----+---------+\n",
            "|           1|     L. Messi| 30|https://cdn.sofif...|  Argentina|https://cdn.sofif...|     93|       93|       FC Barcelona|https://cdn.sofif...| €105M|€565K|   2154|        92.0|      48.0|   90.0|   95.0|        95.0|     96.0|    77.0| 89.0|     97.0|     95.0|              90.0|      6.0|       11.0|      15.0|          14.0|        8.0|            71.0|         22.0|   68.0|        87.0|      88.0|   13.0|     74.0|       93.0|     95.0|         88.0|      85.0|          26.0|        87.0|   73.0|           28.0|    59.0|  90.0|   85.0|  92|  45|  59|  92|  84|158023|  92|  57|  45|  84|  59|  92|  90|  88|  91|  62|                RW |  92|  57|  45|  84|  59|  92|  90|  88|  91|  62|  88|     null|\n",
            "|           9|   G. Higuaín| 29|https://cdn.sofif...|  Argentina|https://cdn.sofif...|     90|       90|           Juventus|https://cdn.sofif...|  €77M|€275K|   1961|        78.0|      50.0|   75.0|   69.0|        85.0|     86.0|    68.0| 74.0|     84.0|     91.0|              62.0|      5.0|       12.0|       7.0|           5.0|       10.0|            86.0|         20.0|   79.0|        59.0|      82.0|   12.0|     70.0|       92.0|     88.0|         75.0|      88.0|          18.0|        80.0|   72.0|           22.0|    85.0|  70.0|   88.0|  81|  46|  52|  84|  71|167664|  81|  51|  46|  71|  52|  84|  79|  87|  82|  55|                ST |  81|  51|  46|  71|  52|  84|  79|  87|  82|  55|  87|     null|\n",
            "|          16|    S. Agüero| 29|https://cdn.sofif...|  Argentina|https://cdn.sofif...|     89|       89|    Manchester City|https://cdn.sofif...|€66.5M|€325K|   2074|        90.0|      63.0|   86.0|   91.0|        89.0|     90.0|    70.0| 82.0|     89.0|     90.0|              72.0|     13.0|       15.0|       6.0|          11.0|       14.0|            68.0|         24.0|   80.0|        63.0|      83.0|   13.0|     83.0|       91.0|     89.0|         79.0|      88.0|          12.0|        84.0|   74.0|           20.0|    74.0|  83.0|   85.0|  85|  44|  54|  87|  75|153079|  85|  52|  44|  75|  54|  87|  84|  86|  86|  57|                ST |  85|  52|  44|  75|  54|  87|  84|  86|  86|  57|  86|     null|\n",
            "|          19|    P. Dybala| 23|https://cdn.sofif...|  Argentina|https://cdn.sofif...|     88|       93|           Juventus|https://cdn.sofif...|  €79M|€215K|   2063|        88.0|      48.0|   91.0|   85.0|        93.0|     84.0|    80.0| 88.0|     92.0|     85.0|              84.0|      5.0|        4.0|       4.0|           5.0|        8.0|            68.0|         24.0|   75.0|        71.0|      88.0|   14.0|     86.0|       84.0|     84.0|         83.0|      82.0|          20.0|        84.0|   83.0|           20.0|    65.0|  84.0|   88.0|  86|  43|  55|  86|  78|211110|  86|  55|  43|  78|  55|  86|  86|  83|  87|  60|            ST CAM |  86|  55|  43|  78|  55|  86|  86|  83|  87|  60|  83|     null|\n",
            "|          83|  A. Di María| 29|https://cdn.sofif...|  Argentina|https://cdn.sofif...|     85|       85|Paris Saint-Germain|https://cdn.sofif...|€37.5M|€145K|   2115|        86.0|      73.0|   92.0|   79.0|        85.0|     82.0|    85.0| 78.0|     86.0|     74.0|              72.0|     10.0|        7.0|      11.0|          12.0|       11.0|            53.0|         38.0|   72.0|        79.0|      77.0|   37.0|     73.0|       82.0|     80.0|         83.0|      83.0|          56.0|        86.0|   78.0|           59.0|    60.0|  81.0|   77.0|  83|  58|  66|  82|  78|183898|  83|  66|  58|  78|  66|  82|  83|  77|  83|  70|             LW RW |  83|  66|  58|  78|  66|  82|  83|  77|  83|  70|  77|     null|\n",
            "|         100|    M. Icardi| 24|https://cdn.sofif...|  Argentina|https://cdn.sofif...|     84|       89|              Inter|https://cdn.sofif...|  €42M|€105K|   1866|        75.0|      55.0|   74.0|   76.0|        77.0|     82.0|    46.0| 58.0|     74.0|     89.0|              45.0|     13.0|        9.0|       5.0|           7.0|        9.0|            84.0|         22.0|   92.0|        54.0|      70.0|   17.0|     78.0|       89.0|     83.0|         73.0|      81.0|          21.0|        80.0|   70.0|           21.0|    74.0|  64.0|   81.0|  75|  46|  50|  79|  67|201399|  75|  49|  46|  67|  50|  79|  73|  82|  75|  51|                ST |  75|  49|  46|  67|  50|  79|  73|  82|  75|  51|  82|     null|\n",
            "|         125|     A. Gómez| 29|https://cdn.sofif...|  Argentina|https://cdn.sofif...|     84|       84|           Atalanta|https://cdn.sofif...|  €31M| €60K|   2013|        94.0|      56.0|   92.0|   94.0|        87.0|     84.0|    82.0| 78.0|     89.0|     78.0|              71.0|      8.0|       11.0|      12.0|           9.0|        6.0|            36.0|         40.0|   70.0|        72.0|      78.0|   24.0|     71.0|       81.0|     83.0|         82.0|      76.0|          34.0|        86.0|   78.0|           30.0|    48.0|  85.0|   72.0|  84|  45|  59|  83|  77|143076|  84|  59|  45|  77|  59|  83|  84|  76|  85|  65|          ST LW CF |  84|  59|  45|  77|  59|  83|  84|  76|  85|  65|  76|     null|\n",
            "|         131|     G. Rulli| 25|https://cdn.sofif...|  Argentina|https://cdn.sofif...|     83|       89|      Real Sociedad|https://cdn.sofif...|€25.5M| €28K|   1284|        54.0|      26.0|   58.0|   50.0|        15.0|     30.0|    12.0| 19.0|     15.0|     15.0|              20.0|     85.0|       79.0|      75.0|          82.0|       86.0|            12.0|         21.0|   68.0|        23.0|      17.0|   16.0|     24.0|       12.0|     77.0|         32.0|      24.0|          17.0|        48.0|   42.0|           13.0|    73.0|  58.0|   16.0|null|null|null|null|null|215316|null|null|null|null|null|null|null|null|null|null|                GK |null|null|null|null|null|null|null|null|null|null|null|     null|\n",
            "|         154|  N. Otamendi| 29|https://cdn.sofif...|  Argentina|https://cdn.sofif...|     83|       83|    Manchester City|https://cdn.sofif...|  €20M|€140K|   1886|        62.0|      90.0|   69.0|   62.0|        64.0|     84.0|    52.0| 50.0|     41.0|     53.0|              39.0|     12.0|        5.0|       8.0|          11.0|       12.0|            83.0|         85.0|   86.0|        66.0|      56.0|   81.0|     44.0|       49.0|     78.0|         71.0|      69.0|          84.0|        64.0|   76.0|           83.0|    80.0|  45.0|   56.0|  58|  81|  76|  58|  64|192366|  58|  75|  81|  64|  76|  58|  58|  63|  57|  72|                CB |  58|  75|  81|  64|  76|  58|  58|  63|  57|  72|  63|     null|\n",
            "|         156|   J. Pastore| 28|https://cdn.sofif...|  Argentina|https://cdn.sofif...|     83|       83|Paris Saint-Germain|https://cdn.sofif...|€25.5M|€100K|   2066|        69.0|      65.0|   79.0|   58.0|        87.0|     79.0|    77.0| 83.0|     88.0|     73.0|              69.0|     14.0|        9.0|       6.0|          10.0|       12.0|            63.0|         69.0|   49.0|        83.0|      76.0|   49.0|     75.0|       78.0|     83.0|         87.0|      78.0|          51.0|        72.0|   67.0|           59.0|    64.0|  86.0|   78.0|  83|  63|  72|  81|  81|191180|  83|  68|  63|  81|  72|  81|  81|  77|  81|  71|          RW LW CM |  83|  68|  63|  81|  72|  81|  81|  77|  81|  71|  77|     null|\n",
            "|         164| M. Musacchio| 26|https://cdn.sofif...|  Argentina|https://cdn.sofif...|     83|       86|              Milan|https://cdn.sofif...|  €27M|€105K|   1917|        72.0|      81.0|   72.0|   59.0|        73.0|     76.0|    55.0| 53.0|     43.0|     48.0|              45.0|      5.0|       11.0|      12.0|           6.0|       12.0|            81.0|         85.0|   83.0|        70.0|      53.0|   85.0|     57.0|       50.0|     81.0|         78.0|      57.0|          86.0|        69.0|   70.0|           84.0|    81.0|  64.0|   36.0|  64|  82|  79|  62|  69|186547|  64|  78|  82|  69|  79|  62|  63|  62|  61|  75|                CB |  64|  78|  82|  69|  79|  62|  63|  62|  61|  75|  62|     null|\n",
            "|         169|    N. Gaitán| 29|https://cdn.sofif...|  Argentina|https://cdn.sofif...|     83|       83|    Atlético Madrid|https://cdn.sofif...|€25.5M| €70K|   2006|        84.0|      57.0|   87.0|   81.0|        84.0|     80.0|    82.0| 88.0|     85.0|     73.0|              72.0|      8.0|       11.0|       9.0|           7.0|        5.0|            54.0|         40.0|   68.0|        78.0|      74.0|   30.0|     71.0|       79.0|     84.0|         81.0|      72.0|          43.0|        79.0|   69.0|           42.0|    46.0|  82.0|   81.0|  81|  50|  61|  80|  76|184144|  81|  61|  50|  76|  61|  80|  81|  75|  81|  65|                LM |  81|  61|  50|  76|  61|  80|  81|  75|  81|  65|  75|     null|\n",
            "|         173|    E. Banega| 29|https://cdn.sofif...|  Argentina|https://cdn.sofif...|     83|       83|         Sevilla FC|https://cdn.sofif...|€25.5M| €27K|   2086|        71.0|      69.0|   84.0|   86.0|        85.0|     82.0|    80.0| 83.0|     83.0|     65.0|              81.0|     13.0|        8.0|       7.0|           7.0|       10.0|            45.0|         70.0|   58.0|        85.0|      77.0|   57.0|     67.0|       75.0|     78.0|         88.0|      74.0|          61.0|        67.0|   66.0|           69.0|    67.0|  85.0|   65.0|  81|  66|  75|  78|  81|178562|  81|  70|  66|  81|  75|  78|  79|  71|  79|  73|            CM CAM |  81|  70|  66|  81|  75|  78|  79|  71|  79|  73|  71|     null|\n",
            "|         180|     E. Garay| 30|https://cdn.sofif...|  Argentina|https://cdn.sofif...|     83|       83|        Valencia CF|https://cdn.sofif...|  €19M| €40K|   1952|        39.0|      74.0|   57.0|   38.0|        73.0|     79.0|    62.0| 55.0|     62.0|     58.0|              74.0|     14.0|        6.0|      13.0|          13.0|       14.0|            85.0|         84.0|   79.0|        72.0|      68.0|   84.0|     69.0|       49.0|     77.0|         69.0|      80.0|          82.0|        46.0|   74.0|           85.0|    85.0|  63.0|   49.0|  64|  81|  77|  63|  70|170481|  64|  74|  81|  70|  77|  63|  63|  66|  61|  72|                CB |  64|  74|  81|  70|  77|  63|  63|  66|  61|  72|  66|     null|\n",
            "|         186|    L. Biglia| 31|https://cdn.sofif...|  Argentina|https://cdn.sofif...|     83|       83|              Milan|https://cdn.sofif...|€17.5M|€105K|   2129|        70.0|      83.0|   76.0|   78.0|        85.0|     80.0|    74.0| 71.0|     77.0|     50.0|              76.0|     14.0|       12.0|       7.0|          12.0|        7.0|            54.0|         84.0|   62.0|        84.0|      75.0|   70.0|     72.0|       55.0|     82.0|         86.0|      77.0|          78.0|        68.0|   82.0|           80.0|    70.0|  80.0|   78.0|  76|  75|  81|  73|  80|158963|  76|  78|  75|  80|  81|  73|  75|  68|  73|  79|            CM CDM |  76|  78|  75|  80|  81|  73|  75|  68|  73|  79|  68|     null|\n",
            "|         190|J. Mascherano| 33|https://cdn.sofif...|  Argentina|https://cdn.sofif...|     83|       83|       FC Barcelona|https://cdn.sofif...|€10.5M|€155K|   1984|        67.0|      88.0|   72.0|   78.0|        80.0|     86.0|    63.0| 63.0|     58.0|     42.0|              50.0|      6.0|       10.0|       8.0|           5.0|        5.0|            68.0|         88.0|   75.0|        75.0|      55.0|   81.0|     60.0|       51.0|     83.0|         79.0|      76.0|          82.0|        64.0|   76.0|           83.0|    74.0|  68.0|   51.0|  68|  80|  81|  65|  73|142754|  68|  78|  80|  73|  81|  65|  67|  63|  65|  77|            CDM CB |  68|  78|  80|  73|  81|  65|  67|  63|  65|  77|  63|     null|\n",
            "|         233|      M. Rojo| 27|https://cdn.sofif...|  Argentina|https://cdn.sofif...|     82|       83|  Manchester United|https://cdn.sofif...|  €21M|€130K|   2045|        70.0|      92.0|   72.0|   64.0|        68.0|     74.0|    75.0| 67.0|     67.0|     50.0|              57.0|      7.0|        8.0|      12.0|          15.0|       10.0|            82.0|         80.0|   85.0|        73.0|      63.0|   79.0|     64.0|       57.0|     77.0|         72.0|      79.0|          80.0|        71.0|   79.0|           82.0|    82.0|  57.0|   49.0|  66|  80|  77|  66|  69|201862|  66|  77|  80|  69|  77|  66|  68|  67|  66|  76|             LB CB |  66|  77|  80|  69|  77|  66|  68|  67|  66|  76|  67|     null|\n",
            "|         268|     F. Fazio| 30|https://cdn.sofif...|  Argentina|https://cdn.sofif...|     82|       82|               Roma|https://cdn.sofif...|€16.5M| €73K|   1611|        31.0|      84.0|   29.0|   32.0|        72.0|     83.0|    44.0| 46.0|     48.0|     41.0|              37.0|      8.0|        9.0|      12.0|          11.0|       14.0|            89.0|         83.0|   40.0|        62.0|      26.0|   85.0|     33.0|       32.0|     82.0|         64.0|      63.0|          79.0|        30.0|   69.0|           84.0|    90.0|  47.0|   35.0|  52|  81|  75|  52|  61|179847|  52|  70|  81|  61|  75|  52|  53|  56|  49|  67|                CB |  52|  70|  81|  61|  75|  52|  53|  56|  49|  67|  56|     null|\n",
            "|         355|   M. Lanzini| 24|https://cdn.sofif...|  Argentina|https://cdn.sofif...|     81|       87|    West Ham United|https://cdn.sofif...|€24.5M| €95K|   1926|        85.0|      47.0|   88.0|   88.0|        86.0|     75.0|    74.0| 75.0|     87.0|     70.0|              76.0|     14.0|        9.0|       6.0|           7.0|       15.0|            56.0|         23.0|   76.0|        78.0|      73.0|   20.0|     73.0|       72.0|     73.0|         80.0|      75.0|          25.0|        80.0|   78.0|           32.0|    45.0|  79.0|   61.0|  80|  42|  55|  78|  74|188988|  80|  54|  42|  74|  55|  78|  80|  73|  79|  59|            LM CAM |  80|  54|  42|  74|  55|  78|  80|  73|  79|  59|  73|     null|\n",
            "|         362|   D. Perotti| 28|https://cdn.sofif...|  Argentina|https://cdn.sofif...|     81|       81|               Roma|https://cdn.sofif...|  €18M| €84K|   1921|        84.0|      51.0|   80.0|   79.0|        87.0|     81.0|    79.0| 72.0|     86.0|     66.0|              64.0|      5.0|        8.0|      14.0|           6.0|        8.0|            57.0|         36.0|   64.0|        69.0|      75.0|   24.0|     90.0|       78.0|     80.0|         82.0|      73.0|          22.0|        78.0|   75.0|           31.0|    54.0|  84.0|   60.0|  81|  45|  57|  80|  75|183900|  81|  56|  45|  75|  57|  80|  81|  74|  81|  61|             CF LW |  81|  56|  45|  75|  57|  80|  81|  74|  81|  61|  74|     null|\n",
            "+------------+-------------+---+--------------------+-----------+--------------------+-------+---------+-------------------+--------------------+------+-----+-------+------------+----------+-------+-------+------------+---------+--------+-----+---------+---------+------------------+---------+-----------+----------+--------------+-----------+----------------+-------------+-------+------------+----------+-------+---------+-----------+---------+-------------+----------+--------------+------------+-------+---------------+--------+------+-------+----+----+----+----+----+------+----+----+----+----+----+----+----+----+----+----+-------------------+----+----+----+----+----+----+----+----+----+----+----+---------+\n",
            "only showing top 20 rows\n",
            "\n",
            "+------------+-----------------+---+--------------------+-----------+--------------------+-------+---------+-------------------+--------------------+------+-----+-------+------------+----------+-------+-------+------------+---------+--------+-----+---------+---------+------------------+---------+-----------+----------+--------------+-----------+----------------+-------------+-------+------------+----------+-------+---------+-----------+---------+-------------+----------+--------------+------------+-------+---------------+--------+------+-------+----+----+----+----+----+------+----+----+----+----+----+----+----+----+----+----+-------------------+----+----+----+----+----+----+----+----+----+----+----+---------+\n",
            "|SerialNumber|             Name|Age|               Photo|Nationality|                Flag|Overall|Potential|               Club|           Club Logo| Value| Wage|Special|Acceleration|Aggression|Agility|Balance|Ball control|Composure|Crossing|Curve|Dribbling|Finishing|Free kick accuracy|GK diving|GK handling|GK kicking|GK positioning|GK reflexes|Heading accuracy|Interceptions|Jumping|Long passing|Long shots|Marking|Penalties|Positioning|Reactions|Short passing|Shot power|Sliding tackle|Sprint speed|Stamina|Standing tackle|Strength|Vision|Volleys| CAM|  CB| CDM|  CF|  CM|    ID| LAM|  LB| LCB| LCM| LDM|  LF|  LM|  LS|  LW| LWB|Preferred Positions| RAM|  RB| RCB| RCM| RDM|  RF|  RM|  RS|  RW| RWB|  ST|log_Value|\n",
            "+------------+-----------------+---+--------------------+-----------+--------------------+-------+---------+-------------------+--------------------+------+-----+-------+------------+----------+-------+-------+------------+---------+--------+-----+---------+---------+------------------+---------+-----------+----------+--------------+-----------+----------------+-------------+-------+------------+----------+-------+---------+-----------+---------+-------------+----------+--------------+------------+-------+---------------+--------+------+-------+----+----+----+----+----+------+----+----+----+----+----+----+----+----+----+----+-------------------+----+----+----+----+----+----+----+----+----+----+----+---------+\n",
            "|           0|Cristiano Ronaldo| 32|https://cdn.sofif...|   Portugal|https://cdn.sofif...|     94|       94|     Real Madrid CF|https://cdn.sofif...|€95.5M|€565K|   2228|        89.0|      63.0|   89.0|   63.0|        93.0|     95.0|    85.0| 81.0|     91.0|     94.0|              76.0|      7.0|       11.0|      15.0|          14.0|       11.0|            88.0|         29.0|   95.0|        77.0|      92.0|   22.0|     85.0|       95.0|     96.0|         83.0|      94.0|          23.0|        91.0|   92.0|           31.0|    80.0|  85.0|   88.0|  89|  53|  62|  91|  82| 20801|  89|  61|  53|  82|  62|  91|  89|  92|  91|  66|             ST LW |  89|  61|  53|  82|  62|  91|  89|  92|  91|  66|  92|     null|\n",
            "|           1|         L. Messi| 30|https://cdn.sofif...|  Argentina|https://cdn.sofif...|     93|       93|       FC Barcelona|https://cdn.sofif...| €105M|€565K|   2154|        92.0|      48.0|   90.0|   95.0|        95.0|     96.0|    77.0| 89.0|     97.0|     95.0|              90.0|      6.0|       11.0|      15.0|          14.0|        8.0|            71.0|         22.0|   68.0|        87.0|      88.0|   13.0|     74.0|       93.0|     95.0|         88.0|      85.0|          26.0|        87.0|   73.0|           28.0|    59.0|  90.0|   85.0|  92|  45|  59|  92|  84|158023|  92|  57|  45|  84|  59|  92|  90|  88|  91|  62|                RW |  92|  57|  45|  84|  59|  92|  90|  88|  91|  62|  88|     null|\n",
            "|           2|           Neymar| 25|https://cdn.sofif...|     Brazil|https://cdn.sofif...|     92|       94|Paris Saint-Germain|https://cdn.sofif...| €123M|€280K|   2100|        94.0|      56.0|   96.0|   82.0|        95.0|     92.0|    75.0| 81.0|     96.0|     89.0|              84.0|      9.0|        9.0|      15.0|          15.0|       11.0|            62.0|         36.0|   61.0|        75.0|      77.0|   21.0|     81.0|       90.0|     88.0|         81.0|      80.0|          33.0|        90.0|   78.0|           24.0|    53.0|  80.0|   83.0|  88|  46|  59|  88|  79|190871|  88|  59|  46|  79|  59|  88|  87|  84|  89|  64|                LW |  88|  59|  46|  79|  59|  88|  87|  84|  89|  64|  84|     null|\n",
            "|           3|        L. Suárez| 30|https://cdn.sofif...|    Uruguay|https://cdn.sofif...|     92|       92|       FC Barcelona|https://cdn.sofif...|  €97M|€510K|   2291|        88.0|      78.0|   86.0|   60.0|        91.0|     83.0|    77.0| 86.0|     86.0|     94.0|              84.0|     27.0|       25.0|      31.0|          33.0|       37.0|            77.0|         41.0|   69.0|        64.0|      86.0|   30.0|     85.0|       92.0|     93.0|         83.0|      87.0|          38.0|        77.0|   89.0|           45.0|    80.0|  84.0|   88.0|  87|  58|  65|  88|  80|176580|  87|  64|  58|  80|  65|  88|  85|  88|  87|  68|                ST |  87|  64|  58|  80|  65|  88|  85|  88|  87|  68|  88|     null|\n",
            "|           4|         M. Neuer| 31|https://cdn.sofif...|    Germany|https://cdn.sofif...|     92|       92|   FC Bayern Munich|https://cdn.sofif...|  €61M|€230K|   1493|        58.0|      29.0|   52.0|   35.0|        48.0|     70.0|    15.0| 14.0|     30.0|     13.0|              11.0|     91.0|       90.0|      95.0|          91.0|       89.0|            25.0|         30.0|   78.0|        59.0|      16.0|   10.0|     47.0|       12.0|     85.0|         55.0|      25.0|          11.0|        61.0|   44.0|           10.0|    83.0|  70.0|   11.0|null|null|null|null|null|167495|null|null|null|null|null|null|null|null|null|null|                GK |null|null|null|null|null|null|null|null|null|null|null|     null|\n",
            "|           5|   R. Lewandowski| 28|https://cdn.sofif...|     Poland|https://cdn.sofif...|     91|       91|   FC Bayern Munich|https://cdn.sofif...|  €92M|€355K|   2143|        79.0|      80.0|   78.0|   80.0|        89.0|     87.0|    62.0| 77.0|     85.0|     91.0|              84.0|     15.0|        6.0|      12.0|           8.0|       10.0|            85.0|         39.0|   84.0|        65.0|      83.0|   25.0|     81.0|       91.0|     91.0|         83.0|      88.0|          19.0|        83.0|   79.0|           42.0|    84.0|  78.0|   87.0|  84|  57|  62|  87|  78|188545|  84|  58|  57|  78|  62|  87|  82|  88|  84|  61|                ST |  84|  58|  57|  78|  62|  87|  82|  88|  84|  61|  88|     null|\n",
            "+------------+-----------------+---+--------------------+-----------+--------------------+-------+---------+-------------------+--------------------+------+-----+-------+------------+----------+-------+-------+------------+---------+--------+-----+---------+---------+------------------+---------+-----------+----------+--------------+-----------+----------------+-------------+-------+------------+----------+-------+---------+-----------+---------+-------------+----------+--------------+------------+-------+---------------+--------+------+-------+----+----+----+----+----+------+----+----+----+----+----+----+----+----+----+----+-------------------+----+----+----+----+----+----+----+----+----+----+----+---------+\n",
            "\n",
            "+------------+----+---+-----+-----------+----+-------+---------+----+---------+-----+----+-------+------------+----------+-------+-------+------------+---------+--------+-----+---------+---------+------------------+---------+-----------+----------+--------------+-----------+----------------+-------------+-------+------------+----------+-------+---------+-----------+---------+-------------+----------+--------------+------------+-------+---------------+--------+------+-------+---+---+---+---+---+---+---+---+---+---+---+---+---+---+---+---+-------------------+---+---+---+---+---+---+---+---+---+---+---+---------+\n",
            "|SerialNumber|Name|Age|Photo|Nationality|Flag|Overall|Potential|Club|Club Logo|Value|Wage|Special|Acceleration|Aggression|Agility|Balance|Ball control|Composure|Crossing|Curve|Dribbling|Finishing|Free kick accuracy|GK diving|GK handling|GK kicking|GK positioning|GK reflexes|Heading accuracy|Interceptions|Jumping|Long passing|Long shots|Marking|Penalties|Positioning|Reactions|Short passing|Shot power|Sliding tackle|Sprint speed|Stamina|Standing tackle|Strength|Vision|Volleys|CAM| CB|CDM| CF| CM| ID|LAM| LB|LCB|LCM|LDM| LF| LM| LS| LW|LWB|Preferred Positions|RAM| RB|RCB|RCM|RDM| RF| RM| RS| RW|RWB| ST|log_Value|\n",
            "+------------+----+---+-----+-----------+----+-------+---------+----+---------+-----+----+-------+------------+----------+-------+-------+------------+---------+--------+-----+---------+---------+------------------+---------+-----------+----------+--------------+-----------+----------------+-------------+-------+------------+----------+-------+---------+-----------+---------+-------------+----------+--------------+------------+-------+---------------+--------+------+-------+---+---+---+---+---+---+---+---+---+---+---+---+---+---+---+---+-------------------+---+---+---+---+---+---+---+---+---+---+---+---------+\n",
            "+------------+----+---+-----+-----------+----+-------+---------+----+---------+-----+----+-------+------------+----------+-------+-------+------------+---------+--------+-----+---------+---------+------------------+---------+-----------+----------+--------------+-----------+----------------+-------------+-------+------------+----------+-------+---------+-----------+---------+-------------+----------+--------------+------------+-------+---------------+--------+------+-------+---+---+---+---+---+---+---+---+---+---+---+---+---+---+---+---+-------------------+---+---+---+---+---+---+---+---+---+---+---+---------+\n",
            "\n"
          ]
        }
      ],
      "source": [
        "df.filter(df[\"Nationality\"] == \"Argentina\").show() # view all players from Argentina\n",
        "df.filter(df[\"Overall\"] > 90).show() # view all players with an overall rating greater than 90\n",
        "df.filter(df[\"Club\"] == \"Real Madrid\").show() # view all players on Real Madrid\n"
      ]
    },
    {
      "cell_type": "code",
      "execution_count": null,
      "metadata": {
        "colab": {
          "base_uri": "https://localhost:8080/"
        },
        "id": "RSLl8CVRmwkL",
        "outputId": "8b2ae3b2-d10f-40e0-e19a-9eb8e235117c"
      },
      "outputs": [
        {
          "name": "stdout",
          "output_type": "stream",
          "text": [
            "+--------------+-----------------+\n",
            "|   Nationality|     avg(Overall)|\n",
            "+--------------+-----------------+\n",
            "|          Cuba|             73.0|\n",
            "|          Oman|             73.0|\n",
            "|         Syria|             72.5|\n",
            "|    Mozambique|72.33333333333333|\n",
            "|     Guatemala|             72.0|\n",
            "|        Israel|71.16666666666667|\n",
            "|          Togo|             71.0|\n",
            "|       Eritrea|             71.0|\n",
            "|       Algeria|70.94736842105263|\n",
            "|         Chile|           70.896|\n",
            "|        Brazil|70.89532019704434|\n",
            "|       Belarus|70.77777777777777|\n",
            "|      Portugal|70.59945504087193|\n",
            "|       Ecuador|70.51351351351352|\n",
            "|         Gabon|             70.5|\n",
            "|        Serbia|70.44360902255639|\n",
            "|Czech Republic|70.17808219178082|\n",
            "|       Ukraine|70.04081632653062|\n",
            "|         Egypt|         69.96875|\n",
            "|         Spain|69.93915603532875|\n",
            "+--------------+-----------------+\n",
            "only showing top 20 rows\n",
            "\n",
            "+--------------------+-----------------+\n",
            "|                Club|     avg(Overall)|\n",
            "+--------------------+-----------------+\n",
            "|        FC Barcelona|            82.56|\n",
            "|            Juventus|81.65384615384616|\n",
            "|      Real Madrid CF|81.03846153846153|\n",
            "|    FC Bayern Munich|79.42307692307692|\n",
            "| Paris Saint-Germain|77.96428571428571|\n",
            "|   Manchester United|77.70588235294117|\n",
            "|              Napoli|77.65384615384616|\n",
            "|                Roma|77.37037037037037|\n",
            "|          Sevilla FC|76.96153846153847|\n",
            "|               Inter|            76.72|\n",
            "|             Chelsea|76.66666666666667|\n",
            "|         Sporting CP|         76.28125|\n",
            "|            FC Porto|76.09677419354838|\n",
            "|     Atlético Madrid|           75.875|\n",
            "|           Liverpool|           75.875|\n",
            "|             Arsenal|75.75757575757575|\n",
            "|   Borussia Dortmund|75.70588235294117|\n",
            "|Athletic Club de ...|75.70370370370371|\n",
            "|         Beşiktaş JK|75.61538461538461|\n",
            "|          SL Benfica|75.54838709677419|\n",
            "+--------------------+-----------------+\n",
            "only showing top 20 rows\n",
            "\n",
            "+----+------------+\n",
            "|Club|avg(Overall)|\n",
            "+----+------------+\n",
            "+----+------------+\n",
            "\n"
          ]
        }
      ],
      "source": [
        "df.groupBy(\"Nationality\").agg({\"Overall\": \"mean\"}).orderBy(\"avg(Overall)\", ascending=False).show() # view the average overall rating for each country, ordered by highest to lowest\n",
        "df.groupBy(\"Club\").agg({\"Overall\": \"mean\"}).orderBy(\"avg(Overall)\", ascending=False).show() # view the average overall rating for each club, ordered by highest to lowest\n",
        "df.filter(df[\"Age\"] == \"ST\").groupBy(\"Club\").agg({\"Overall\": \"mean\"}).orderBy(\"avg(Overall)\", ascending=False).show() # view the average overall rating for each club's strikers, ordered by highest to lowest\n"
      ]
    },
    {
      "cell_type": "code",
      "execution_count": null,
      "metadata": {
        "colab": {
          "base_uri": "https://localhost:8080/"
        },
        "id": "LvuPjRknTExP",
        "outputId": "312d0379-268b-4282-9925-027c95550347"
      },
      "outputs": [
        {
          "name": "stdout",
          "output_type": "stream",
          "text": [
            "+------------+-----------------+---+--------------------+-----------+--------------------+-------+---------+-------------------+--------------------+------+-----+-------+------------+----------+-------+-------+------------+---------+--------+-----+---------+---------+------------------+---------+-----------+----------+--------------+-----------+----------------+-------------+-------+------------+----------+-------+---------+-----------+---------+-------------+----------+--------------+------------+-------+---------------+--------+------+-------+----+----+----+----+----+------+----+----+----+----+----+----+----+----+----+----+-------------------+----+----+----+----+----+----+----+----+----+----+----+\n",
            "|SerialNumber|             Name|Age|               Photo|Nationality|                Flag|Overall|Potential|               Club|           Club Logo| Value| Wage|Special|Acceleration|Aggression|Agility|Balance|Ball control|Composure|Crossing|Curve|Dribbling|Finishing|Free kick accuracy|GK diving|GK handling|GK kicking|GK positioning|GK reflexes|Heading accuracy|Interceptions|Jumping|Long passing|Long shots|Marking|Penalties|Positioning|Reactions|Short passing|Shot power|Sliding tackle|Sprint speed|Stamina|Standing tackle|Strength|Vision|Volleys| CAM|  CB| CDM|  CF|  CM|    ID| LAM|  LB| LCB| LCM| LDM|  LF|  LM|  LS|  LW| LWB|Preferred Positions| RAM|  RB| RCB| RCM| RDM|  RF|  RM|  RS|  RW| RWB|  ST|\n",
            "+------------+-----------------+---+--------------------+-----------+--------------------+-------+---------+-------------------+--------------------+------+-----+-------+------------+----------+-------+-------+------------+---------+--------+-----+---------+---------+------------------+---------+-----------+----------+--------------+-----------+----------------+-------------+-------+------------+----------+-------+---------+-----------+---------+-------------+----------+--------------+------------+-------+---------------+--------+------+-------+----+----+----+----+----+------+----+----+----+----+----+----+----+----+----+----+-------------------+----+----+----+----+----+----+----+----+----+----+----+\n",
            "|           0|Cristiano Ronaldo| 32|https://cdn.sofif...|   Portugal|https://cdn.sofif...|     94|       94|     Real Madrid CF|https://cdn.sofif...|€95.5M|€565K|   2228|          89|        63|     89|     63|          93|       95|      85|   81|       91|       94|                76|        7|         11|        15|            14|         11|              88|           29|     95|          77|        92|     22|       85|         95|       96|           83|        94|            23|          91|     92|             31|      80|    85|     88|  89|  53|  62|  91|  82| 20801|  89|  61|  53|  82|  62|  91|  89|  92|  91|  66|             ST LW |  89|  61|  53|  82|  62|  91|  89|  92|  91|  66|  92|\n",
            "|           1|         L. Messi| 30|https://cdn.sofif...|  Argentina|https://cdn.sofif...|     93|       93|       FC Barcelona|https://cdn.sofif...| €105M|€565K|   2154|          92|        48|     90|     95|          95|       96|      77|   89|       97|       95|                90|        6|         11|        15|            14|          8|              71|           22|     68|          87|        88|     13|       74|         93|       95|           88|        85|            26|          87|     73|             28|      59|    90|     85|  92|  45|  59|  92|  84|158023|  92|  57|  45|  84|  59|  92|  90|  88|  91|  62|                RW |  92|  57|  45|  84|  59|  92|  90|  88|  91|  62|  88|\n",
            "|           2|           Neymar| 25|https://cdn.sofif...|     Brazil|https://cdn.sofif...|     92|       94|Paris Saint-Germain|https://cdn.sofif...| €123M|€280K|   2100|          94|        56|     96|     82|          95|       92|      75|   81|       96|       89|                84|        9|          9|        15|            15|         11|              62|           36|     61|          75|        77|     21|       81|         90|       88|           81|        80|            33|          90|     78|             24|      53|    80|     83|  88|  46|  59|  88|  79|190871|  88|  59|  46|  79|  59|  88|  87|  84|  89|  64|                LW |  88|  59|  46|  79|  59|  88|  87|  84|  89|  64|  84|\n",
            "|           3|        L. Suárez| 30|https://cdn.sofif...|    Uruguay|https://cdn.sofif...|     92|       92|       FC Barcelona|https://cdn.sofif...|  €97M|€510K|   2291|          88|        78|     86|     60|          91|       83|      77|   86|       86|       94|                84|       27|         25|        31|            33|         37|              77|           41|     69|          64|        86|     30|       85|         92|       93|           83|        87|            38|          77|     89|             45|      80|    84|     88|  87|  58|  65|  88|  80|176580|  87|  64|  58|  80|  65|  88|  85|  88|  87|  68|                ST |  87|  64|  58|  80|  65|  88|  85|  88|  87|  68|  88|\n",
            "|           4|         M. Neuer| 31|https://cdn.sofif...|    Germany|https://cdn.sofif...|     92|       92|   FC Bayern Munich|https://cdn.sofif...|  €61M|€230K|   1493|          58|        29|     52|     35|          48|       70|      15|   14|       30|       13|                11|       91|         90|        95|            91|         89|              25|           30|     78|          59|        16|     10|       47|         12|       85|           55|        25|            11|          61|     44|             10|      83|    70|     11|null|null|null|null|null|167495|null|null|null|null|null|null|null|null|null|null|                GK |null|null|null|null|null|null|null|null|null|null|null|\n",
            "|           5|   R. Lewandowski| 28|https://cdn.sofif...|     Poland|https://cdn.sofif...|     91|       91|   FC Bayern Munich|https://cdn.sofif...|  €92M|€355K|   2143|          79|        80|     78|     80|          89|       87|      62|   77|       85|       91|                84|       15|          6|        12|             8|         10|              85|           39|     84|          65|        83|     25|       81|         91|       91|           83|        88|            19|          83|     79|             42|      84|    78|     87|  84|  57|  62|  87|  78|188545|  84|  58|  57|  78|  62|  87|  82|  88|  84|  61|                ST |  84|  58|  57|  78|  62|  87|  82|  88|  84|  61|  88|\n",
            "|           6|           De Gea| 26|https://cdn.sofif...|      Spain|https://cdn.sofif...|     90|       92|  Manchester United|https://cdn.sofif...|€64.5M|€215K|   1458|          57|        38|     60|     43|          42|       64|      17|   21|       18|       13|                19|       90|         85|        87|            86|         90|              21|           30|     67|          51|        12|     13|       40|         12|       88|           50|        31|            13|          58|     40|             21|      64|    68|     13|null|null|null|null|null|193080|null|null|null|null|null|null|null|null|null|null|                GK |null|null|null|null|null|null|null|null|null|null|null|\n",
            "|           7|        E. Hazard| 26|https://cdn.sofif...|    Belgium|https://cdn.sofif...|     90|       91|            Chelsea|https://cdn.sofif...|€90.5M|€295K|   2096|          93|        54|     93|     91|          92|       87|      80|   82|       93|       83|                79|       11|         12|         6|             8|          8|              57|           41|     59|          81|        82|     25|       86|         85|       85|           86|        79|            22|          87|     79|             27|      65|    86|     79|  88|  47|  61|  87|  81|183277|  88|  59|  47|  81|  61|  87|  87|  82|  88|  64|                LW |  88|  59|  47|  81|  61|  87|  87|  82|  88|  64|  82|\n",
            "|           8|         T. Kroos| 27|https://cdn.sofif...|    Germany|https://cdn.sofif...|     90|       90|     Real Madrid CF|https://cdn.sofif...|  €79M|€340K|   2165|          60|        60|     71|     69|          89|       85|      85|   85|       79|       76|                84|       10|         11|        13|             7|         10|              54|           85|     32|          93|        90|     63|       73|         79|       86|           90|        87|            69|          52|     77|             82|      74|    88|     82|  83|  72|  82|  81|  87|182521|  83|  76|  72|  87|  82|  81|  81|  77|  80|  78|            CDM CM |  83|  76|  72|  87|  82|  81|  81|  77|  80|  78|  77|\n",
            "|           9|       G. Higuaín| 29|https://cdn.sofif...|  Argentina|https://cdn.sofif...|     90|       90|           Juventus|https://cdn.sofif...|  €77M|€275K|   1961|          78|        50|     75|     69|          85|       86|      68|   74|       84|       91|                62|        5|         12|         7|             5|         10|              86|           20|     79|          59|        82|     12|       70|         92|       88|           75|        88|            18|          80|     72|             22|      85|    70|     88|  81|  46|  52|  84|  71|167664|  81|  51|  46|  71|  52|  84|  79|  87|  82|  55|                ST |  81|  51|  46|  71|  52|  84|  79|  87|  82|  55|  87|\n",
            "|          10|     Sergio Ramos| 31|https://cdn.sofif...|      Spain|https://cdn.sofif...|     90|       90|     Real Madrid CF|https://cdn.sofif...|  €52M|€310K|   2153|          75|        84|     79|     60|          84|       80|      66|   73|       61|       60|                67|       11|          8|         9|             7|         11|              91|           88|     93|          72|        55|     86|       68|         52|       85|           78|        79|            91|          77|     84|             89|      81|    63|     66|  70|  87|  83|  70|  74|155862|  70|  84|  87|  74|  83|  70|  71|  72|  69|  81|                CB |  70|  84|  87|  74|  83|  70|  71|  72|  69|  81|  72|\n",
            "|          11|     K. De Bruyne| 26|https://cdn.sofif...|    Belgium|https://cdn.sofif...|     89|       92|    Manchester City|https://cdn.sofif...|  €83M|€285K|   2162|          76|        68|     80|     75|          87|       84|      90|   83|       85|       83|                83|       15|         13|         5|            10|         13|              53|           56|     65|          84|        86|     30|       77|         84|       88|           90|        85|            40|          75|     87|             51|      73|    90|     82|  86|  57|  70|  85|  84|192985|  86|  66|  57|  84|  70|  85|  85|  81|  85|  71|         RM CM CAM |  86|  66|  57|  84|  70|  85|  85|  81|  85|  71|  81|\n",
            "|          12|      T. Courtois| 25|https://cdn.sofif...|    Belgium|https://cdn.sofif...|     89|       92|            Chelsea|https://cdn.sofif...|  €59M|€190K|   1282|          46|        23|     61|     45|          23|       52|      14|   19|       13|       14|                11|       85|         91|        69|            86|         88|              13|           15|     68|          31|        17|     11|       27|         13|       81|           32|        36|            16|          52|     38|             18|      70|    44|     12|null|null|null|null|null|192119|null|null|null|null|null|null|null|null|null|null|                GK |null|null|null|null|null|null|null|null|null|null|null|\n",
            "|          13|       A. Sánchez| 28|https://cdn.sofif...|      Chile|https://cdn.sofif...|     89|       89|            Arsenal|https://cdn.sofif...|€67.5M|€265K|   2181|          88|        80|     90|     87|          87|       86|      80|   78|       90|       85|                78|       10|         10|        15|            12|         13|              70|           42|     85|          73|        82|     30|       77|         86|       87|           81|        84|            35|          84|     85|             39|      72|    83|     83|  85|  56|  64|  85|  79|184941|  85|  62|  56|  79|  64|  85|  85|  83|  86|  66|       RM LW ST LM |  85|  62|  56|  79|  64|  85|  85|  83|  86|  66|  83|\n",
            "|          14|        L. Modrić| 31|https://cdn.sofif...|    Croatia|https://cdn.sofif...|     89|       89|     Real Madrid CF|https://cdn.sofif...|  €57M|€340K|   2228|          75|        62|     93|     94|          92|       84|      78|   79|       86|       71|                77|       13|          9|         7|            14|          9|              55|           76|     67|          83|        82|     66|       80|         79|       88|           92|        73|            73|          71|     82|             80|      58|    90|     74|  86|  72|  80|  83|  86|177003|  86|  78|  72|  86|  80|  83|  84|  76|  83|  80|            CDM CM |  86|  78|  72|  86|  80|  83|  84|  76|  83|  80|  76|\n",
            "|          15|          G. Bale| 27|https://cdn.sofif...|      Wales|https://cdn.sofif...|     89|       89|     Real Madrid CF|https://cdn.sofif...|€69.5M|€370K|   2263|          93|        65|     77|     65|          87|       85|      87|   86|       89|       87|                85|       15|         15|        11|             5|          6|              86|           59|     85|          80|        90|     51|       76|         86|       87|           86|        91|            52|          95|     76|             55|      80|    79|     76|  86|  67|  71|  87|  81|173731|  86|  72|  67|  81|  71|  87|  87|  87|  87|  74|                RW |  86|  72|  67|  81|  71|  87|  87|  87|  87|  74|  87|\n",
            "|          16|        S. Agüero| 29|https://cdn.sofif...|  Argentina|https://cdn.sofif...|     89|       89|    Manchester City|https://cdn.sofif...|€66.5M|€325K|   2074|          90|        63|     86|     91|          89|       90|      70|   82|       89|       90|                72|       13|         15|         6|            11|         14|              68|           24|     80|          63|        83|     13|       83|         91|       89|           79|        88|            12|          84|     74|             20|      74|    83|     85|  85|  44|  54|  87|  75|153079|  85|  52|  44|  75|  54|  87|  84|  86|  86|  57|                ST |  85|  52|  44|  75|  54|  87|  84|  86|  86|  57|  86|\n",
            "|          17|     G. Chiellini| 32|https://cdn.sofif...|      Italy|https://cdn.sofif...|     89|       89|           Juventus|https://cdn.sofif...|  €38M|€225K|   1867|          68|        92|     59|     64|          57|       82|      58|   60|       58|       33|                31|        3|          3|         2|             4|          3|              84|           88|     89|          59|        49|     92|       50|         28|       82|           59|        78|            90|          78|     68|             92|      91|    50|     45|  55|  86|  76|  55|  60|138956|  55|  78|  86|  60|  76|  55|  58|  59|  56|  75|                CB |  55|  78|  86|  60|  76|  55|  58|  59|  56|  75|  59|\n",
            "|          18|        G. Buffon| 39|https://cdn.sofif...|      Italy|https://cdn.sofif...|     89|       89|           Juventus|https://cdn.sofif...| €4.5M|€110K|   1335|          49|        38|     55|     49|          28|       70|      13|   20|       26|       15|                13|       89|         88|        74|            90|         84|              13|           28|     75|          35|        13|     10|       22|         12|       80|           37|        39|            11|          43|     39|             11|      69|    50|     17|null|null|null|null|null|  1179|null|null|null|null|null|null|null|null|null|null|                GK |null|null|null|null|null|null|null|null|null|null|null|\n",
            "|          19|        P. Dybala| 23|https://cdn.sofif...|  Argentina|https://cdn.sofif...|     88|       93|           Juventus|https://cdn.sofif...|  €79M|€215K|   2063|          88|        48|     91|     85|          93|       84|      80|   88|       92|       85|                84|        5|          4|         4|             5|          8|              68|           24|     75|          71|        88|     14|       86|         84|       84|           83|        82|            20|          84|     83|             20|      65|    84|     88|  86|  43|  55|  86|  78|211110|  86|  55|  43|  78|  55|  86|  86|  83|  87|  60|            ST CAM |  86|  55|  43|  78|  55|  86|  86|  83|  87|  60|  83|\n",
            "+------------+-----------------+---+--------------------+-----------+--------------------+-------+---------+-------------------+--------------------+------+-----+-------+------------+----------+-------+-------+------------+---------+--------+-----+---------+---------+------------------+---------+-----------+----------+--------------+-----------+----------------+-------------+-------+------------+----------+-------+---------+-----------+---------+-------------+----------+--------------+------------+-------+---------------+--------+------+-------+----+----+----+----+----+------+----+----+----+----+----+----+----+----+----+----+-------------------+----+----+----+----+----+----+----+----+----+----+----+\n",
            "only showing top 20 rows\n",
            "\n"
          ]
        }
      ],
      "source": [
        "df = spark.read.csv(\"/content/FIFA18.csv\", inferSchema = True, header = True) \n",
        "df.show()\n",
        "\n",
        "from pyspark.sql.functions import mean, col\n",
        "# Select the columns that need to be filled with missing values\n",
        "cols_to_fill = ['Age', 'Overall', 'Potential', 'Special', 'Acceleration', 'Agility', 'Balance',\n",
        "                'Composure', 'Crossing', 'Curve', 'Dribbling', 'GK Diving', 'GK Handling', 'GK Kicking', \n",
        "                'GK Positioning', 'GK Reflexes', 'Heading Accuracy', 'Short Passing', 'Volleys', 'Interceptions',\n",
        "                'Free kick accuracy', 'Long passing', 'Ball control', 'Jumping', 'Marking', 'Long Shots', \n",
        "                'Penalties', 'Positioning', 'Reactions', 'Shot power', 'Standing tackle', 'Sliding tackle', \n",
        "                'Sprint speed', 'Aggression', 'Stamina', 'Strength', 'Vision', 'CAM', 'CB', 'CDM', 'CF', 'CM', \n",
        "                'LAM', 'LB', 'LCB', 'LCM', 'LDM', 'LF', 'LM', 'LS', 'LW', 'LWB', 'RAM', 'RB', 'RCB', 'RCM', \n",
        "                'RDM', 'RF', 'RM', 'RS', 'RW', 'RWB', 'ST', 'Finishing']\n",
        "\n",
        "# Fill missing values with the column mean\n",
        "for col_name in cols_to_fill:\n",
        "    col_mean = df.select(mean(col(col_name))).collect()[0][0]\n",
        "    df = df.na.fill(col_mean, [col_name])"
      ]
    },
    {
      "cell_type": "code",
      "execution_count": null,
      "metadata": {
        "id": "rqPJqnjYbPn6"
      },
      "outputs": [],
      "source": [
        "from pyspark.sql.functions import udf\n",
        "from pyspark.sql.types import FloatType\n",
        "\n",
        "def value_and_wage_conversion(value):\n",
        "    if isinstance(value, str):\n",
        "        out = value.replace('€', '')\n",
        "        if 'M' in out:\n",
        "            out = float(out.replace('M', ''))*1000000\n",
        "        elif 'K' in out:\n",
        "            out = float(out.replace('K', ''))*1000\n",
        "        return float(out)\n",
        "    \n",
        "value_and_wage_conversion_udf = udf(value_and_wage_conversion, FloatType())\n",
        "\n",
        "df = df.withColumn('Value', value_and_wage_conversion_udf('Value'))\n",
        "df = df.withColumn('Wage', value_and_wage_conversion_udf('Wage'))"
      ]
    },
    {
      "cell_type": "code",
      "execution_count": null,
      "metadata": {
        "id": "NlYxJyQucdW6"
      },
      "outputs": [],
      "source": [
        "from pyspark.sql.functions import when, col\n",
        "\n",
        "df = df.withColumn(\"Club\", when(col(\"Club\") == \"\", \"No Club\").otherwise(col(\"Club\")))\n",
        "df = df.withColumn(\"Preferred Positions\", when(col(\"Preferred Positions\") == \"\", \"unknown\").otherwise(col(\"Preferred Positions\")))\n"
      ]
    },
    {
      "cell_type": "code",
      "execution_count": null,
      "metadata": {
        "colab": {
          "base_uri": "https://localhost:8080/"
        },
        "id": "yhRGjPgwc6v9",
        "outputId": "29300aec-6228-479a-e270-62787722a0d2"
      },
      "outputs": [
        {
          "name": "stdout",
          "output_type": "stream",
          "text": [
            "+------------+-----------------+---+--------------------+-----------+--------------------+-------+---------+-------------------+--------------------+------+--------+-------+------------+----------+-------+-------+------------+---------+--------+-----+---------+---------+------------------+---------+-----------+----------+--------------+-----------+----------------+-------------+-------+------------+----------+-------+---------+-----------+---------+-------------+----------+--------------+------------+-------+---------------+--------+------+-------+---+---+---+---+---+------+---+---+---+---+---+---+---+---+---+---+-------------------+---+---+---+---+---+---+---+---+---+---+---+\n",
            "|SerialNumber|             Name|Age|               Photo|Nationality|                Flag|Overall|Potential|               Club|           Club Logo| Value|    Wage|Special|Acceleration|Aggression|Agility|Balance|Ball control|Composure|Crossing|Curve|Dribbling|Finishing|Free kick accuracy|GK diving|GK handling|GK kicking|GK positioning|GK reflexes|Heading accuracy|Interceptions|Jumping|Long passing|Long shots|Marking|Penalties|Positioning|Reactions|Short passing|Shot power|Sliding tackle|Sprint speed|Stamina|Standing tackle|Strength|Vision|Volleys|CAM| CB|CDM| CF| CM|    ID|LAM| LB|LCB|LCM|LDM| LF| LM| LS| LW|LWB|Preferred Positions|RAM| RB|RCB|RCM|RDM| RF| RM| RS| RW|RWB| ST|\n",
            "+------------+-----------------+---+--------------------+-----------+--------------------+-------+---------+-------------------+--------------------+------+--------+-------+------------+----------+-------+-------+------------+---------+--------+-----+---------+---------+------------------+---------+-----------+----------+--------------+-----------+----------------+-------------+-------+------------+----------+-------+---------+-----------+---------+-------------+----------+--------------+------------+-------+---------------+--------+------+-------+---+---+---+---+---+------+---+---+---+---+---+---+---+---+---+---+-------------------+---+---+---+---+---+---+---+---+---+---+---+\n",
            "|           0|Cristiano Ronaldo| 32|https://cdn.sofif...|   Portugal|https://cdn.sofif...|     94|       94|     Real Madrid CF|https://cdn.sofif...|9.55E7|565000.0|   2228|          89|        63|     89|     63|          93|       95|      85|   81|       91|       94|                76|        7|         11|        15|            14|         11|              88|           29|     95|          77|        92|     22|       85|         95|       96|           83|        94|            23|          91|     92|             31|      80|    85|     88|0.0|0.0|0.0|0.0|0.0| 20801|0.0|0.0|0.0|0.0|0.0|0.0|0.0|0.0|0.0|0.0|             ST LW |0.0|0.0|0.0|0.0|0.0|0.0|0.0|0.0|0.0|0.0|0.0|\n",
            "|           1|         L. Messi| 30|https://cdn.sofif...|  Argentina|https://cdn.sofif...|     93|       93|       FC Barcelona|https://cdn.sofif...|1.05E8|565000.0|   2154|          92|        48|     90|     95|          95|       96|      77|   89|       97|       95|                90|        6|         11|        15|            14|          8|              71|           22|     68|          87|        88|     13|       74|         93|       95|           88|        85|            26|          87|     73|             28|      59|    90|     85|0.0|0.0|0.0|0.0|0.0|158023|0.0|0.0|0.0|0.0|0.0|0.0|0.0|0.0|0.0|0.0|                RW |0.0|0.0|0.0|0.0|0.0|0.0|0.0|0.0|0.0|0.0|0.0|\n",
            "|           2|           Neymar| 25|https://cdn.sofif...|     Brazil|https://cdn.sofif...|     92|       94|Paris Saint-Germain|https://cdn.sofif...|1.23E8|280000.0|   2100|          94|        56|     96|     82|          95|       92|      75|   81|       96|       89|                84|        9|          9|        15|            15|         11|              62|           36|     61|          75|        77|     21|       81|         90|       88|           81|        80|            33|          90|     78|             24|      53|    80|     83|0.0|0.0|0.0|0.0|0.0|190871|0.0|0.0|0.0|0.0|0.0|0.0|0.0|0.0|0.0|0.0|                LW |0.0|0.0|0.0|0.0|0.0|0.0|0.0|0.0|0.0|0.0|0.0|\n",
            "|           3|        L. Suárez| 30|https://cdn.sofif...|    Uruguay|https://cdn.sofif...|     92|       92|       FC Barcelona|https://cdn.sofif...| 9.7E7|510000.0|   2291|          88|        78|     86|     60|          91|       83|      77|   86|       86|       94|                84|       27|         25|        31|            33|         37|              77|           41|     69|          64|        86|     30|       85|         92|       93|           83|        87|            38|          77|     89|             45|      80|    84|     88|0.0|0.0|0.0|0.0|0.0|176580|0.0|0.0|0.0|0.0|0.0|0.0|0.0|0.0|0.0|0.0|                ST |0.0|0.0|0.0|0.0|0.0|0.0|0.0|0.0|0.0|0.0|0.0|\n",
            "|           4|         M. Neuer| 31|https://cdn.sofif...|    Germany|https://cdn.sofif...|     92|       92|   FC Bayern Munich|https://cdn.sofif...| 6.1E7|230000.0|   1493|          58|        29|     52|     35|          48|       70|      15|   14|       30|       13|                11|       91|         90|        95|            91|         89|              25|           30|     78|          59|        16|     10|       47|         12|       85|           55|        25|            11|          61|     44|             10|      83|    70|     11|0.0|0.0|0.0|0.0|0.0|167495|0.0|0.0|0.0|0.0|0.0|0.0|0.0|0.0|0.0|0.0|                GK |0.0|0.0|0.0|0.0|0.0|0.0|0.0|0.0|0.0|0.0|0.0|\n",
            "+------------+-----------------+---+--------------------+-----------+--------------------+-------+---------+-------------------+--------------------+------+--------+-------+------------+----------+-------+-------+------------+---------+--------+-----+---------+---------+------------------+---------+-----------+----------+--------------+-----------+----------------+-------------+-------+------------+----------+-------+---------+-----------+---------+-------------+----------+--------------+------------+-------+---------------+--------+------+-------+---+---+---+---+---+------+---+---+---+---+---+---+---+---+---+---+-------------------+---+---+---+---+---+---+---+---+---+---+---+\n",
            "only showing top 5 rows\n",
            "\n"
          ]
        }
      ],
      "source": [
        "#Function to convert skill rating at each position.\n",
        "def skillConverter(val):\n",
        "  if type(val) == str:\n",
        "    s1 = val[0:2]\n",
        "    s2 = val[-1]\n",
        "    val = int(s1) + int(s2)\n",
        "    return val\n",
        "  else:\n",
        "   return val\n",
        "\n",
        "skill_columns = ['LS', 'ST', 'RS', 'LW', 'LF', 'CF', 'RF', 'RW', 'LAM', 'CAM',\n",
        "'RAM', 'LM', 'LCM', 'CM', 'RCM', 'RM', 'LWB', 'LDM', 'CDM', 'RDM',\n",
        "'RWB', 'LB', 'LCB', 'CB', 'RCB', 'RB']\n",
        "\n",
        "from pyspark.sql.functions import udf\n",
        "from pyspark.sql.types import DoubleType\n",
        "\n",
        "skillConverter_udf = udf(skillConverter, DoubleType())\n",
        "\n",
        "for col in skill_columns:\n",
        "  df = df.withColumn(col, skillConverter_udf(col))\n",
        "  df = df.fillna({col: 0.0})\n",
        "df.show(5)"
      ]
    },
    {
      "cell_type": "code",
      "execution_count": null,
      "metadata": {
        "colab": {
          "base_uri": "https://localhost:8080/"
        },
        "id": "c8YU8dxoeWlg",
        "outputId": "96fe9396-bc57-46ab-b59f-74c3b7b85ada"
      },
      "outputs": [
        {
          "name": "stdout",
          "output_type": "stream",
          "text": [
            "+------------+-----+-----+-----+-----------+-----+-------+---------+-----+---------+-----+-----+-------+------------+----------+-------+-------+------------+---------+--------+-----+---------+---------+------------------+---------+-----------+----------+--------------+-----------+----------------+-------------+-------+------------+----------+-------+---------+-----------+---------+-------------+----------+--------------+------------+-------+---------------+--------+------+-------+-----+-----+-----+-----+-----+-----+-----+-----+-----+-----+-----+-----+-----+-----+-----+-----+-------------------+-----+-----+-----+-----+-----+-----+-----+-----+-----+-----+-----+\n",
            "|SerialNumber| Name|  Age|Photo|Nationality| Flag|Overall|Potential| Club|Club Logo|Value| Wage|Special|Acceleration|Aggression|Agility|Balance|Ball control|Composure|Crossing|Curve|Dribbling|Finishing|Free kick accuracy|GK diving|GK handling|GK kicking|GK positioning|GK reflexes|Heading accuracy|Interceptions|Jumping|Long passing|Long shots|Marking|Penalties|Positioning|Reactions|Short passing|Shot power|Sliding tackle|Sprint speed|Stamina|Standing tackle|Strength|Vision|Volleys|  CAM|   CB|  CDM|   CF|   CM|   ID|  LAM|   LB|  LCB|  LCM|  LDM|   LF|   LM|   LS|   LW|  LWB|Preferred Positions|  RAM|   RB|  RCB|  RCM|  RDM|   RF|   RM|   RS|   RW|  RWB|   ST|\n",
            "+------------+-----+-----+-----+-----------+-----+-------+---------+-----+---------+-----+-----+-------+------------+----------+-------+-------+------------+---------+--------+-----+---------+---------+------------------+---------+-----------+----------+--------------+-----------+----------------+-------------+-------+------------+----------+-------+---------+-----------+---------+-------------+----------+--------------+------------+-------+---------------+--------+------+-------+-----+-----+-----+-----+-----+-----+-----+-----+-----+-----+-----+-----+-----+-----+-----+-----+-------------------+-----+-----+-----+-----+-----+-----+-----+-----+-----+-----+-----+\n",
            "|       17981|17981|17981|17981|      17981|17981|  17981|    17981|17981|    17981|17981|17981|  17981|       17981|     17981|  17981|  17981|       17981|    17981|   17981|17981|    17981|    17981|             17981|    17981|      17981|     17981|         17981|      17981|           17981|        17981|  17981|       17981|     17981|  17981|    17981|      17981|    17981|        17981|     17981|         17981|       17981|  17981|          17981|   17981| 17981|  17981|17981|17981|17981|17981|17981|17981|17981|17981|17981|17981|17981|17981|17981|17981|17981|17981|              17981|17981|17981|17981|17981|17981|17981|17981|17981|17981|17981|17981|\n",
            "+------------+-----+-----+-----+-----------+-----+-------+---------+-----+---------+-----+-----+-------+------------+----------+-------+-------+------------+---------+--------+-----+---------+---------+------------------+---------+-----------+----------+--------------+-----------+----------------+-------------+-------+------------+----------+-------+---------+-----------+---------+-------------+----------+--------------+------------+-------+---------------+--------+------+-------+-----+-----+-----+-----+-----+-----+-----+-----+-----+-----+-----+-----+-----+-----+-----+-----+-------------------+-----+-----+-----+-----+-----+-----+-----+-----+-----+-----+-----+\n",
            "\n"
          ]
        }
      ],
      "source": [
        "from pyspark.sql.functions import isnan, count\n",
        "\n",
        "# Count the number of null values in each column\n",
        "null_counts = df.select([count(isnan(c)).alias(c) for c in df.columns])\n",
        "\n",
        "# Show the null counts\n",
        "null_counts.show()\n"
      ]
    },
    {
      "cell_type": "code",
      "execution_count": null,
      "metadata": {
        "colab": {
          "base_uri": "https://localhost:8080/",
          "height": 731
        },
        "id": "ALRt_RpHfAIe",
        "outputId": "a4451c28-a962-4a6a-95b6-fe9e2f2d4c42"
      },
      "outputs": [
        {
          "data": {
            "image/png": "[encoded data removed]",
            "text/plain": [
              "<Figure size 1000x800 with 1 Axes>"
            ]
          },
          "metadata": {},
          "output_type": "display_data"
        }
      ],
      "source": [
        "from pyspark.sql.functions import count\n",
        "import matplotlib.pyplot as plt\n",
        "import seaborn as sns\n",
        "age_counts = df.groupBy('Age').agg(count('*').alias('count')).orderBy('Age')\n",
        "age_counts_pd = age_counts.toPandas()\n",
        "\n",
        "plt.figure(figsize=(10,8))\n",
        "ax = sns.barplot(x='Age', y='count', data=age_counts_pd, color='#00ffff')\n",
        "ax.set_xlabel(xlabel='Age of the Players', fontsize=16)\n",
        "ax.set_title(label='Distribution of Age of the Players', fontsize=20)\n",
        "plt.show()\n"
      ]
    },
    {
      "cell_type": "code",
      "execution_count": null,
      "metadata": {
        "colab": {
          "base_uri": "https://localhost:8080/",
          "height": 696
        },
        "id": "NRIXsqm5gZ3w",
        "outputId": "fac80b46-8399-4756-8124-a91abbbe519d"
      },
      "outputs": [
        {
          "data": {
            "image/png": "[encoded data removed]",
            "text/plain": [
              "<Figure size 1000x800 with 1 Axes>"
            ]
          },
          "metadata": {},
          "output_type": "display_data"
        }
      ],
      "source": [
        "from pyspark.sql.functions import avg\n",
        "\n",
        "overall = df.groupBy('Age').agg(avg('Overall').alias('Overall'))\n",
        "potential = df.groupBy('Age').agg(avg('Potential').alias('Potential'))\n",
        "\n",
        "merged = overall.join(potential, on='Age', how='inner')\n",
        "\n",
        "fig, ax = plt.subplots(figsize=(10,8))\n",
        "\n",
        "merged_pd = merged.toPandas()\n",
        "\n",
        "plt.plot('Age', 'Overall', data=merged_pd, marker='.', color='#00ffff', lw=1, label =\"Overall\" )\n",
        "plt.plot('Age', 'Potential', data=merged_pd, marker='+', color='#0000cc', lw=1, label = \"Potential\")\n",
        "plt.xlabel('Overall Rating')\n",
        "plt.ylabel('Average Growth Potential by Age')\n",
        "plt.legend();"
      ]
    },
    {
      "cell_type": "code",
      "execution_count": null,
      "metadata": {
        "colab": {
          "base_uri": "https://localhost:8080/",
          "height": 542
        },
        "id": "KvsPzZkmg7i9",
        "outputId": "c0634865-a51e-4542-dff5-6a119fb1e965"
      },
      "outputs": [
        {
          "data": {
            "text/html": [
              "<html>\n",
              "<head><meta charset=\"utf-8\" /></head>\n",
              "<body>\n",
              "    <div>            <script src=\"https://cdnjs.cloudflare.com/ajax/libs/mathjax/2.7.5/MathJax.js?config=TeX-AMS-MML_SVG\"></script><script type=\"text/javascript\">if (window.MathJax && window.MathJax.Hub && window.MathJax.Hub.Config) {window.MathJax.Hub.Config({SVG: {font: \"STIX-Web\"}});}</script>                <script type=\"text/javascript\">window.PlotlyConfig = {MathJaxConfig: 'local'};</script>\n",
              "        <script src=\"https://cdn.plot.ly/plotly-2.18.2.min.js\"></script>                <div id=\"efabc58e-34d8-4594-a1ee-1e96b5d19c9b\" class=\"plotly-graph-div\" style=\"height:525px; width:100%;\"></div>            <script type=\"text/javascript\">                                    window.PLOTLYENV=window.PLOTLYENV || {};                                    if (document.getElementById(\"efabc58e-34d8-4594-a1ee-1e96b5d19c9b\")) {                    Plotly.newPlot(                        \"efabc58e-34d8-4594-a1ee-1e96b5d19c9b\",                        [{\"alignmentgroup\":\"True\",\"hovertemplate\":\"Overall=%{x}<br>Club=%{y}<extra></extra>\",\"legendgroup\":\"\",\"marker\":{\"color\":\"#636efa\",\"pattern\":{\"shape\":\"\"}},\"name\":\"\",\"offsetgroup\":\"\",\"orientation\":\"h\",\"showlegend\":false,\"textposition\":\"auto\",\"x\":[82.56,81.65384615384616,81.03846153846153,79.42307692307692,77.96428571428571,77.70588235294117,77.65384615384616,77.37037037037037,76.96153846153847,76.72,76.66666666666667,76.28125,76.09677419354838,75.875,75.875,75.75757575757575,75.70588235294117,75.70370370370371,75.61538461538461,75.54838709677419],\"xaxis\":\"x\",\"y\":[\"FC Barcelona\",\"Juventus\",\"Real Madrid CF\",\"FC Bayern Munich\",\"Paris Saint-Germain\",\"Manchester United\",\"Napoli\",\"Roma\",\"Sevilla FC\",\"Inter\",\"Chelsea\",\"Sporting CP\",\"FC Porto\",\"Liverpool\",\"Atl\\u00e9tico Madrid\",\"Arsenal\",\"Borussia Dortmund\",\"Athletic Club de Bilbao\",\"Be\\u015fikta\\u015f JK\",\"SL Benfica\"],\"yaxis\":\"y\",\"type\":\"bar\"}],                        {\"template\":{\"data\":{\"histogram2dcontour\":[{\"type\":\"histogram2dcontour\",\"colorbar\":{\"outlinewidth\":0,\"ticks\":\"\"},\"colorscale\":[[0.0,\"#0d0887\"],[0.1111111111111111,\"#46039f\"],[0.2222222222222222,\"#7201a8\"],[0.3333333333333333,\"#9c179e\"],[0.4444444444444444,\"#bd3786\"],[0.5555555555555556,\"#d8576b\"],[0.6666666666666666,\"#ed7953\"],[0.7777777777777778,\"#fb9f3a\"],[0.8888888888888888,\"#fdca26\"],[1.0,\"#f0f921\"]]}],\"choropleth\":[{\"type\":\"choropleth\",\"colorbar\":{\"outlinewidth\":0,\"ticks\":\"\"}}],\"histogram2d\":[{\"type\":\"histogram2d\",\"colorbar\":{\"outlinewidth\":0,\"ticks\":\"\"},\"colorscale\":[[0.0,\"#0d0887\"],[0.1111111111111111,\"#46039f\"],[0.2222222222222222,\"#7201a8\"],[0.3333333333333333,\"#9c179e\"],[0.4444444444444444,\"#bd3786\"],[0.5555555555555556,\"#d8576b\"],[0.6666666666666666,\"#ed7953\"],[0.7777777777777778,\"#fb9f3a\"],[0.8888888888888888,\"#fdca26\"],[1.0,\"#f0f921\"]]}],\"heatmap\":[{\"type\":\"heatmap\",\"colorbar\":{\"outlinewidth\":0,\"ticks\":\"\"},\"colorscale\":[[0.0,\"#0d0887\"],[0.1111111111111111,\"#46039f\"],[0.2222222222222222,\"#7201a8\"],[0.3333333333333333,\"#9c179e\"],[0.4444444444444444,\"#bd3786\"],[0.5555555555555556,\"#d8576b\"],[0.6666666666666666,\"#ed7953\"],[0.7777777777777778,\"#fb9f3a\"],[0.8888888888888888,\"#fdca26\"],[1.0,\"#f0f921\"]]}],\"heatmapgl\":[{\"type\":\"heatmapgl\",\"colorbar\":{\"outlinewidth\":0,\"ticks\":\"\"},\"colorscale\":[[0.0,\"#0d0887\"],[0.1111111111111111,\"#46039f\"],[0.2222222222222222,\"#7201a8\"],[0.3333333333333333,\"#9c179e\"],[0.4444444444444444,\"#bd3786\"],[0.5555555555555556,\"#d8576b\"],[0.6666666666666666,\"#ed7953\"],[0.7777777777777778,\"#fb9f3a\"],[0.8888888888888888,\"#fdca26\"],[1.0,\"#f0f921\"]]}],\"contourcarpet\":[{\"type\":\"contourcarpet\",\"colorbar\":{\"outlinewidth\":0,\"ticks\":\"\"}}],\"contour\":[{\"type\":\"contour\",\"colorbar\":{\"outlinewidth\":0,\"ticks\":\"\"},\"colorscale\":[[0.0,\"#0d0887\"],[0.1111111111111111,\"#46039f\"],[0.2222222222222222,\"#7201a8\"],[0.3333333333333333,\"#9c179e\"],[0.4444444444444444,\"#bd3786\"],[0.5555555555555556,\"#d8576b\"],[0.6666666666666666,\"#ed7953\"],[0.7777777777777778,\"#fb9f3a\"],[0.8888888888888888,\"#fdca26\"],[1.0,\"#f0f921\"]]}],\"surface\":[{\"type\":\"surface\",\"colorbar\":{\"outlinewidth\":0,\"ticks\":\"\"},\"colorscale\":[[0.0,\"#0d0887\"],[0.1111111111111111,\"#46039f\"],[0.2222222222222222,\"#7201a8\"],[0.3333333333333333,\"#9c179e\"],[0.4444444444444444,\"#bd3786\"],[0.5555555555555556,\"#d8576b\"],[0.6666666666666666,\"#ed7953\"],[0.7777777777777778,\"#fb9f3a\"],[0.8888888888888888,\"#fdca26\"],[1.0,\"#f0f921\"]]}],\"mesh3d\":[{\"type\":\"mesh3d\",\"colorbar\":{\"outlinewidth\":0,\"ticks\":\"\"}}],\"scatter\":[{\"fillpattern\":{\"fillmode\":\"overlay\",\"size\":10,\"solidity\":0.2},\"type\":\"scatter\"}],\"parcoords\":[{\"type\":\"parcoords\",\"line\":{\"colorbar\":{\"outlinewidth\":0,\"ticks\":\"\"}}}],\"scatterpolargl\":[{\"type\":\"scatterpolargl\",\"marker\":{\"colorbar\":{\"outlinewidth\":0,\"ticks\":\"\"}}}],\"bar\":[{\"error_x\":{\"color\":\"#2a3f5f\"},\"error_y\":{\"color\":\"#2a3f5f\"},\"marker\":{\"line\":{\"color\":\"#E5ECF6\",\"width\":0.5},\"pattern\":{\"fillmode\":\"overlay\",\"size\":10,\"solidity\":0.2}},\"type\":\"bar\"}],\"scattergeo\":[{\"type\":\"scattergeo\",\"marker\":{\"colorbar\":{\"outlinewidth\":0,\"ticks\":\"\"}}}],\"scatterpolar\":[{\"type\":\"scatterpolar\",\"marker\":{\"colorbar\":{\"outlinewidth\":0,\"ticks\":\"\"}}}],\"histogram\":[{\"marker\":{\"pattern\":{\"fillmode\":\"overlay\",\"size\":10,\"solidity\":0.2}},\"type\":\"histogram\"}],\"scattergl\":[{\"type\":\"scattergl\",\"marker\":{\"colorbar\":{\"outlinewidth\":0,\"ticks\":\"\"}}}],\"scatter3d\":[{\"type\":\"scatter3d\",\"line\":{\"colorbar\":{\"outlinewidth\":0,\"ticks\":\"\"}},\"marker\":{\"colorbar\":{\"outlinewidth\":0,\"ticks\":\"\"}}}],\"scattermapbox\":[{\"type\":\"scattermapbox\",\"marker\":{\"colorbar\":{\"outlinewidth\":0,\"ticks\":\"\"}}}],\"scatterternary\":[{\"type\":\"scatterternary\",\"marker\":{\"colorbar\":{\"outlinewidth\":0,\"ticks\":\"\"}}}],\"scattercarpet\":[{\"type\":\"scattercarpet\",\"marker\":{\"colorbar\":{\"outlinewidth\":0,\"ticks\":\"\"}}}],\"carpet\":[{\"aaxis\":{\"endlinecolor\":\"#2a3f5f\",\"gridcolor\":\"white\",\"linecolor\":\"white\",\"minorgridcolor\":\"white\",\"startlinecolor\":\"#2a3f5f\"},\"baxis\":{\"endlinecolor\":\"#2a3f5f\",\"gridcolor\":\"white\",\"linecolor\":\"white\",\"minorgridcolor\":\"white\",\"startlinecolor\":\"#2a3f5f\"},\"type\":\"carpet\"}],\"table\":[{\"cells\":{\"fill\":{\"color\":\"#EBF0F8\"},\"line\":{\"color\":\"white\"}},\"header\":{\"fill\":{\"color\":\"#C8D4E3\"},\"line\":{\"color\":\"white\"}},\"type\":\"table\"}],\"barpolar\":[{\"marker\":{\"line\":{\"color\":\"#E5ECF6\",\"width\":0.5},\"pattern\":{\"fillmode\":\"overlay\",\"size\":10,\"solidity\":0.2}},\"type\":\"barpolar\"}],\"pie\":[{\"automargin\":true,\"type\":\"pie\"}]},\"layout\":{\"autotypenumbers\":\"strict\",\"colorway\":[\"#636efa\",\"#EF553B\",\"#00cc96\",\"#ab63fa\",\"#FFA15A\",\"#19d3f3\",\"#FF6692\",\"#B6E880\",\"#FF97FF\",\"#FECB52\"],\"font\":{\"color\":\"#2a3f5f\"},\"hovermode\":\"closest\",\"hoverlabel\":{\"align\":\"left\"},\"paper_bgcolor\":\"white\",\"plot_bgcolor\":\"#E5ECF6\",\"polar\":{\"bgcolor\":\"#E5ECF6\",\"angularaxis\":{\"gridcolor\":\"white\",\"linecolor\":\"white\",\"ticks\":\"\"},\"radialaxis\":{\"gridcolor\":\"white\",\"linecolor\":\"white\",\"ticks\":\"\"}},\"ternary\":{\"bgcolor\":\"#E5ECF6\",\"aaxis\":{\"gridcolor\":\"white\",\"linecolor\":\"white\",\"ticks\":\"\"},\"baxis\":{\"gridcolor\":\"white\",\"linecolor\":\"white\",\"ticks\":\"\"},\"caxis\":{\"gridcolor\":\"white\",\"linecolor\":\"white\",\"ticks\":\"\"}},\"coloraxis\":{\"colorbar\":{\"outlinewidth\":0,\"ticks\":\"\"}},\"colorscale\":{\"sequential\":[[0.0,\"#0d0887\"],[0.1111111111111111,\"#46039f\"],[0.2222222222222222,\"#7201a8\"],[0.3333333333333333,\"#9c179e\"],[0.4444444444444444,\"#bd3786\"],[0.5555555555555556,\"#d8576b\"],[0.6666666666666666,\"#ed7953\"],[0.7777777777777778,\"#fb9f3a\"],[0.8888888888888888,\"#fdca26\"],[1.0,\"#f0f921\"]],\"sequentialminus\":[[0.0,\"#0d0887\"],[0.1111111111111111,\"#46039f\"],[0.2222222222222222,\"#7201a8\"],[0.3333333333333333,\"#9c179e\"],[0.4444444444444444,\"#bd3786\"],[0.5555555555555556,\"#d8576b\"],[0.6666666666666666,\"#ed7953\"],[0.7777777777777778,\"#fb9f3a\"],[0.8888888888888888,\"#fdca26\"],[1.0,\"#f0f921\"]],\"diverging\":[[0,\"#8e0152\"],[0.1,\"#c51b7d\"],[0.2,\"#de77ae\"],[0.3,\"#f1b6da\"],[0.4,\"#fde0ef\"],[0.5,\"#f7f7f7\"],[0.6,\"#e6f5d0\"],[0.7,\"#b8e186\"],[0.8,\"#7fbc41\"],[0.9,\"#4d9221\"],[1,\"#276419\"]]},\"xaxis\":{\"gridcolor\":\"white\",\"linecolor\":\"white\",\"ticks\":\"\",\"title\":{\"standoff\":15},\"zerolinecolor\":\"white\",\"automargin\":true,\"zerolinewidth\":2},\"yaxis\":{\"gridcolor\":\"white\",\"linecolor\":\"white\",\"ticks\":\"\",\"title\":{\"standoff\":15},\"zerolinecolor\":\"white\",\"automargin\":true,\"zerolinewidth\":2},\"scene\":{\"xaxis\":{\"backgroundcolor\":\"#E5ECF6\",\"gridcolor\":\"white\",\"linecolor\":\"white\",\"showbackground\":true,\"ticks\":\"\",\"zerolinecolor\":\"white\",\"gridwidth\":2},\"yaxis\":{\"backgroundcolor\":\"#E5ECF6\",\"gridcolor\":\"white\",\"linecolor\":\"white\",\"showbackground\":true,\"ticks\":\"\",\"zerolinecolor\":\"white\",\"gridwidth\":2},\"zaxis\":{\"backgroundcolor\":\"#E5ECF6\",\"gridcolor\":\"white\",\"linecolor\":\"white\",\"showbackground\":true,\"ticks\":\"\",\"zerolinecolor\":\"white\",\"gridwidth\":2}},\"shapedefaults\":{\"line\":{\"color\":\"#2a3f5f\"}},\"annotationdefaults\":{\"arrowcolor\":\"#2a3f5f\",\"arrowhead\":0,\"arrowwidth\":1},\"geo\":{\"bgcolor\":\"white\",\"landcolor\":\"#E5ECF6\",\"subunitcolor\":\"white\",\"showland\":true,\"showlakes\":true,\"lakecolor\":\"white\"},\"title\":{\"x\":0.05},\"mapbox\":{\"style\":\"light\"}}},\"xaxis\":{\"anchor\":\"y\",\"domain\":[0.0,1.0],\"title\":{\"text\":\"Overall\"}},\"yaxis\":{\"anchor\":\"x\",\"domain\":[0.0,1.0],\"title\":{\"text\":\"Club\"}},\"legend\":{\"tracegroupgap\":0},\"margin\":{\"t\":60},\"barmode\":\"relative\"},                        {\"responsive\": true}                    ).then(function(){\n",
              "                            \n",
              "var gd = document.getElementById('efabc58e-34d8-4594-a1ee-1e96b5d19c9b');\n",
              "var x = new MutationObserver(function (mutations, observer) {{\n",
              "        var display = window.getComputedStyle(gd).display;\n",
              "        if (!display || display === 'none') {{\n",
              "            console.log([gd, 'removed!']);\n",
              "            Plotly.purge(gd);\n",
              "            observer.disconnect();\n",
              "        }}\n",
              "}});\n",
              "\n",
              "// Listen for the removal of the full notebook cells\n",
              "var notebookContainer = gd.closest('#notebook-container');\n",
              "if (notebookContainer) {{\n",
              "    x.observe(notebookContainer, {childList: true});\n",
              "}}\n",
              "\n",
              "// Listen for the clearing of the current output cell\n",
              "var outputEl = gd.closest('.output');\n",
              "if (outputEl) {{\n",
              "    x.observe(outputEl, {childList: true});\n",
              "}}\n",
              "\n",
              "                        })                };                            </script>        </div>\n",
              "</body>\n",
              "</html>"
            ]
          },
          "metadata": {},
          "output_type": "display_data"
        }
      ],
      "source": [
        "from pyspark.sql.functions import avg\n",
        "\n",
        "club = (df.groupBy('Club')\n",
        "        .agg(avg('Overall').alias('Overall'))\n",
        "        .orderBy('Overall', ascending=False)\n",
        "        .limit(20)\n",
        "        .toPandas())\n",
        "import plotly.express as px\n",
        "fig = px.bar(club, x='Overall', y='Club', orientation='h')\n",
        "fig.show()\n"
      ]
    },
    {
      "cell_type": "markdown",
      "metadata": {
        "id": "ourdxeP_rPKc"
      },
      "source": [
        "#Feature Engineering "
      ]
    },
    {
      "cell_type": "code",
      "execution_count": null,
      "metadata": {
        "id": "vs3XfJHDhJy6"
      },
      "outputs": [],
      "source": [
        "from pyspark.sql.functions import when, count, col\n",
        "nat_counts = df.groupBy('Nationality').agg(count('*').alias('count')).filter(col('count') > 250)\n",
        "nat_list = nat_counts.select('Nationality').rdd.flatMap(lambda x: x).collect()\n",
        "df = df.withColumn('Major_Nation', when(col('Nationality').isin(nat_list), 1).otherwise(0))"
      ]
    },
    {
      "cell_type": "code",
      "execution_count": null,
      "metadata": {
        "id": "HwtNRKESq00e"
      },
      "outputs": [],
      "source": [
        "from pyspark.sql.functions import when, col\n",
        "\n",
        "df_simple_position = df.withColumn(\n",
        "\"Simple_Position\",\n",
        "when(col(\"Preferred Positions\").isin([\"GK\"]), \"GK\")\n",
        ".when(col(\"Preferred Positions\").isin([\"RB\", \"LB\", \"CB\", \"LCB\", \"RCB\", \"RWB\", \"LWB\"]), \"DF\")\n",
        ".when(col(\"Preferred Positions\").isin([\"LDM\", \"CDM\", \"RDM\"]), \"DM\")\n",
        ".when(col(\"Preferred Positions\").isin([\"LM\", \"LCM\", \"CM\", \"RCM\", \"RM\", \"LAM\", \"CAM\", \"RAM\", \"LW\", \"RW\"]), \"MF\")\n",
        ".when(col(\"Preferred Positions\").isin([\"RS\", \"ST\", \"LS\", \"CF\", \"LF\", \"RF\"]), \"ST\")\n",
        ".otherwise(col(\"Preferred Positions\"))\n",
        ")\n",
        "#df['Simple_Position'] = df.apply(simple_position,axis = 1)"
      ]
    },
    {
      "cell_type": "code",
      "execution_count": null,
      "metadata": {
        "id": "eEHmLY0uthw2"
      },
      "outputs": [],
      "source": [
        "from pyspark.sql.functions import udf\n",
        "from pyspark.sql.types import StringType\n",
        "\n",
        "# Define the UDF\n",
        "simple_position_udf = udf(lambda pos: simple_position(pos), StringType())\n",
        "\n",
        "# Apply the UDF on the dataframe\n",
        "df = df.withColumn(\"Simple_Position\", simple_position_udf(\"Preferred Positions\"))\n"
      ]
    },
    {
      "cell_type": "code",
      "execution_count": null,
      "metadata": {
        "id": "wyi_bZcIrxz6"
      },
      "outputs": [],
      "source": [
        "from pyspark.sql.functions import col\n",
        "\n",
        "df = df.drop(*['Name', 'Nationality', 'Club', 'Wage', 'Preferred Foot', 'Work Rate', 'Position', 'Joined',\n",
        "               'Contract Valid Until', 'Release Clause', 'year'])\n"
      ]
    },
    {
      "cell_type": "markdown",
      "metadata": {
        "id": "Mpkeq4FUs56A"
      },
      "source": [
        "#Encoding"
      ]
    },
    {
      "cell_type": "markdown",
      "metadata": {
        "id": "jx9SPMkqts5y"
      },
      "source": [
        "\n",
        "\n",
        "```\n",
        "from pyspark.sql.functions import udf\n",
        "from pyspark.sql.types import IntegerType\n",
        "\n",
        "# Define the simple_position function\n",
        "def simple_position(position):\n",
        "    if position == 'GK':\n",
        "        return 2\n",
        "    elif position in ['RB', 'LB', 'CB', 'LCB', 'RCB', 'RWB', 'LWB']:\n",
        "        return 4\n",
        "    elif position in ['LDM', 'CDM', 'RDM']:\n",
        "        return 5\n",
        "    elif position in ['LM', 'LCM', 'CM', 'RCM', 'RM']:\n",
        "        return 3\n",
        "    elif position in ['LAM', 'CAM', 'RAM', 'LW', 'RW']:\n",
        "        return 1\n",
        "    elif position in ['RS', 'ST', 'LS', 'CF', 'LF', 'RF']:\n",
        "        return 0\n",
        "    else:\n",
        "        return 6\n",
        "\n",
        "# Create the user-defined function\n",
        "simple_position_udf = udf(simple_position, IntegerType())\n",
        "\n",
        "# Apply the user-defined function to the column and create a new column with the result\n",
        "df = df.withColumn('Simple_Position', simple_position_udf('Simple_Position'))\n",
        "\n",
        "```\n",
        "\n"
      ]
    },
    {
      "cell_type": "code",
      "execution_count": null,
      "metadata": {
        "id": "O5J1LtWVsQiG"
      },
      "outputs": [],
      "source": [
        "from pyspark.sql.functions import when\n",
        "\n",
        "simple_position_map = {\n",
        "    'ST': 0,\n",
        "    'AM': 1,\n",
        "    'GK': 2,\n",
        "    'MF': 3,\n",
        "    'DF': 4,\n",
        "    'DM': 5,\n",
        "    'unknown': 6\n",
        "}\n",
        "\n",
        "df = df.withColumn('Simple_Position', \n",
        "                   when(df.Simple_Position == 'ST', simple_position_map['ST'])\n",
        "                   .when(df.Simple_Position == 'AM', simple_position_map['AM'])\n",
        "                   .when(df.Simple_Position == 'GK', simple_position_map['GK'])\n",
        "                   .when(df.Simple_Position == 'MF', simple_position_map['MF'])\n",
        "                   .when(df.Simple_Position == 'DF', simple_position_map['DF'])\n",
        "                   .when(df.Simple_Position == 'DM', simple_position_map['DM'])\n",
        "                   .when(df.Simple_Position.isNull(), simple_position_map['unknown'])\n",
        "                   .otherwise(df.Simple_Position))\n"
      ]
    },
    {
      "cell_type": "code",
      "execution_count": null,
      "metadata": {
        "colab": {
          "base_uri": "https://localhost:8080/"
        },
        "id": "Fv4dtWFks8dC",
        "outputId": "ef1630b7-317e-44d8-80f0-3f6143f485ce"
      },
      "outputs": [
        {
          "name": "stdout",
          "output_type": "stream",
          "text": [
            "+------------+---+--------------------+--------------------+-------+---------+--------------------+------+-------+------------+----------+-------+-------+------------+---------+--------+-----+---------+---------+------------------+---------+-----------+----------+--------------+-----------+----------------+-------------+-------+------------+----------+-------+---------+-----------+---------+-------------+----------+--------------+------------+-------+---------------+--------+------+-------+---+---+---+---+---+------+---+---+---+---+---+---+---+---+---+---+-------------------+---+---+---+---+---+---+---+---+---+---+---+------------+---------------+\n",
            "|SerialNumber|Age|               Photo|                Flag|Overall|Potential|           Club Logo| Value|Special|Acceleration|Aggression|Agility|Balance|Ball control|Composure|Crossing|Curve|Dribbling|Finishing|Free kick accuracy|GK diving|GK handling|GK kicking|GK positioning|GK reflexes|Heading accuracy|Interceptions|Jumping|Long passing|Long shots|Marking|Penalties|Positioning|Reactions|Short passing|Shot power|Sliding tackle|Sprint speed|Stamina|Standing tackle|Strength|Vision|Volleys|CAM| CB|CDM| CF| CM|    ID|LAM| LB|LCB|LCM|LDM| LF| LM| LS| LW|LWB|Preferred Positions|RAM| RB|RCB|RCM|RDM| RF| RM| RS| RW|RWB| ST|Major_Nation|Simple_Position|\n",
            "+------------+---+--------------------+--------------------+-------+---------+--------------------+------+-------+------------+----------+-------+-------+------------+---------+--------+-----+---------+---------+------------------+---------+-----------+----------+--------------+-----------+----------------+-------------+-------+------------+----------+-------+---------+-----------+---------+-------------+----------+--------------+------------+-------+---------------+--------+------+-------+---+---+---+---+---+------+---+---+---+---+---+---+---+---+---+---+-------------------+---+---+---+---+---+---+---+---+---+---+---+------------+---------------+\n",
            "|           0| 32|https://cdn.sofif...|https://cdn.sofif...|     94|       94|https://cdn.sofif...|9.55E7|   2228|          89|        63|     89|     63|          93|       95|      85|   81|       91|       94|                76|        7|         11|        15|            14|         11|              88|           29|     95|          77|        92|     22|       85|         95|       96|           83|        94|            23|          91|     92|             31|      80|    85|     88|0.0|0.0|0.0|0.0|0.0| 20801|0.0|0.0|0.0|0.0|0.0|0.0|0.0|0.0|0.0|0.0|             ST LW |0.0|0.0|0.0|0.0|0.0|0.0|0.0|0.0|0.0|0.0|0.0|           1|         ST LW |\n",
            "|           1| 30|https://cdn.sofif...|https://cdn.sofif...|     93|       93|https://cdn.sofif...|1.05E8|   2154|          92|        48|     90|     95|          95|       96|      77|   89|       97|       95|                90|        6|         11|        15|            14|          8|              71|           22|     68|          87|        88|     13|       74|         93|       95|           88|        85|            26|          87|     73|             28|      59|    90|     85|0.0|0.0|0.0|0.0|0.0|158023|0.0|0.0|0.0|0.0|0.0|0.0|0.0|0.0|0.0|0.0|                RW |0.0|0.0|0.0|0.0|0.0|0.0|0.0|0.0|0.0|0.0|0.0|           1|            RW |\n",
            "|           2| 25|https://cdn.sofif...|https://cdn.sofif...|     92|       94|https://cdn.sofif...|1.23E8|   2100|          94|        56|     96|     82|          95|       92|      75|   81|       96|       89|                84|        9|          9|        15|            15|         11|              62|           36|     61|          75|        77|     21|       81|         90|       88|           81|        80|            33|          90|     78|             24|      53|    80|     83|0.0|0.0|0.0|0.0|0.0|190871|0.0|0.0|0.0|0.0|0.0|0.0|0.0|0.0|0.0|0.0|                LW |0.0|0.0|0.0|0.0|0.0|0.0|0.0|0.0|0.0|0.0|0.0|           1|            LW |\n",
            "|           3| 30|https://cdn.sofif...|https://cdn.sofif...|     92|       92|https://cdn.sofif...| 9.7E7|   2291|          88|        78|     86|     60|          91|       83|      77|   86|       86|       94|                84|       27|         25|        31|            33|         37|              77|           41|     69|          64|        86|     30|       85|         92|       93|           83|        87|            38|          77|     89|             45|      80|    84|     88|0.0|0.0|0.0|0.0|0.0|176580|0.0|0.0|0.0|0.0|0.0|0.0|0.0|0.0|0.0|0.0|                ST |0.0|0.0|0.0|0.0|0.0|0.0|0.0|0.0|0.0|0.0|0.0|           0|            ST |\n",
            "|           4| 31|https://cdn.sofif...|https://cdn.sofif...|     92|       92|https://cdn.sofif...| 6.1E7|   1493|          58|        29|     52|     35|          48|       70|      15|   14|       30|       13|                11|       91|         90|        95|            91|         89|              25|           30|     78|          59|        16|     10|       47|         12|       85|           55|        25|            11|          61|     44|             10|      83|    70|     11|0.0|0.0|0.0|0.0|0.0|167495|0.0|0.0|0.0|0.0|0.0|0.0|0.0|0.0|0.0|0.0|                GK |0.0|0.0|0.0|0.0|0.0|0.0|0.0|0.0|0.0|0.0|0.0|           1|            GK |\n",
            "+------------+---+--------------------+--------------------+-------+---------+--------------------+------+-------+------------+----------+-------+-------+------------+---------+--------+-----+---------+---------+------------------+---------+-----------+----------+--------------+-----------+----------------+-------------+-------+------------+----------+-------+---------+-----------+---------+-------------+----------+--------------+------------+-------+---------------+--------+------+-------+---+---+---+---+---+------+---+---+---+---+---+---+---+---+---+---+-------------------+---+---+---+---+---+---+---+---+---+---+---+------------+---------------+\n",
            "only showing top 5 rows\n",
            "\n"
          ]
        }
      ],
      "source": [
        "from pyspark.sql.functions import when\n",
        "\n",
        "def simple_position(position):\n",
        "    if position == 'GK':\n",
        "        return 'GK'\n",
        "    elif position in ['RB', 'LB', 'CB', 'LCB', 'RCB', 'RWB', 'LWB']:\n",
        "        return 'DF'\n",
        "    elif position in ['LDM', 'CDM', 'RDM']:\n",
        "        return 'DM'\n",
        "    elif position in ['LM', 'LCM', 'CM', 'RCM', 'RM', 'LAM', 'CAM', 'RAM', 'LW', 'RW']:\n",
        "        return 'MF'\n",
        "    elif position in ['RS', 'ST', 'LS', 'CF', 'LF', 'RF']:\n",
        "        return 'ST'\n",
        "    else:\n",
        "        return position\n",
        "\n",
        "simple_position_udf = udf(simple_position)\n",
        "\n",
        "df = df.withColumn('Simple_Position', simple_position_udf(df['Preferred Positions']))\n",
        "df.show(5)\n"
      ]
    },
    {
      "cell_type": "code",
      "execution_count": null,
      "metadata": {
        "colab": {
          "base_uri": "https://localhost:8080/"
        },
        "id": "tlJUQI9Xt3Np",
        "outputId": "9d104fa1-cc93-454a-9835-c9dee6200be1"
      },
      "outputs": [
        {
          "data": {
            "text/plain": [
              "['SerialNumber',\n",
              " 'Age',\n",
              " 'Photo',\n",
              " 'Flag',\n",
              " 'Overall',\n",
              " 'Potential',\n",
              " 'Club Logo',\n",
              " 'Value',\n",
              " 'Special',\n",
              " 'Acceleration',\n",
              " 'Aggression',\n",
              " 'Agility',\n",
              " 'Balance',\n",
              " 'Ball control',\n",
              " 'Composure',\n",
              " 'Crossing',\n",
              " 'Curve',\n",
              " 'Dribbling',\n",
              " 'Finishing',\n",
              " 'Free kick accuracy',\n",
              " 'GK diving',\n",
              " 'GK handling',\n",
              " 'GK kicking',\n",
              " 'GK positioning',\n",
              " 'GK reflexes',\n",
              " 'Heading accuracy',\n",
              " 'Interceptions',\n",
              " 'Jumping',\n",
              " 'Long passing',\n",
              " 'Long shots',\n",
              " 'Marking',\n",
              " 'Penalties',\n",
              " 'Positioning',\n",
              " 'Reactions',\n",
              " 'Short passing',\n",
              " 'Shot power',\n",
              " 'Sliding tackle',\n",
              " 'Sprint speed',\n",
              " 'Stamina',\n",
              " 'Standing tackle',\n",
              " 'Strength',\n",
              " 'Vision',\n",
              " 'Volleys',\n",
              " 'CAM',\n",
              " 'CB',\n",
              " 'CDM',\n",
              " 'CF',\n",
              " 'CM',\n",
              " 'ID',\n",
              " 'LAM',\n",
              " 'LB',\n",
              " 'LCB',\n",
              " 'LCM',\n",
              " 'LDM',\n",
              " 'LF',\n",
              " 'LM',\n",
              " 'LS',\n",
              " 'LW',\n",
              " 'LWB',\n",
              " 'Preferred Positions',\n",
              " 'RAM',\n",
              " 'RB',\n",
              " 'RCB',\n",
              " 'RCM',\n",
              " 'RDM',\n",
              " 'RF',\n",
              " 'RM',\n",
              " 'RS',\n",
              " 'RW',\n",
              " 'RWB',\n",
              " 'ST',\n",
              " 'Major_Nation',\n",
              " 'Simple_Position']"
            ]
          },
          "execution_count": 28,
          "metadata": {},
          "output_type": "execute_result"
        }
      ],
      "source": [
        "df.columns"
      ]
    },
    {
      "cell_type": "code",
      "execution_count": null,
      "metadata": {
        "id": "rmstbL_7ub_k"
      },
      "outputs": [],
      "source": [
        "X_cols = df[['Age','Overall', 'Potential','Special','Crossing', 'Finishing', 'Heading accuracy', \n",
        "          'Short passing', 'Volleys','Dribbling', 'Curve', 'Free kick accuracy', 'Long passing', \n",
        "          'Ball control','Acceleration', 'Sprint speed', 'Agility', 'Reactions', 'Balance',\n",
        "          'Shot power', 'Jumping', 'Stamina', 'Strength', 'Long shots',\n",
        "          'Aggression', 'Interceptions', 'Preferred Positions', 'Vision', 'Penalties',\n",
        "          'Composure', 'Marking', 'Standing tackle', 'Sliding tackle', 'GK diving',\n",
        "          'GK handling', 'GK kicking', 'GK positioning', 'GK reflexes',\n",
        "          'Major_Nation']]\n",
        "\n",
        "y = df.selectExpr(\"log1p(Value) as log_Value\")\n"
      ]
    },
    {
      "cell_type": "code",
      "execution_count": null,
      "metadata": {
        "id": "WEmWXtz7vcba"
      },
      "outputs": [],
      "source": [
        "from pyspark.ml.feature import VectorAssembler\n",
        "from pyspark.sql.functions import log1p\n",
        "import numpy as np\n",
        "import seaborn as sns\n",
        "from pyspark.ml.feature import VectorAssembler\n",
        "from pyspark.ml.regression import LinearRegression\n",
        "from pyspark.sql.functions import col, log1p\n",
        "\n",
        "# select columns and rename them\n",
        "X_cols = ['Age','Overall', 'Potential','Special','Crossing', 'Finishing', 'Heading accuracy', \n",
        "          'Short passing', 'Volleys','Dribbling', 'Curve', 'Free kick accuracy', 'Long passing', \n",
        "          'Ball control','Acceleration', 'Sprint speed', 'Agility', 'Reactions', 'Balance',\n",
        "          'Shot power', 'Jumping', 'Stamina', 'Strength', 'Long shots',\n",
        "          'Aggression', 'Interceptions', 'Preferred Positions', 'Vision', 'Penalties',\n",
        "          'Composure', 'Marking', 'Standing tackle', 'Sliding tackle', 'GK diving',\n",
        "          'GK handling', 'GK kicking', 'GK positioning', 'GK reflexes',\n",
        "          'Major_Nation']\n",
        "\n",
        "\n",
        "X = df.select(X_cols)\n",
        "\n",
        "# apply log transformation to target variable\n",
        "y = df.select(log1p(col(\"Value\")))\n",
        "\n",
        "\n",
        "# select relevant columns\n",
        "X_cols = df.select(X_cols)\n",
        "\n",
        "# convert string columns to numeric\n",
        "for col in ['Crossing', 'Finishing', 'Heading accuracy', 'Short passing', 'Volleys', 'Dribbling', 'Curve', 'Free kick accuracy', 'Long passing', 'Ball control','Acceleration', 'Sprint speed', 'Agility',\n",
        "            'Reactions', 'Balance','Shot power', 'Jumping', 'Stamina', 'Strength', 'Long shots', 'Aggression', 'Interceptions', 'Preferred Positions', 'Vision', 'Penalties', 'Composure','Marking',\n",
        "            'Standing tackle', 'Sliding tackle', 'GK diving', 'GK handling','GK kicking', 'GK positioning', 'GK reflexes']:\n",
        "    X_cols = X_cols.withColumn(col, X_cols[col].cast('float'))\n",
        "\n",
        "# apply log transformation to target variable\n",
        "y = df.selectExpr('log1p(Value) as log_Value')\n",
        "\n",
        "# create a vector assembler\n",
        "assembler = VectorAssembler(inputCols=X_cols.columns, outputCol=\"features\")\n",
        "X = assembler.transform(X_cols).select(\"features\")\n",
        "\n",
        "if \"features\" in X.columns:\n",
        "    X = X.drop(\"features\")\n",
        "\n",
        "# create a vector assembler\n",
        "assembler = VectorAssembler(inputCols=X.columns, outputCol=\"features\")\n",
        "X_transformed = assembler.transform(X)\n",
        "\n",
        "# fit a linear regression model\n",
        "lr = LinearRegression(featuresCol=\"features\", labelCol=y.columns[0])\n"
      ]
    },
    {
      "cell_type": "markdown",
      "metadata": {
        "id": "IFpvKhB5C-hj"
      },
      "source": [
        "# create a SQL transformer to apply log transformation to target variable\n",
        "from pyspark.ml.feature import SQLTransformer\n",
        "\n",
        "from pyspark.sql.functions import col\n",
        "\n",
        "col_names = ['Acceleration', 'Aggression', 'Agility', 'Balance', 'Ball control', 'Composure', 'Crossing', 'Curve', 'Dribbling', 'Finishing', 'Free kick accuracy', 'GK diving', 'GK handling', 'GK kicking', 'GK positioning', 'GK reflexes', 'Heading accuracy', 'Interceptions', 'Jumping', 'Long passing', 'Long shots', 'Marking', 'Penalties', 'Positioning', 'Reactions', 'Short passing', 'Shot power', 'Sliding tackle', 'Sprint speed', 'Stamina', 'Standing tackle', 'Strength', 'Vision', 'Volleys']\n",
        "\n",
        "for col_name in col_names:\n",
        "    df = df.withColumn(col_name, col(col_name).cast('float'))\n",
        "\n",
        "\n",
        "sqlTrans = SQLTransformer(\n",
        "    statement=\"SELECT *, log1p(Value) as log_Value FROM __THIS__\")\n",
        "\n",
        "# apply SQL transformer and drop original Value column\n",
        "fifa_log = sqlTrans.transform(df).drop(\"Value\")\n",
        "\n",
        "# create X and y variables\n",
        "X = fifa_log.select(['Age','Overall', 'Potential','Special','Crossing', 'Finishing', 'Heading accuracy', \n",
        "          'Short passing', 'Volleys','Dribbling', 'Curve', 'Free kick accuracy', 'Long passing', \n",
        "          'Ball control','Acceleration', 'Sprint speed', 'Agility', 'Reactions', 'Balance',\n",
        "          'Shot power', 'Jumping', 'Stamina', 'Strength', 'Long shots',\n",
        "          'Aggression', 'Interceptions', 'Preferred Positions', 'Vision', 'Penalties',\n",
        "          'Composure', 'Marking', 'Standing tackle', 'Sliding tackle', 'GK diving',\n",
        "          'GK handling', 'GK kicking', 'GK positioning', 'GK reflexes',\n",
        "          'Major_Nation'])\n",
        "\n",
        "y = fifa_log.select('log_Value')\n",
        "\n",
        "# create a vector assembler\n",
        "assembler = VectorAssembler(inputCols=X.columns, outputCol=\"features\")\n",
        "X_transformed = assembler.transform(X)\n",
        "\n",
        "# fit a linear regression model\n",
        "lr = LinearRegression(featuresCol=\"features\", labelCol=\"log_Value\")\n",
        "model = lr.fit(X_transformed)\n",
        "\n",
        "# display the distribution of the target variable\n",
        "sns.distplot(y.toPandas(), kde=False)\n"
      ]
    },
    {
      "cell_type": "code",
      "execution_count": null,
      "metadata": {
        "colab": {
          "base_uri": "https://localhost:8080/",
          "height": 719
        },
        "id": "ifk2b7HSzgsz",
        "outputId": "549ba11d-4dc1-4973-b2e8-ae09cdbbbacf"
      },
      "outputs": [
        {
          "data": {
            "image/png": "[encoded data removed]",
            "text/plain": [
              "<Figure size 640x480 with 1 Axes>"
            ]
          },
          "metadata": {},
          "output_type": "display_data"
        }
      ],
      "source": [
        "import matplotlib.pyplot as plt\n",
        "import pyspark.sql.functions as F\n",
        "df = df.drop('Id')\n",
        "\n",
        "# filter out non-numeric columns\n",
        "numeric_cols = [c for c,t in df.dtypes if t in ['int', 'double']]\n",
        "df_numeric = df.select(numeric_cols[1:]) # exclude the first column\n",
        "\n",
        "# define list of columns to plot\n",
        "columns_to_plot = df_numeric.columns\n",
        "\n",
        "# plot each column as a line plot\n",
        "for column in columns_to_plot:\n",
        "    data = [float(row[column]) for row in df_numeric.select(column).collect()]\n",
        "    plt.plot(data, label=column)\n",
        "\n",
        "# set plot title and labels\n",
        "plt.title('Time series plot of numeric columns')\n",
        "plt.xlabel('Time')\n",
        "plt.ylabel('Value')\n",
        "plt.legend()\n",
        "\n",
        "# display the plot\n",
        "plt.show()\n"
      ]
    },
    {
      "cell_type": "code",
      "execution_count": null,
      "metadata": {
        "colab": {
          "base_uri": "https://localhost:8080/"
        },
        "id": "ZkHen8U25kBR",
        "outputId": "2e5ca790-a507-4bf6-98d2-3e641eecf56e"
      },
      "outputs": [
        {
          "name": "stdout",
          "output_type": "stream",
          "text": [
            "+------------+---+--------------------+--------------------+-------+---------+--------------------+------+-------+------------+----------+-------+-------+------------+---------+--------+-----+---------+---------+------------------+---------+-----------+----------+--------------+-----------+----------------+-------------+-------+------------+----------+-------+---------+-----------+---------+-------------+----------+--------------+------------+-------+---------------+--------+------+-------+---+---+---+---+---+---+---+---+---+---+---+---+---+---+---+-------------------+---+---+---+---+---+---+---+---+---+---+---+------------+---------------+\n",
            "|SerialNumber|Age|               Photo|                Flag|Overall|Potential|           Club Logo| Value|Special|Acceleration|Aggression|Agility|Balance|Ball control|Composure|Crossing|Curve|Dribbling|Finishing|Free kick accuracy|GK diving|GK handling|GK kicking|GK positioning|GK reflexes|Heading accuracy|Interceptions|Jumping|Long passing|Long shots|Marking|Penalties|Positioning|Reactions|Short passing|Shot power|Sliding tackle|Sprint speed|Stamina|Standing tackle|Strength|Vision|Volleys|CAM| CB|CDM| CF| CM|LAM| LB|LCB|LCM|LDM| LF| LM| LS| LW|LWB|Preferred Positions|RAM| RB|RCB|RCM|RDM| RF| RM| RS| RW|RWB| ST|Major_Nation|Simple_Position|\n",
            "+------------+---+--------------------+--------------------+-------+---------+--------------------+------+-------+------------+----------+-------+-------+------------+---------+--------+-----+---------+---------+------------------+---------+-----------+----------+--------------+-----------+----------------+-------------+-------+------------+----------+-------+---------+-----------+---------+-------------+----------+--------------+------------+-------+---------------+--------+------+-------+---+---+---+---+---+---+---+---+---+---+---+---+---+---+---+-------------------+---+---+---+---+---+---+---+---+---+---+---+------------+---------------+\n",
            "|           0| 32|https://cdn.sofif...|https://cdn.sofif...|     94|       94|https://cdn.sofif...|9.55E7|   2228|          89|        63|     89|     63|          93|       95|      85|   81|       91|       94|                76|        7|         11|        15|            14|         11|              88|           29|     95|          77|        92|     22|       85|         95|       96|           83|        94|            23|          91|     92|             31|      80|    85|     88|0.0|0.0|0.0|0.0|0.0|0.0|0.0|0.0|0.0|0.0|0.0|0.0|0.0|0.0|0.0|             ST LW |0.0|0.0|0.0|0.0|0.0|0.0|0.0|0.0|0.0|0.0|0.0|           1|         ST LW |\n",
            "|           1| 30|https://cdn.sofif...|https://cdn.sofif...|     93|       93|https://cdn.sofif...|1.05E8|   2154|          92|        48|     90|     95|          95|       96|      77|   89|       97|       95|                90|        6|         11|        15|            14|          8|              71|           22|     68|          87|        88|     13|       74|         93|       95|           88|        85|            26|          87|     73|             28|      59|    90|     85|0.0|0.0|0.0|0.0|0.0|0.0|0.0|0.0|0.0|0.0|0.0|0.0|0.0|0.0|0.0|                RW |0.0|0.0|0.0|0.0|0.0|0.0|0.0|0.0|0.0|0.0|0.0|           1|            RW |\n",
            "|           2| 25|https://cdn.sofif...|https://cdn.sofif...|     92|       94|https://cdn.sofif...|1.23E8|   2100|          94|        56|     96|     82|          95|       92|      75|   81|       96|       89|                84|        9|          9|        15|            15|         11|              62|           36|     61|          75|        77|     21|       81|         90|       88|           81|        80|            33|          90|     78|             24|      53|    80|     83|0.0|0.0|0.0|0.0|0.0|0.0|0.0|0.0|0.0|0.0|0.0|0.0|0.0|0.0|0.0|                LW |0.0|0.0|0.0|0.0|0.0|0.0|0.0|0.0|0.0|0.0|0.0|           1|            LW |\n",
            "|           3| 30|https://cdn.sofif...|https://cdn.sofif...|     92|       92|https://cdn.sofif...| 9.7E7|   2291|          88|        78|     86|     60|          91|       83|      77|   86|       86|       94|                84|       27|         25|        31|            33|         37|              77|           41|     69|          64|        86|     30|       85|         92|       93|           83|        87|            38|          77|     89|             45|      80|    84|     88|0.0|0.0|0.0|0.0|0.0|0.0|0.0|0.0|0.0|0.0|0.0|0.0|0.0|0.0|0.0|                ST |0.0|0.0|0.0|0.0|0.0|0.0|0.0|0.0|0.0|0.0|0.0|           0|            ST |\n",
            "|           4| 31|https://cdn.sofif...|https://cdn.sofif...|     92|       92|https://cdn.sofif...| 6.1E7|   1493|          58|        29|     52|     35|          48|       70|      15|   14|       30|       13|                11|       91|         90|        95|            91|         89|              25|           30|     78|          59|        16|     10|       47|         12|       85|           55|        25|            11|          61|     44|             10|      83|    70|     11|0.0|0.0|0.0|0.0|0.0|0.0|0.0|0.0|0.0|0.0|0.0|0.0|0.0|0.0|0.0|                GK |0.0|0.0|0.0|0.0|0.0|0.0|0.0|0.0|0.0|0.0|0.0|           1|            GK |\n",
            "+------------+---+--------------------+--------------------+-------+---------+--------------------+------+-------+------------+----------+-------+-------+------------+---------+--------+-----+---------+---------+------------------+---------+-----------+----------+--------------+-----------+----------------+-------------+-------+------------+----------+-------+---------+-----------+---------+-------------+----------+--------------+------------+-------+---------------+--------+------+-------+---+---+---+---+---+---+---+---+---+---+---+---+---+---+---+-------------------+---+---+---+---+---+---+---+---+---+---+---+------------+---------------+\n",
            "only showing top 5 rows\n",
            "\n"
          ]
        }
      ],
      "source": [
        "df.show(5)"
      ]
    },
    {
      "cell_type": "code",
      "execution_count": null,
      "metadata": {
        "id": "O0uulx4A5lzI"
      },
      "outputs": [],
      "source": [
        "df = df.drop('SerialNumber','Photo','Flag','Club Logo','CAM', 'CB','CDM', 'CF', 'CM','LAM', 'LB','LCB','LCM','LDM', 'LF', 'LM', 'LS', 'LW','LWB','RAM','RB','RCB','RCM','RDM', 'RF', 'RM', 'RS', 'RW','RWB', 'ST')\n"
      ]
    },
    {
      "cell_type": "code",
      "execution_count": null,
      "metadata": {
        "colab": {
          "base_uri": "https://localhost:8080/"
        },
        "id": "oFBh7z3PFnjb",
        "outputId": "2350d520-bd3d-4b90-d57b-b2d2f5533c16"
      },
      "outputs": [
        {
          "name": "stdout",
          "output_type": "stream",
          "text": [
            "+---+-------+---------+------+-------+------------+----------+-------+-------+------------+---------+--------+-----+---------+---------+------------------+---------+-----------+----------+--------------+-----------+----------------+-------------+-------+------------+----------+-------+---------+-----------+---------+-------------+----------+--------------+------------+-------+---------------+--------+------+-------+-------------------+------------+---------------+\n",
            "|Age|Overall|Potential| Value|Special|Acceleration|Aggression|Agility|Balance|Ball control|Composure|Crossing|Curve|Dribbling|Finishing|Free kick accuracy|GK diving|GK handling|GK kicking|GK positioning|GK reflexes|Heading accuracy|Interceptions|Jumping|Long passing|Long shots|Marking|Penalties|Positioning|Reactions|Short passing|Shot power|Sliding tackle|Sprint speed|Stamina|Standing tackle|Strength|Vision|Volleys|Preferred Positions|Major_Nation|Simple_Position|\n",
            "+---+-------+---------+------+-------+------------+----------+-------+-------+------------+---------+--------+-----+---------+---------+------------------+---------+-----------+----------+--------------+-----------+----------------+-------------+-------+------------+----------+-------+---------+-----------+---------+-------------+----------+--------------+------------+-------+---------------+--------+------+-------+-------------------+------------+---------------+\n",
            "| 32|     94|       94|9.55E7|   2228|          89|        63|     89|     63|          93|       95|      85|   81|       91|       94|                76|        7|         11|        15|            14|         11|              88|           29|     95|          77|        92|     22|       85|         95|       96|           83|        94|            23|          91|     92|             31|      80|    85|     88|             ST LW |           1|         ST LW |\n",
            "| 30|     93|       93|1.05E8|   2154|          92|        48|     90|     95|          95|       96|      77|   89|       97|       95|                90|        6|         11|        15|            14|          8|              71|           22|     68|          87|        88|     13|       74|         93|       95|           88|        85|            26|          87|     73|             28|      59|    90|     85|                RW |           1|            RW |\n",
            "| 25|     92|       94|1.23E8|   2100|          94|        56|     96|     82|          95|       92|      75|   81|       96|       89|                84|        9|          9|        15|            15|         11|              62|           36|     61|          75|        77|     21|       81|         90|       88|           81|        80|            33|          90|     78|             24|      53|    80|     83|                LW |           1|            LW |\n",
            "| 30|     92|       92| 9.7E7|   2291|          88|        78|     86|     60|          91|       83|      77|   86|       86|       94|                84|       27|         25|        31|            33|         37|              77|           41|     69|          64|        86|     30|       85|         92|       93|           83|        87|            38|          77|     89|             45|      80|    84|     88|                ST |           0|            ST |\n",
            "| 31|     92|       92| 6.1E7|   1493|          58|        29|     52|     35|          48|       70|      15|   14|       30|       13|                11|       91|         90|        95|            91|         89|              25|           30|     78|          59|        16|     10|       47|         12|       85|           55|        25|            11|          61|     44|             10|      83|    70|     11|                GK |           1|            GK |\n",
            "+---+-------+---------+------+-------+------------+----------+-------+-------+------------+---------+--------+-----+---------+---------+------------------+---------+-----------+----------+--------------+-----------+----------------+-------------+-------+------------+----------+-------+---------+-----------+---------+-------------+----------+--------------+------------+-------+---------------+--------+------+-------+-------------------+------------+---------------+\n",
            "only showing top 5 rows\n",
            "\n"
          ]
        }
      ],
      "source": [
        "df.show(5)"
      ]
    },
    {
      "cell_type": "code",
      "execution_count": null,
      "metadata": {
        "colab": {
          "base_uri": "https://localhost:8080/"
        },
        "id": "vvgr0bow6vf2",
        "outputId": "d22b77d6-54ba-4a38-83a9-c9c6afce7ba8"
      },
      "outputs": [
        {
          "name": "stdout",
          "output_type": "stream",
          "text": [
            "+------------------+\n",
            "|         log_Value|\n",
            "+------------------+\n",
            "|18.374636815922162|\n",
            "| 18.46947091764561|\n",
            "|18.627694921466773|\n",
            "|18.390221546776935|\n",
            "|17.926384438531027|\n",
            "| 18.33729914588288|\n",
            "| 17.98217579726988|\n",
            "|18.320860419719878|\n",
            "|18.184958423089522|\n",
            "| 18.15931599280497|\n",
            "| 17.76675429577647|\n",
            "|18.234351177809064|\n",
            "|17.893048018819147|\n",
            "| 18.02763817065757|\n",
            "|17.858561843342684|\n",
            "| 18.05683732492351|\n",
            "|18.012712520663676|\n",
            "|17.453096744006448|\n",
            "|15.319588176962746|\n",
            "|18.184958423089522|\n",
            "+------------------+\n",
            "only showing top 20 rows\n",
            "\n"
          ]
        }
      ],
      "source": [
        "from pyspark.sql.functions import col, log1p\n",
        "from pyspark.ml.feature import VectorAssembler\n",
        "from pyspark.ml.regression import LinearRegression\n",
        "\n",
        "col_names = ['Acceleration', 'Aggression', 'Agility', 'Balance', 'Ball control',\n",
        "             'Composure', 'Crossing', 'Curve', 'Dribbling', 'Finishing', \n",
        "             'Free kick accuracy', 'GK diving', 'GK handling', 'GK kicking',\n",
        "             'GK positioning', 'GK reflexes', 'Heading accuracy', \n",
        "             'Interceptions', 'Jumping', 'Long passing', 'Long shots', \n",
        "             'Marking', 'Penalties', 'Positioning', 'Reactions', \n",
        "             'Short passing', 'Shot power', 'Sliding tackle', 'Sprint speed', \n",
        "             'Stamina', 'Standing tackle', 'Strength', 'Vision', 'Volleys']\n",
        "\n",
        "# Cast all columns in col_names to float\n",
        "for col_name in col_names:\n",
        "    df = df.withColumn(col_name, col(col_name).cast(\"float\"))\n",
        "\n",
        "# Apply log transformation to target variable\n",
        "df = df.withColumn(\"log_Value\", log1p(df[\"Value\"]))\n",
        "\n",
        "# Remove any rows that have missing data\n",
        "df = df.dropna()\n",
        "\n",
        "# Create a vector assembler\n",
        "assembler = VectorAssembler(inputCols=col_names, outputCol=\"features\")\n",
        "X_transformed = assembler.transform(df)\n",
        "\n",
        "# Fit a linear regression model\n",
        "lr = LinearRegression(featuresCol=\"features\", labelCol=\"log_Value\")\n",
        "model = lr.fit(X_transformed)\n",
        "\n",
        "# Display the distribution of the target variable\n",
        "df.select(\"log_Value\").show()\n"
      ]
    },
    {
      "cell_type": "code",
      "execution_count": null,
      "metadata": {
        "colab": {
          "base_uri": "https://localhost:8080/"
        },
        "id": "oHcmIFdw674d",
        "outputId": "cc79ad0c-6405-4ca3-d32d-752351f1ac76"
      },
      "outputs": [
        {
          "name": "stdout",
          "output_type": "stream",
          "text": [
            "+---+-------+---------+------+-------+------------+----------+-------+-------+------------+---------+--------+-----+---------+---------+------------------+---------+-----------+----------+--------------+-----------+----------------+-------------+-------+------------+----------+-------+---------+-----------+---------+-------------+----------+--------------+------------+-------+---------------+--------+------+-------+-------------------+------------+---------------+------------------+--------------------+\n",
            "|Age|Overall|Potential| Value|Special|Acceleration|Aggression|Agility|Balance|Ball control|Composure|Crossing|Curve|Dribbling|Finishing|Free kick accuracy|GK diving|GK handling|GK kicking|GK positioning|GK reflexes|Heading accuracy|Interceptions|Jumping|Long passing|Long shots|Marking|Penalties|Positioning|Reactions|Short passing|Shot power|Sliding tackle|Sprint speed|Stamina|Standing tackle|Strength|Vision|Volleys|Preferred Positions|Major_Nation|Simple_Position|         log_Value|        new_features|\n",
            "+---+-------+---------+------+-------+------------+----------+-------+-------+------------+---------+--------+-----+---------+---------+------------------+---------+-----------+----------+--------------+-----------+----------------+-------------+-------+------------+----------+-------+---------+-----------+---------+-------------+----------+--------------+------------+-------+---------------+--------+------+-------+-------------------+------------+---------------+------------------+--------------------+\n",
            "| 32|     94|       94|9.55E7|   2228|        89.0|      63.0|   89.0|   63.0|        93.0|     95.0|    85.0| 81.0|     91.0|     94.0|              76.0|      7.0|       11.0|      15.0|          14.0|       11.0|            88.0|         29.0|   95.0|        77.0|      92.0|   22.0|     85.0|       95.0|     96.0|         83.0|      94.0|          23.0|        91.0|   92.0|           31.0|    80.0|  85.0|   88.0|             ST LW |           1|         ST LW |18.374636815922162|[32.0,94.0,94.0,2...|\n",
            "| 30|     93|       93|1.05E8|   2154|        92.0|      48.0|   90.0|   95.0|        95.0|     96.0|    77.0| 89.0|     97.0|     95.0|              90.0|      6.0|       11.0|      15.0|          14.0|        8.0|            71.0|         22.0|   68.0|        87.0|      88.0|   13.0|     74.0|       93.0|     95.0|         88.0|      85.0|          26.0|        87.0|   73.0|           28.0|    59.0|  90.0|   85.0|                RW |           1|            RW | 18.46947091764561|[30.0,93.0,93.0,2...|\n",
            "| 25|     92|       94|1.23E8|   2100|        94.0|      56.0|   96.0|   82.0|        95.0|     92.0|    75.0| 81.0|     96.0|     89.0|              84.0|      9.0|        9.0|      15.0|          15.0|       11.0|            62.0|         36.0|   61.0|        75.0|      77.0|   21.0|     81.0|       90.0|     88.0|         81.0|      80.0|          33.0|        90.0|   78.0|           24.0|    53.0|  80.0|   83.0|                LW |           1|            LW |18.627694921466773|[25.0,92.0,94.0,2...|\n",
            "| 30|     92|       92| 9.7E7|   2291|        88.0|      78.0|   86.0|   60.0|        91.0|     83.0|    77.0| 86.0|     86.0|     94.0|              84.0|     27.0|       25.0|      31.0|          33.0|       37.0|            77.0|         41.0|   69.0|        64.0|      86.0|   30.0|     85.0|       92.0|     93.0|         83.0|      87.0|          38.0|        77.0|   89.0|           45.0|    80.0|  84.0|   88.0|                ST |           0|            ST |18.390221546776935|[30.0,92.0,92.0,2...|\n",
            "| 31|     92|       92| 6.1E7|   1493|        58.0|      29.0|   52.0|   35.0|        48.0|     70.0|    15.0| 14.0|     30.0|     13.0|              11.0|     91.0|       90.0|      95.0|          91.0|       89.0|            25.0|         30.0|   78.0|        59.0|      16.0|   10.0|     47.0|       12.0|     85.0|         55.0|      25.0|          11.0|        61.0|   44.0|           10.0|    83.0|  70.0|   11.0|                GK |           1|            GK |17.926384438531027|[31.0,92.0,92.0,1...|\n",
            "+---+-------+---------+------+-------+------------+----------+-------+-------+------------+---------+--------+-----+---------+---------+------------------+---------+-----------+----------+--------------+-----------+----------------+-------------+-------+------------+----------+-------+---------+-----------+---------+-------------+----------+--------------+------------+-------+---------------+--------+------+-------+-------------------+------------+---------------+------------------+--------------------+\n",
            "only showing top 5 rows\n",
            "\n"
          ]
        }
      ],
      "source": [
        "# create a vector assembler to combine the features into a single vector\n",
        "assembler = VectorAssembler(inputCols=['Age', 'Overall', 'Potential', 'Special', 'Acceleration', 'Aggression', 'Agility', 'Balance', 'Ball control', 'Composure', 'Crossing', 'Curve', 'Dribbling', 'Finishing', 'Free kick accuracy', 'GK diving', 'GK handling', 'GK kicking', 'GK positioning', 'GK reflexes', 'Heading accuracy', 'Interceptions', 'Jumping', 'Long passing', 'Long shots', 'Marking', 'Penalties', 'Positioning', 'Reactions', 'Short passing', 'Shot power', 'Sliding tackle', 'Sprint speed', 'Stamina', 'Standing tackle', 'Strength', 'Vision', 'Volleys'], outputCol=\"new_features\")\n",
        "# transform the data using the vector assembler\n",
        "data = assembler.transform(df)\n",
        "# split the data into training and testing sets\n",
        "train_data, test_data = data.randomSplit([0.7, 0.3])\n",
        "# split the data into training and testing sets\n",
        "train_data, test_data = data.randomSplit([0.7, 0.3])\n",
        "data.show(5)"
      ]
    },
    {
      "cell_type": "code",
      "execution_count": null,
      "metadata": {
        "colab": {
          "base_uri": "https://localhost:8080/"
        },
        "id": "0ow-bOZeMUe7",
        "outputId": "b6ec3518-4753-4f5b-b2e9-1c3e8d8b40c5"
      },
      "outputs": [
        {
          "name": "stdout",
          "output_type": "stream",
          "text": [
            "+---+-------+---------+------+-------+------------+----------+-------+-------+------------+---------+--------+-----+---------+---------+------------------+---------+-----------+----------+--------------+-----------+----------------+-------------+-------+------------+----------+-------+---------+-----------+---------+-------------+----------+--------------+------------+-------+---------------+--------+------+-------+-------------------+------------+---------------+------------------+\n",
            "|Age|Overall|Potential| Value|Special|Acceleration|Aggression|Agility|Balance|Ball control|Composure|Crossing|Curve|Dribbling|Finishing|Free kick accuracy|GK diving|GK handling|GK kicking|GK positioning|GK reflexes|Heading accuracy|Interceptions|Jumping|Long passing|Long shots|Marking|Penalties|Positioning|Reactions|Short passing|Shot power|Sliding tackle|Sprint speed|Stamina|Standing tackle|Strength|Vision|Volleys|Preferred Positions|Major_Nation|Simple_Position|         log_Value|\n",
            "+---+-------+---------+------+-------+------------+----------+-------+-------+------------+---------+--------+-----+---------+---------+------------------+---------+-----------+----------+--------------+-----------+----------------+-------------+-------+------------+----------+-------+---------+-----------+---------+-------------+----------+--------------+------------+-------+---------------+--------+------+-------+-------------------+------------+---------------+------------------+\n",
            "| 32|     94|       94|9.55E7|   2228|        89.0|      63.0|   89.0|   63.0|        93.0|     95.0|    85.0| 81.0|     91.0|     94.0|              76.0|      7.0|       11.0|      15.0|          14.0|       11.0|            88.0|         29.0|   95.0|        77.0|      92.0|   22.0|     85.0|       95.0|     96.0|         83.0|      94.0|          23.0|        91.0|   92.0|           31.0|    80.0|  85.0|   88.0|             ST LW |           1|         ST LW |18.374636815922162|\n",
            "| 30|     93|       93|1.05E8|   2154|        92.0|      48.0|   90.0|   95.0|        95.0|     96.0|    77.0| 89.0|     97.0|     95.0|              90.0|      6.0|       11.0|      15.0|          14.0|        8.0|            71.0|         22.0|   68.0|        87.0|      88.0|   13.0|     74.0|       93.0|     95.0|         88.0|      85.0|          26.0|        87.0|   73.0|           28.0|    59.0|  90.0|   85.0|                RW |           1|            RW | 18.46947091764561|\n",
            "| 25|     92|       94|1.23E8|   2100|        94.0|      56.0|   96.0|   82.0|        95.0|     92.0|    75.0| 81.0|     96.0|     89.0|              84.0|      9.0|        9.0|      15.0|          15.0|       11.0|            62.0|         36.0|   61.0|        75.0|      77.0|   21.0|     81.0|       90.0|     88.0|         81.0|      80.0|          33.0|        90.0|   78.0|           24.0|    53.0|  80.0|   83.0|                LW |           1|            LW |18.627694921466773|\n",
            "| 30|     92|       92| 9.7E7|   2291|        88.0|      78.0|   86.0|   60.0|        91.0|     83.0|    77.0| 86.0|     86.0|     94.0|              84.0|     27.0|       25.0|      31.0|          33.0|       37.0|            77.0|         41.0|   69.0|        64.0|      86.0|   30.0|     85.0|       92.0|     93.0|         83.0|      87.0|          38.0|        77.0|   89.0|           45.0|    80.0|  84.0|   88.0|                ST |           0|            ST |18.390221546776935|\n",
            "| 31|     92|       92| 6.1E7|   1493|        58.0|      29.0|   52.0|   35.0|        48.0|     70.0|    15.0| 14.0|     30.0|     13.0|              11.0|     91.0|       90.0|      95.0|          91.0|       89.0|            25.0|         30.0|   78.0|        59.0|      16.0|   10.0|     47.0|       12.0|     85.0|         55.0|      25.0|          11.0|        61.0|   44.0|           10.0|    83.0|  70.0|   11.0|                GK |           1|            GK |17.926384438531027|\n",
            "+---+-------+---------+------+-------+------------+----------+-------+-------+------------+---------+--------+-----+---------+---------+------------------+---------+-----------+----------+--------------+-----------+----------------+-------------+-------+------------+----------+-------+---------+-----------+---------+-------------+----------+--------------+------------+-------+---------------+--------+------+-------+-------------------+------------+---------------+------------------+\n",
            "only showing top 5 rows\n",
            "\n"
          ]
        }
      ],
      "source": [
        "df = df.fillna(0)\n",
        "df = df.drop('new_features','features')\n",
        "df.show(5)"
      ]
    },
    {
      "cell_type": "code",
      "execution_count": null,
      "metadata": {
        "colab": {
          "base_uri": "https://localhost:8080/"
        },
        "id": "8CtjCcUuRBvi",
        "outputId": "df0670cf-0596-4a93-b21d-044a0902ef95"
      },
      "outputs": [
        {
          "name": "stdout",
          "output_type": "stream",
          "text": [
            "+---+-------+---------+------------+---------------+------------------+\n",
            "|Age|Overall|Dribbling|Major_Nation|Simple_Position|         log_Value|\n",
            "+---+-------+---------+------------+---------------+------------------+\n",
            "| 32|     94|     91.0|           1|         ST LW |18.374636815922162|\n",
            "| 30|     93|     97.0|           1|            RW | 18.46947091764561|\n",
            "| 25|     92|     96.0|           1|            LW |18.627694921466773|\n",
            "| 30|     92|     86.0|           0|            ST |18.390221546776935|\n",
            "| 31|     92|     30.0|           1|            GK |17.926384438531027|\n",
            "+---+-------+---------+------------+---------------+------------------+\n",
            "only showing top 5 rows\n",
            "\n"
          ]
        }
      ],
      "source": [
        "model_df = df.select(col(\"Age\"), col(\"Overall\"), col(\"Dribbling\"), col(\"Major_Nation\"), col(\"Simple_Position\"), col(\"log_Value\"))\n",
        "model_df.show(5)\n",
        "model_df = model_df.fillna(0)\n",
        "from pyspark.sql.functions import when\n",
        "model_df = df.withColumn(\"Simple_Position\", when(df.Simple_Position.isNull(), \"unknown\").otherwise(df.Simple_Position))\n",
        "model_df = model_df.dropna()"
      ]
    },
    {
      "cell_type": "code",
      "execution_count": null,
      "metadata": {
        "colab": {
          "base_uri": "https://localhost:8080/"
        },
        "id": "W56N9C9ARbgu",
        "outputId": "8771a71f-dad9-4611-d44c-84ec668f93d7"
      },
      "outputs": [
        {
          "name": "stdout",
          "output_type": "stream",
          "text": [
            "+---+-------+---------+------------+---------------+------------------+\n",
            "|Age|Overall|Dribbling|Major_Nation|Simple_Position|         log_Value|\n",
            "+---+-------+---------+------------+---------------+------------------+\n",
            "| 32|     94|     91.0|           1|         ST LW |18.374636815922162|\n",
            "| 30|     93|     97.0|           1|            RW | 18.46947091764561|\n",
            "| 25|     92|     96.0|           1|            LW |18.627694921466773|\n",
            "| 30|     92|     86.0|           0|            ST |18.390221546776935|\n",
            "| 31|     92|     30.0|           1|            GK |17.926384438531027|\n",
            "+---+-------+---------+------------+---------------+------------------+\n",
            "only showing top 5 rows\n",
            "\n"
          ]
        }
      ],
      "source": [
        "model_df = df.select(col(\"Age\"), col(\"Overall\"), col(\"Dribbling\"), col(\"Major_Nation\"), col(\"Simple_Position\"), col(\"log_Value\"))\n",
        "model_df.show(5)"
      ]
    },
    {
      "cell_type": "code",
      "execution_count": null,
      "metadata": {
        "colab": {
          "base_uri": "https://localhost:8080/"
        },
        "id": "vBmSH8ejSWXU",
        "outputId": "366d289d-8155-4b04-d123-eb6870e6c686"
      },
      "outputs": [
        {
          "name": "stdout",
          "output_type": "stream",
          "text": [
            "root\n",
            " |-- Age: integer (nullable = true)\n",
            " |-- Overall: integer (nullable = true)\n",
            " |-- Dribbling: float (nullable = false)\n",
            " |-- Major_Nation: integer (nullable = false)\n",
            " |-- Simple_Position: string (nullable = true)\n",
            " |-- log_Value: double (nullable = false)\n",
            "\n"
          ]
        }
      ],
      "source": [
        "model_df.printSchema()"
      ]
    },
    {
      "cell_type": "code",
      "execution_count": null,
      "metadata": {
        "colab": {
          "base_uri": "https://localhost:8080/",
          "height": 485
        },
        "id": "_Yx3tufCS2Ca",
        "outputId": "92eecc4c-9b25-4aca-cbb2-b571cdaa2584"
      },
      "outputs": [
        {
          "name": "stdout",
          "output_type": "stream",
          "text": [
            "Accuracy: 0.7933269780743565\n"
          ]
        },
        {
          "data": {
            "image/png": "[encoded data removed]",
            "text/plain": [
              "<Figure size 640x480 with 2 Axes>"
            ]
          },
          "metadata": {},
          "output_type": "display_data"
        }
      ],
      "source": [
        "from pyspark.ml.evaluation import MulticlassClassificationEvaluator\n",
        "from pyspark.ml.classification import DecisionTreeClassifier\n",
        "from pyspark.ml.feature import VectorAssembler\n",
        "from pyspark.ml import Pipeline\n",
        "from pyspark.sql.functions import col\n",
        "import matplotlib.pyplot as plt\n",
        "import seaborn as sns\n",
        "from sklearn.metrics import confusion_matrix\n",
        "import numpy as np\n",
        "\n",
        "data = model_df\n",
        "# Assuming your data is in a DataFrame named 'data'\n",
        "# Split data into training and test sets\n",
        "(train_data, test_data) = data.randomSplit([0.7, 0.3], seed=123)\n",
        "\n",
        "# Define the assembler and classifier\n",
        "assembler = VectorAssembler(inputCols=['Age', 'Overall', 'Dribbling'], outputCol='features')\n",
        "classifier = DecisionTreeClassifier(labelCol='Major_Nation', featuresCol='features')\n",
        "\n",
        "# Define the pipeline\n",
        "pipeline = Pipeline(stages=[assembler, classifier])\n",
        "\n",
        "# Fit the pipeline object to the data\n",
        "model = pipeline.fit(train_data)\n",
        "\n",
        "# Make predictions on the test data\n",
        "predictions = model.transform(test_data)\n",
        "\n",
        "# Evaluate the performance of the model\n",
        "evaluator = MulticlassClassificationEvaluator(labelCol='Major_Nation', predictionCol='prediction', metricName='accuracy')\n",
        "accuracy = evaluator.evaluate(predictions)\n",
        "print('Accuracy:', accuracy)\n",
        "\n",
        "# Plot the confusion matrix\n",
        "y_true = predictions.select(['Major_Nation']).collect()\n",
        "y_pred = predictions.select(['prediction']).collect()\n",
        "cm = confusion_matrix(y_true, y_pred)\n",
        "\n",
        "sns.set(font_scale=1.4)\n",
        "sns.heatmap(cm, annot=True, cmap='Blues', fmt='g')\n",
        "plt.xlabel('Predicted')\n",
        "plt.ylabel('True')\n",
        "plt.show()\n"
      ]
    },
    {
      "cell_type": "code",
      "execution_count": null,
      "metadata": {
        "colab": {
          "base_uri": "https://localhost:8080/"
        },
        "id": "_owjNIgDTMv_",
        "outputId": "fb24d4b1-2335-4a1f-d1ff-3d801447ff36"
      },
      "outputs": [
        {
          "name": "stdout",
          "output_type": "stream",
          "text": [
            "AUC score: 0.5436174221167568\n"
          ]
        }
      ],
      "source": [
        "from pyspark.ml.classification import LogisticRegression\n",
        "from pyspark.ml.feature import VectorAssembler\n",
        "from pyspark.ml.evaluation import BinaryClassificationEvaluator\n",
        "\n",
        "# Assuming your data is in a DataFrame named 'data'\n",
        "data = model_df\n",
        "# Select the columns to use as features and target variable\n",
        "feature_cols = ['Age', 'Overall', 'Dribbling']\n",
        "target_col = 'Major_Nation'\n",
        "\n",
        "# Assemble the features into a single vector column\n",
        "assembler = VectorAssembler(inputCols=feature_cols, outputCol='features')\n",
        "data = assembler.transform(data)\n",
        "\n",
        "# Split the data into training and test sets\n",
        "train_data, test_data = data.randomSplit([0.8, 0.2], seed=42)\n",
        "\n",
        "# Create a Logistic Regression model\n",
        "lr = LogisticRegression(featuresCol='features', labelCol=target_col)\n",
        "\n",
        "# Fit the model to the training data\n",
        "model = lr.fit(train_data)\n",
        "\n",
        "# Make predictions on the test data\n",
        "predictions = model.transform(test_data)\n",
        "\n",
        "# Evaluate the model using the BinaryClassificationEvaluator\n",
        "evaluator = BinaryClassificationEvaluator(rawPredictionCol='rawPrediction', labelCol=target_col)\n",
        "auc = evaluator.evaluate(predictions)\n",
        "\n",
        "# Print the AUC score\n",
        "print(f'AUC score: {auc}')\n"
      ]
    },
    {
      "cell_type": "code",
      "execution_count": null,
      "metadata": {
        "colab": {
          "base_uri": "https://localhost:8080/",
          "height": 537
        },
        "id": "cedsKmqjTwVL",
        "outputId": "73c4d6d0-da55-42a4-9180-109728bafd38"
      },
      "outputs": [
        {
          "name": "stdout",
          "output_type": "stream",
          "text": [
            "RMSE: 1.703180416632336\n",
            "MAE: 0.47571268993555144\n",
            "R-squared: 0.4023936204851659\n",
            "Adjusted R-squared: 0.40204359722500493\n"
          ]
        },
        {
          "data": {
            "image/png": "[encoded data removed]",
            "text/plain": [
              "<Figure size 640x480 with 1 Axes>"
            ]
          },
          "metadata": {},
          "output_type": "display_data"
        }
      ],
      "source": [
        "from pyspark.ml.regression import LinearRegression\n",
        "from pyspark.ml.feature import VectorAssembler\n",
        "from pyspark.ml.evaluation import RegressionEvaluator\n",
        "\n",
        "# Assuming your data is in a DataFrame named 'data'\n",
        "data = model_df\n",
        "\n",
        "# Split data into training and test sets\n",
        "(trainingData, testData) = data.randomSplit([0.7, 0.3], seed=42)\n",
        "\n",
        "# Create a VectorAssembler object to combine features\n",
        "assembler = VectorAssembler(inputCols=[\"Age\", \"Overall\", \"Dribbling\"], outputCol=\"features\")\n",
        "\n",
        "# Create a LinearRegression object\n",
        "lr = LinearRegression(featuresCol=\"features\", labelCol=\"log_Value\")\n",
        "\n",
        "# Create a pipeline object\n",
        "pipeline = Pipeline(stages=[assembler, lr])\n",
        "\n",
        "# Train the model\n",
        "model = pipeline.fit(trainingData)\n",
        "\n",
        "# Make predictions on test data\n",
        "predictions = model.transform(testData)\n",
        "\n",
        "# Evaluate the model using RMSE metric\n",
        "evaluator = RegressionEvaluator(predictionCol=\"prediction\", labelCol=\"log_Value\", metricName=\"rmse\")\n",
        "rmse = evaluator.evaluate(predictions)\n",
        "\n",
        "# Evaluate the model using MAE metric\n",
        "evaluator = RegressionEvaluator(predictionCol=\"prediction\", labelCol=\"log_Value\", metricName=\"mae\")\n",
        "mae = evaluator.evaluate(predictions)\n",
        "\n",
        "# Evaluate the model using R-squared metric\n",
        "evaluator = RegressionEvaluator(predictionCol=\"prediction\", labelCol=\"log_Value\", metricName=\"r2\")\n",
        "r2 = evaluator.evaluate(predictions)\n",
        "\n",
        "# Evaluate the model using adjusted R-squared metric\n",
        "n = testData.count()\n",
        "p = len(assembler.getInputCols())\n",
        "adj_r2 = 1 - (1 - r2) * ((n - 1) / (n - p - 1))\n",
        "\n",
        "# Print evaluation metrics\n",
        "print(\"RMSE:\", rmse)\n",
        "print(\"MAE:\", mae)\n",
        "print(\"R-squared:\", r2)\n",
        "print(\"Adjusted R-squared:\", adj_r2)\n",
        "\n",
        "# Plot actual vs. predicted values\n",
        "actual = predictions.select(\"log_Value\").toPandas()\n",
        "predicted = predictions.select(\"prediction\").toPandas()\n",
        "plt.scatter(actual, predicted)\n",
        "plt.xlabel(\"Actual log(Value)\")\n",
        "plt.ylabel(\"Predicted log(Value)\")\n",
        "plt.show()\n"
      ]
    },
    {
      "cell_type": "code",
      "execution_count": null,
      "metadata": {
        "id": "-4pvnjoJUbUD"
      },
      "outputs": [],
      "source": [
        "from pyspark.ml.feature import StringIndexer, OneHotEncoder, VectorAssembler\n",
        "from pyspark.ml.classification import NaiveBayes\n",
        "from pyspark.ml import Pipeline\n",
        "from pyspark.ml.evaluation import MulticlassClassificationEvaluator\n",
        "\n",
        "# Assuming your data is in a DataFrame named 'data'\n",
        "data = model_df\n",
        "\n",
        "# Convert categorical variables to numerical using StringIndexer and OneHotEncoder\n",
        "indexer = StringIndexer(inputCol=\"Simple_Position\", outputCol=\"Simple_Position_indexed\")\n",
        "encoder = OneHotEncoder(inputCol=\"Simple_Position_indexed\", outputCol=\"Simple_Position_encoded\")\n",
        "assembler = VectorAssembler(inputCols=[\"Age\", \"Overall\", \"Dribbling\", \"Simple_Position_encoded\"], outputCol=\"features\")\n",
        "\n",
        "# Split data into training and test sets\n",
        "(trainingData, testData) = data.randomSplit([0.7, 0.3], seed=42)\n",
        "\n",
        "# Create a NaiveBayes object\n",
        "nb = NaiveBayes(featuresCol=\"features\", labelCol=\"Major_Nation\")\n",
        "\n",
        "# Create a pipeline object\n",
        "pipeline = Pipeline(stages=[indexer, encoder, assembler, nb])\n",
        "\n",
        "# Train the model\n",
        "model = pipeline.fit(trainingData)\n",
        "\n",
        "# Make predictions on test data\n",
        "predictions = model.transform(testData)\n",
        "\n",
        "# Evaluate the model using accuracy and F1-score metrics\n",
        "evaluator_acc = MulticlassClassificationEvaluator(labelCol=\"Major_Nation\", predictionCol=\"prediction\", metricName=\"accuracy\")\n",
        "\n",
        "evaluator_f1 = MulticlassClassificationEvaluator(labelCol=\"Major_Nation\", predictionCol=\"prediction\", metricName=\"f1\")\n"
      ]
    },
    {
      "cell_type": "code",
      "execution_count": null,
      "metadata": {
        "id": "3uWNMI60D5xz"
      },
      "outputs": [],
      "source": [
        "from pyspark.context import SparkContext\n",
        "from pyspark.sql.session import SparkSession\n",
        "\n",
        "# Stop the existing SparkContext, if any\n",
        "try:\n",
        "    sc.stop()\n",
        "except:\n",
        "    pass\n",
        "\n",
        "# Create a new SparkContext\n",
        "sc = SparkContext('local')\n",
        "spark = SparkSession(sc)"
      ]
    },
    {
      "cell_type": "markdown",
      "metadata": {
        "id": "qeXs1rD97GPs"
      },
      "source": [
        "USING PYSPARK"
      ]
    },
    {
      "cell_type": "markdown",
      "metadata": {
        "id": "q0Yf0hdR7KFq"
      },
      "source": [
        "FEATURE ENGINEERING"
      ]
    },
    {
      "cell_type": "code",
      "execution_count": null,
      "metadata": {
        "id": "QpPAMGoh7OrN"
      },
      "outputs": [],
      "source": [
        "from pyspark.sql import SparkSession\n",
        "from pyspark.sql.functions import concat, lit"
      ]
    },
    {
      "cell_type": "code",
      "execution_count": null,
      "metadata": {
        "id": "VqqZAJj37R3h"
      },
      "outputs": [],
      "source": [
        "spark = SparkSession.builder.appName(\"CombineNames\").getOrCreate()"
      ]
    },
    {
      "cell_type": "code",
      "execution_count": null,
      "metadata": {
        "id": "8bcKQ1bk7Uyk"
      },
      "outputs": [],
      "source": [
        "df = spark.read.csv(\"/content/players_18.csv\", header=True, inferSchema=True)"
      ]
    },
    {
      "cell_type": "code",
      "source": [
        "df.columns"
      ],
      "metadata": {
        "colab": {
          "base_uri": "https://localhost:8080/"
        },
        "id": "9ScAsNBm8EZW",
        "outputId": "b488e3b6-09cc-4d1c-8edd-0af5681f8a07"
      },
      "execution_count": null,
      "outputs": [
        {
          "output_type": "execute_result",
          "data": {
            "text/plain": [
              "['sofifa_id',\n",
              " 'player_url',\n",
              " 'short_name',\n",
              " 'long_name',\n",
              " 'player_positions',\n",
              " 'overall',\n",
              " 'potential',\n",
              " 'value_eur',\n",
              " 'wage_eur',\n",
              " 'age',\n",
              " 'dob',\n",
              " 'height_cm',\n",
              " 'weight_kg',\n",
              " 'club_team_id',\n",
              " 'club_name',\n",
              " 'league_name',\n",
              " 'league_level',\n",
              " 'club_position',\n",
              " 'club_jersey_number',\n",
              " 'club_loaned_from',\n",
              " 'club_joined',\n",
              " 'club_contract_valid_until',\n",
              " 'nationality_id',\n",
              " 'nationality_name',\n",
              " 'nation_team_id',\n",
              " 'nation_position',\n",
              " 'nation_jersey_number',\n",
              " 'preferred_foot',\n",
              " 'weak_foot',\n",
              " 'skill_moves',\n",
              " 'international_reputation',\n",
              " 'work_rate',\n",
              " 'body_type',\n",
              " 'real_face',\n",
              " 'release_clause_eur',\n",
              " 'player_tags',\n",
              " 'player_traits',\n",
              " 'pace',\n",
              " 'shooting',\n",
              " 'passing',\n",
              " 'dribbling',\n",
              " 'defending',\n",
              " 'physic',\n",
              " 'attacking_crossing',\n",
              " 'attacking_finishing',\n",
              " 'attacking_heading_accuracy',\n",
              " 'attacking_short_passing',\n",
              " 'attacking_volleys',\n",
              " 'skill_dribbling',\n",
              " 'skill_curve',\n",
              " 'skill_fk_accuracy',\n",
              " 'skill_long_passing',\n",
              " 'skill_ball_control',\n",
              " 'movement_acceleration',\n",
              " 'movement_sprint_speed',\n",
              " 'movement_agility',\n",
              " 'movement_reactions',\n",
              " 'movement_balance',\n",
              " 'power_shot_power',\n",
              " 'power_jumping',\n",
              " 'power_stamina',\n",
              " 'power_strength',\n",
              " 'power_long_shots',\n",
              " 'mentality_aggression',\n",
              " 'mentality_interceptions',\n",
              " 'mentality_positioning',\n",
              " 'mentality_vision',\n",
              " 'mentality_penalties',\n",
              " 'mentality_composure',\n",
              " 'defending_marking_awareness',\n",
              " 'defending_standing_tackle',\n",
              " 'defending_sliding_tackle',\n",
              " 'goalkeeping_diving',\n",
              " 'goalkeeping_handling',\n",
              " 'goalkeeping_kicking',\n",
              " 'goalkeeping_positioning',\n",
              " 'goalkeeping_reflexes',\n",
              " 'goalkeeping_speed',\n",
              " 'ls',\n",
              " 'st',\n",
              " 'rs',\n",
              " 'lw',\n",
              " 'lf',\n",
              " 'cf',\n",
              " 'rf',\n",
              " 'rw',\n",
              " 'lam',\n",
              " 'cam',\n",
              " 'ram',\n",
              " 'lm',\n",
              " 'lcm',\n",
              " 'cm',\n",
              " 'rcm',\n",
              " 'rm',\n",
              " 'lwb',\n",
              " 'ldm',\n",
              " 'cdm',\n",
              " 'rdm',\n",
              " 'rwb',\n",
              " 'lb',\n",
              " 'lcb',\n",
              " 'cb',\n",
              " 'rcb',\n",
              " 'rb',\n",
              " 'gk',\n",
              " 'player_face_url',\n",
              " 'club_logo_url',\n",
              " 'club_flag_url',\n",
              " 'nation_logo_url',\n",
              " 'nation_flag_url']"
            ]
          },
          "metadata": {},
          "execution_count": 76
        }
      ]
    },
    {
      "cell_type": "code",
      "execution_count": null,
      "metadata": {
        "id": "85SbuPCS7Urg"
      },
      "outputs": [],
      "source": [
        "df = df.drop(\"long_name\", \"short_name\")"
      ]
    },
    {
      "cell_type": "code",
      "execution_count": null,
      "metadata": {
        "id": "0p6lafF97gJw",
        "colab": {
          "base_uri": "https://localhost:8080/"
        },
        "outputId": "33430341-85fa-48ff-95d8-3c1e660243de"
      },
      "outputs": [
        {
          "output_type": "stream",
          "name": "stdout",
          "text": [
            "+---------+--------------------+----------------+-------+---------+---------+--------+---+-------------------+---------+---------+------------+-------------------+--------------------+------------+-------------+------------------+----------------+-------------------+-------------------------+--------------+----------------+--------------+---------------+--------------------+--------------+---------+-----------+------------------------+-------------+----------------+---------+------------------+--------------------+--------------------+----+--------+-------+---------+---------+------+------------------+-------------------+--------------------------+-----------------------+-----------------+---------------+-----------+-----------------+------------------+------------------+---------------------+---------------------+----------------+------------------+----------------+----------------+-------------+-------------+--------------+----------------+--------------------+-----------------------+---------------------+----------------+-------------------+-------------------+---------------------------+-------------------------+------------------------+------------------+--------------------+-------------------+-----------------------+--------------------+-----------------+----+----+----+----+----+----+----+----+----+----+----+----+----+----+----+----+----+----+----+----+----+----+----+----+----+----+----+--------------------+--------------------+--------------------+--------------------+--------------------+\n",
            "|sofifa_id|          player_url|player_positions|overall|potential|value_eur|wage_eur|age|                dob|height_cm|weight_kg|club_team_id|          club_name|         league_name|league_level|club_position|club_jersey_number|club_loaned_from|        club_joined|club_contract_valid_until|nationality_id|nationality_name|nation_team_id|nation_position|nation_jersey_number|preferred_foot|weak_foot|skill_moves|international_reputation|    work_rate|       body_type|real_face|release_clause_eur|         player_tags|       player_traits|pace|shooting|passing|dribbling|defending|physic|attacking_crossing|attacking_finishing|attacking_heading_accuracy|attacking_short_passing|attacking_volleys|skill_dribbling|skill_curve|skill_fk_accuracy|skill_long_passing|skill_ball_control|movement_acceleration|movement_sprint_speed|movement_agility|movement_reactions|movement_balance|power_shot_power|power_jumping|power_stamina|power_strength|power_long_shots|mentality_aggression|mentality_interceptions|mentality_positioning|mentality_vision|mentality_penalties|mentality_composure|defending_marking_awareness|defending_standing_tackle|defending_sliding_tackle|goalkeeping_diving|goalkeeping_handling|goalkeeping_kicking|goalkeeping_positioning|goalkeeping_reflexes|goalkeeping_speed|  ls|  st|  rs|  lw|  lf|  cf|  rf|  rw| lam| cam| ram|  lm| lcm|  cm| rcm|  rm| lwb| ldm| cdm| rdm| rwb|  lb| lcb|  cb| rcb|  rb|  gk|     player_face_url|       club_logo_url|       club_flag_url|     nation_logo_url|     nation_flag_url|\n",
            "+---------+--------------------+----------------+-------+---------+---------+--------+---+-------------------+---------+---------+------------+-------------------+--------------------+------------+-------------+------------------+----------------+-------------------+-------------------------+--------------+----------------+--------------+---------------+--------------------+--------------+---------+-----------+------------------------+-------------+----------------+---------+------------------+--------------------+--------------------+----+--------+-------+---------+---------+------+------------------+-------------------+--------------------------+-----------------------+-----------------+---------------+-----------+-----------------+------------------+------------------+---------------------+---------------------+----------------+------------------+----------------+----------------+-------------+-------------+--------------+----------------+--------------------+-----------------------+---------------------+----------------+-------------------+-------------------+---------------------------+-------------------------+------------------------+------------------+--------------------+-------------------+-----------------------+--------------------+-----------------+----+----+----+----+----+----+----+----+----+----+----+----+----+----+----+----+----+----+----+----+----+----+----+----+----+----+----+--------------------+--------------------+--------------------+--------------------+--------------------+\n",
            "|    20801|https://sofifa.co...|          LW, ST|     94|       94|   9.55E7|575000.0| 32|1985-02-05 00:00:00|      185|       80|       243.0|     Real Madrid CF|Spain Primera Div...|           1|           LW|                 7|            null|2009-07-01 00:00:00|                     2021|            38|        Portugal|        1354.0|             LS|                   7|         Right|        4|          5|                       5|     High/Low|          Unique|      Yes|         195800000|#Speedster, #Drib...|Power Free-Kick, ...|  90|      93|     82|       90|       33|    80|                85|                 94|                        88|                     83|               88|             91|         81|               76|                77|                93|                   89|                   91|              89|                96|              63|              94|           95|           92|            80|              92|                  63|                     29|                   95|              85|                 85|                 95|                         22|                       31|                      23|                 7|                  11|                 15|                     14|                  11|             null|92+2|92+2|92+2|91+3|91+3|91+3|91+3|91+3|89+4|89+4|89+4|89+4|82+4|82+4|82+4|89+4|66+4|62+4|62+4|62+4|66+4|61+4|53+4|53+4|53+4|61+4|20+4|https://cdn.sofif...|https://cdn.sofif...|https://cdn.sofif...|https://cdn.sofif...|https://cdn.sofif...|\n",
            "|   158023|https://sofifa.co...|              RW|     93|       93|   1.05E8|575000.0| 30|1987-06-24 00:00:00|      170|       72|       241.0|       FC Barcelona|Spain Primera Div...|           1|           RW|                10|            null|2004-07-01 00:00:00|                     2018|            52|       Argentina|        1369.0|             RW|                  10|          Left|        4|          4|                       5|Medium/Medium|          Unique|      Yes|         215300000|#Dribbler, #FK Sp...|Finesse Shot, Lon...|  89|      90|     86|       96|       26|    61|                77|                 95|                        71|                     88|               85|             97|         89|               90|                87|                95|                   92|                   87|              90|                95|              95|              85|           68|           73|            59|              88|                  48|                     22|                   93|              90|                 74|                 96|                         13|                       28|                      26|                 6|                  11|                 15|                     14|                   8|             null|88+4|88+4|88+4|91+2|92+1|92+1|92+1|91+2|92+1|92+1|92+1|90+3|84+4|84+4|84+4|90+3|62+4|59+4|59+4|59+4|62+4|57+4|45+4|45+4|45+4|57+4|19+4|https://cdn.sofif...|https://cdn.sofif...|https://cdn.sofif...|https://cdn.sofif...|https://cdn.sofif...|\n",
            "|   167495|https://sofifa.co...|              GK|     92|       92|    6.1E7|225000.0| 31|1986-03-27 00:00:00|      193|       92|        21.0|  FC Bayern München|German 1. Bundesliga|           1|           GK|                 1|            null|2011-07-01 00:00:00|                     2021|            21|         Germany|        1337.0|             GK|                   1|         Right|        4|          1|                       5|Medium/Medium|   Normal (185+)|      Yes|         100700000|                null|GK Long Throw, 1-...|null|    null|   null|     null|     null|  null|                15|                 13|                        25|                     55|               11|             30|         14|               11|                59|                48|                   58|                   61|              52|                85|              35|              25|           78|           44|            83|              16|                  29|                     30|                   12|              70|                 47|                 70|                         10|                       10|                      11|                91|                  90|                 95|                     91|                  89|               60|36+4|36+4|36+4|40+3|41+3|41+3|41+3|40+3|47+4|47+4|47+4|44+4|48+4|48+4|48+4|44+4|36+4|41+4|41+4|41+4|36+4|34+4|33+4|33+4|33+4|34+4|90+2|https://cdn.sofif...|https://cdn.sofif...|https://cdn.sofif...|https://cdn.sofif...|https://cdn.sofif...|\n",
            "|   176580|https://sofifa.co...|              ST|     92|       92|    9.7E7|500000.0| 30|1987-01-24 00:00:00|      182|       86|       241.0|       FC Barcelona|Spain Primera Div...|           1|           ST|                 9|            null|2014-07-11 00:00:00|                     2021|            60|         Uruguay|        1377.0|             LS|                   9|         Right|        4|          4|                       5|  High/Medium|Normal (170-185)|      Yes|         198900000|#Acrobat, #Clinic...|Diver, Beat Offsi...|  82|      90|     79|       87|       42|    81|                77|                 94|                        77|                     83|               88|             86|         86|               84|                64|                91|                   88|                   77|              86|                93|              60|              87|           69|           89|            80|              86|                  78|                     41|                   92|              84|                 85|                 83|                         30|                       45|                      38|                27|                  25|                 31|                     33|                  37|             null|88+4|88+4|88+4|87+3|88+3|88+3|88+3|87+3|87+4|87+4|87+4|85+4|80+4|80+4|80+4|85+4|68+4|65+4|65+4|65+4|68+4|64+4|58+4|58+4|58+4|64+4|37+4|https://cdn.sofif...|https://cdn.sofif...|https://cdn.sofif...|https://cdn.sofif...|https://cdn.sofif...|\n",
            "|   190871|https://sofifa.co...|              LW|     92|       94|   1.23E8|275000.0| 25|1992-02-05 00:00:00|      175|       68|        73.0|Paris Saint-Germain|      French Ligue 1|           1|           LW|                10|            null|2017-08-03 00:00:00|                     2022|            54|          Brazil|        1370.0|             LW|                  10|         Right|        5|          5|                       5|  High/Medium|          Unique|      Yes|         236800000|#Speedster, #Drib...|Diver, Flair, Spe...|  92|      84|     79|       95|       30|    60|                75|                 89|                        62|                     81|               83|             96|         81|               84|                75|                95|                   94|                   90|              96|                88|              82|              80|           61|           78|            53|              77|                  56|                     36|                   90|              80|                 81|                 92|                         21|                       24|                      33|                 9|                   9|                 15|                     15|                  11|             null|84+4|84+4|84+4|89+3|88+3|88+3|88+3|89+3|88+4|88+4|88+4|87+4|79+4|79+4|79+4|87+4|64+4|59+4|59+4|59+4|64+4|59+4|46+4|46+4|46+4|59+4|20+4|https://cdn.sofif...|https://cdn.sofif...|https://cdn.sofif...|https://cdn.sofif...|https://cdn.sofif...|\n",
            "+---------+--------------------+----------------+-------+---------+---------+--------+---+-------------------+---------+---------+------------+-------------------+--------------------+------------+-------------+------------------+----------------+-------------------+-------------------------+--------------+----------------+--------------+---------------+--------------------+--------------+---------+-----------+------------------------+-------------+----------------+---------+------------------+--------------------+--------------------+----+--------+-------+---------+---------+------+------------------+-------------------+--------------------------+-----------------------+-----------------+---------------+-----------+-----------------+------------------+------------------+---------------------+---------------------+----------------+------------------+----------------+----------------+-------------+-------------+--------------+----------------+--------------------+-----------------------+---------------------+----------------+-------------------+-------------------+---------------------------+-------------------------+------------------------+------------------+--------------------+-------------------+-----------------------+--------------------+-----------------+----+----+----+----+----+----+----+----+----+----+----+----+----+----+----+----+----+----+----+----+----+----+----+----+----+----+----+--------------------+--------------------+--------------------+--------------------+--------------------+\n",
            "only showing top 5 rows\n",
            "\n"
          ]
        }
      ],
      "source": [
        "df.show(5)"
      ]
    },
    {
      "cell_type": "code",
      "execution_count": null,
      "metadata": {
        "id": "wlzW0ycS7gAn",
        "colab": {
          "base_uri": "https://localhost:8080/"
        },
        "outputId": "6f952747-ae46-4901-dac5-6a391ab44890"
      },
      "outputs": [
        {
          "output_type": "stream",
          "name": "stdout",
          "text": [
            "+---------+--------------------+-----------------+--------------------+----------------+-------+---------+---------+--------+---+-------------------+---------+---------+------------+-------------------+--------------------+------------+-------------+------------------+----------------+-------------------+-------------------------+--------------+----------------+--------------+---------------+--------------------+--------------+---------+-----------+------------------------+-------------+----------------+---------+------------------+--------------------+--------------------+----+--------+-------+---------+---------+------+------------------+-------------------+--------------------------+-----------------------+-----------------+---------------+-----------+-----------------+------------------+------------------+---------------------+---------------------+----------------+------------------+----------------+----------------+-------------+-------------+--------------+----------------+--------------------+-----------------------+---------------------+----------------+-------------------+-------------------+---------------------------+-------------------------+------------------------+------------------+--------------------+-------------------+-----------------------+--------------------+-----------------+----+----+----+----+----+----+----+----+----+----+----+----+----+----+----+----+----+----+----+----+----+----+----+----+----+----+----+--------------------+--------------------+--------------------+--------------------+--------------------+\n",
            "|sofifa_id|          player_url|       short_name|           long_name|player_positions|overall|potential|value_eur|wage_eur|age|                dob|height_cm|weight_kg|club_team_id|          club_name|         league_name|league_level|club_position|club_jersey_number|club_loaned_from|        club_joined|club_contract_valid_until|nationality_id|nationality_name|nation_team_id|nation_position|nation_jersey_number|preferred_foot|weak_foot|skill_moves|international_reputation|    work_rate|       body_type|real_face|release_clause_eur|         player_tags|       player_traits|pace|shooting|passing|dribbling|defending|physic|attacking_crossing|attacking_finishing|attacking_heading_accuracy|attacking_short_passing|attacking_volleys|skill_dribbling|skill_curve|skill_fk_accuracy|skill_long_passing|skill_ball_control|movement_acceleration|movement_sprint_speed|movement_agility|movement_reactions|movement_balance|power_shot_power|power_jumping|power_stamina|power_strength|power_long_shots|mentality_aggression|mentality_interceptions|mentality_positioning|mentality_vision|mentality_penalties|mentality_composure|defending_marking_awareness|defending_standing_tackle|defending_sliding_tackle|goalkeeping_diving|goalkeeping_handling|goalkeeping_kicking|goalkeeping_positioning|goalkeeping_reflexes|goalkeeping_speed|  ls|  st|  rs|  lw|  lf|  cf|  rf|  rw| lam| cam| ram|  lm| lcm|  cm| rcm|  rm| lwb| ldm| cdm| rdm| rwb|  lb| lcb|  cb| rcb|  rb|  gk|     player_face_url|       club_logo_url|       club_flag_url|     nation_logo_url|     nation_flag_url|\n",
            "+---------+--------------------+-----------------+--------------------+----------------+-------+---------+---------+--------+---+-------------------+---------+---------+------------+-------------------+--------------------+------------+-------------+------------------+----------------+-------------------+-------------------------+--------------+----------------+--------------+---------------+--------------------+--------------+---------+-----------+------------------------+-------------+----------------+---------+------------------+--------------------+--------------------+----+--------+-------+---------+---------+------+------------------+-------------------+--------------------------+-----------------------+-----------------+---------------+-----------+-----------------+------------------+------------------+---------------------+---------------------+----------------+------------------+----------------+----------------+-------------+-------------+--------------+----------------+--------------------+-----------------------+---------------------+----------------+-------------------+-------------------+---------------------------+-------------------------+------------------------+------------------+--------------------+-------------------+-----------------------+--------------------+-----------------+----+----+----+----+----+----+----+----+----+----+----+----+----+----+----+----+----+----+----+----+----+----+----+----+----+----+----+--------------------+--------------------+--------------------+--------------------+--------------------+\n",
            "|    20801|https://sofifa.co...|Cristiano Ronaldo|Cristiano Ronaldo...|          LW, ST|     94|       94|   9.55E7|575000.0| 32|1985-02-05 00:00:00|      185|       80|       243.0|     Real Madrid CF|Spain Primera Div...|           1|           LW|                 7|            null|2009-07-01 00:00:00|                     2021|            38|        Portugal|        1354.0|             LS|                   7|         Right|        4|          5|                       5|     High/Low|          Unique|      Yes|         195800000|#Speedster, #Drib...|Power Free-Kick, ...|  90|      93|     82|       90|       33|    80|                85|                 94|                        88|                     83|               88|             91|         81|               76|                77|                93|                   89|                   91|              89|                96|              63|              94|           95|           92|            80|              92|                  63|                     29|                   95|              85|                 85|                 95|                         22|                       31|                      23|                 7|                  11|                 15|                     14|                  11|             null|92+2|92+2|92+2|91+3|91+3|91+3|91+3|91+3|89+4|89+4|89+4|89+4|82+4|82+4|82+4|89+4|66+4|62+4|62+4|62+4|66+4|61+4|53+4|53+4|53+4|61+4|20+4|https://cdn.sofif...|https://cdn.sofif...|https://cdn.sofif...|https://cdn.sofif...|https://cdn.sofif...|\n",
            "|   158023|https://sofifa.co...|         L. Messi|Lionel Andrés Mes...|              RW|     93|       93|   1.05E8|575000.0| 30|1987-06-24 00:00:00|      170|       72|       241.0|       FC Barcelona|Spain Primera Div...|           1|           RW|                10|            null|2004-07-01 00:00:00|                     2018|            52|       Argentina|        1369.0|             RW|                  10|          Left|        4|          4|                       5|Medium/Medium|          Unique|      Yes|         215300000|#Dribbler, #FK Sp...|Finesse Shot, Lon...|  89|      90|     86|       96|       26|    61|                77|                 95|                        71|                     88|               85|             97|         89|               90|                87|                95|                   92|                   87|              90|                95|              95|              85|           68|           73|            59|              88|                  48|                     22|                   93|              90|                 74|                 96|                         13|                       28|                      26|                 6|                  11|                 15|                     14|                   8|             null|88+4|88+4|88+4|91+2|92+1|92+1|92+1|91+2|92+1|92+1|92+1|90+3|84+4|84+4|84+4|90+3|62+4|59+4|59+4|59+4|62+4|57+4|45+4|45+4|45+4|57+4|19+4|https://cdn.sofif...|https://cdn.sofif...|https://cdn.sofif...|https://cdn.sofif...|https://cdn.sofif...|\n",
            "|   167495|https://sofifa.co...|         M. Neuer|  Manuel Peter Neuer|              GK|     92|       92|    6.1E7|225000.0| 31|1986-03-27 00:00:00|      193|       92|        21.0|  FC Bayern München|German 1. Bundesliga|           1|           GK|                 1|            null|2011-07-01 00:00:00|                     2021|            21|         Germany|        1337.0|             GK|                   1|         Right|        4|          1|                       5|Medium/Medium|   Normal (185+)|      Yes|         100700000|                null|GK Long Throw, 1-...|null|    null|   null|     null|     null|  null|                15|                 13|                        25|                     55|               11|             30|         14|               11|                59|                48|                   58|                   61|              52|                85|              35|              25|           78|           44|            83|              16|                  29|                     30|                   12|              70|                 47|                 70|                         10|                       10|                      11|                91|                  90|                 95|                     91|                  89|               60|36+4|36+4|36+4|40+3|41+3|41+3|41+3|40+3|47+4|47+4|47+4|44+4|48+4|48+4|48+4|44+4|36+4|41+4|41+4|41+4|36+4|34+4|33+4|33+4|33+4|34+4|90+2|https://cdn.sofif...|https://cdn.sofif...|https://cdn.sofif...|https://cdn.sofif...|https://cdn.sofif...|\n",
            "|   176580|https://sofifa.co...|        L. Suárez|Luis Alberto Suár...|              ST|     92|       92|    9.7E7|500000.0| 30|1987-01-24 00:00:00|      182|       86|       241.0|       FC Barcelona|Spain Primera Div...|           1|           ST|                 9|            null|2014-07-11 00:00:00|                     2021|            60|         Uruguay|        1377.0|             LS|                   9|         Right|        4|          4|                       5|  High/Medium|Normal (170-185)|      Yes|         198900000|#Acrobat, #Clinic...|Diver, Beat Offsi...|  82|      90|     79|       87|       42|    81|                77|                 94|                        77|                     83|               88|             86|         86|               84|                64|                91|                   88|                   77|              86|                93|              60|              87|           69|           89|            80|              86|                  78|                     41|                   92|              84|                 85|                 83|                         30|                       45|                      38|                27|                  25|                 31|                     33|                  37|             null|88+4|88+4|88+4|87+3|88+3|88+3|88+3|87+3|87+4|87+4|87+4|85+4|80+4|80+4|80+4|85+4|68+4|65+4|65+4|65+4|68+4|64+4|58+4|58+4|58+4|64+4|37+4|https://cdn.sofif...|https://cdn.sofif...|https://cdn.sofif...|https://cdn.sofif...|https://cdn.sofif...|\n",
            "|   190871|https://sofifa.co...|           Neymar|Neymar da Silva S...|              LW|     92|       94|   1.23E8|275000.0| 25|1992-02-05 00:00:00|      175|       68|        73.0|Paris Saint-Germain|      French Ligue 1|           1|           LW|                10|            null|2017-08-03 00:00:00|                     2022|            54|          Brazil|        1370.0|             LW|                  10|         Right|        5|          5|                       5|  High/Medium|          Unique|      Yes|         236800000|#Speedster, #Drib...|Diver, Flair, Spe...|  92|      84|     79|       95|       30|    60|                75|                 89|                        62|                     81|               83|             96|         81|               84|                75|                95|                   94|                   90|              96|                88|              82|              80|           61|           78|            53|              77|                  56|                     36|                   90|              80|                 81|                 92|                         21|                       24|                      33|                 9|                   9|                 15|                     15|                  11|             null|84+4|84+4|84+4|89+3|88+3|88+3|88+3|89+3|88+4|88+4|88+4|87+4|79+4|79+4|79+4|87+4|64+4|59+4|59+4|59+4|64+4|59+4|46+4|46+4|46+4|59+4|20+4|https://cdn.sofif...|https://cdn.sofif...|https://cdn.sofif...|https://cdn.sofif...|https://cdn.sofif...|\n",
            "+---------+--------------------+-----------------+--------------------+----------------+-------+---------+---------+--------+---+-------------------+---------+---------+------------+-------------------+--------------------+------------+-------------+------------------+----------------+-------------------+-------------------------+--------------+----------------+--------------+---------------+--------------------+--------------+---------+-----------+------------------------+-------------+----------------+---------+------------------+--------------------+--------------------+----+--------+-------+---------+---------+------+------------------+-------------------+--------------------------+-----------------------+-----------------+---------------+-----------+-----------------+------------------+------------------+---------------------+---------------------+----------------+------------------+----------------+----------------+-------------+-------------+--------------+----------------+--------------------+-----------------------+---------------------+----------------+-------------------+-------------------+---------------------------+-------------------------+------------------------+------------------+--------------------+-------------------+-----------------------+--------------------+-----------------+----+----+----+----+----+----+----+----+----+----+----+----+----+----+----+----+----+----+----+----+----+----+----+----+----+----+----+--------------------+--------------------+--------------------+--------------------+--------------------+\n",
            "only showing top 5 rows\n",
            "\n"
          ]
        }
      ],
      "source": [
        "from pyspark.sql import SparkSession\n",
        "\n",
        "# create a SparkSession\n",
        "spark = SparkSession.builder.appName(\"SelectRows\").getOrCreate()\n",
        "\n",
        "# read the dataset as a DataFrame\n",
        "df = spark.read.csv(\"/content/players_18.csv\", header=True, inferSchema=True)\n",
        "\n",
        "# select the first 10,000 rows and create a new DataFrame\n",
        "df_new = df.limit(10000)\n",
        "\n",
        "# show the first 5 rows of the new DataFrame\n",
        "df_new.show(5)"
      ]
    },
    {
      "cell_type": "code",
      "execution_count": null,
      "metadata": {
        "id": "cln607ti7pLr",
        "colab": {
          "base_uri": "https://localhost:8080/"
        },
        "outputId": "6d4b2f9b-407c-48ff-e021-727cf3a7b5ac"
      },
      "outputs": [
        {
          "output_type": "stream",
          "name": "stdout",
          "text": [
            "root\n",
            " |-- sofifa_id: integer (nullable = true)\n",
            " |-- player_url: string (nullable = true)\n",
            " |-- short_name: string (nullable = true)\n",
            " |-- long_name: string (nullable = true)\n",
            " |-- player_positions: string (nullable = true)\n",
            " |-- overall: integer (nullable = true)\n",
            " |-- potential: integer (nullable = true)\n",
            " |-- value_eur: double (nullable = true)\n",
            " |-- wage_eur: double (nullable = true)\n",
            " |-- age: integer (nullable = true)\n",
            " |-- dob: timestamp (nullable = true)\n",
            " |-- height_cm: integer (nullable = true)\n",
            " |-- weight_kg: integer (nullable = true)\n",
            " |-- club_team_id: double (nullable = true)\n",
            " |-- club_name: string (nullable = true)\n",
            " |-- league_name: string (nullable = true)\n",
            " |-- league_level: integer (nullable = true)\n",
            " |-- club_position: string (nullable = true)\n",
            " |-- club_jersey_number: integer (nullable = true)\n",
            " |-- club_loaned_from: string (nullable = true)\n",
            " |-- club_joined: timestamp (nullable = true)\n",
            " |-- club_contract_valid_until: integer (nullable = true)\n",
            " |-- nationality_id: integer (nullable = true)\n",
            " |-- nationality_name: string (nullable = true)\n",
            " |-- nation_team_id: double (nullable = true)\n",
            " |-- nation_position: string (nullable = true)\n",
            " |-- nation_jersey_number: integer (nullable = true)\n",
            " |-- preferred_foot: string (nullable = true)\n",
            " |-- weak_foot: integer (nullable = true)\n",
            " |-- skill_moves: integer (nullable = true)\n",
            " |-- international_reputation: integer (nullable = true)\n",
            " |-- work_rate: string (nullable = true)\n",
            " |-- body_type: string (nullable = true)\n",
            " |-- real_face: string (nullable = true)\n",
            " |-- release_clause_eur: integer (nullable = true)\n",
            " |-- player_tags: string (nullable = true)\n",
            " |-- player_traits: string (nullable = true)\n",
            " |-- pace: integer (nullable = true)\n",
            " |-- shooting: integer (nullable = true)\n",
            " |-- passing: integer (nullable = true)\n",
            " |-- dribbling: integer (nullable = true)\n",
            " |-- defending: integer (nullable = true)\n",
            " |-- physic: integer (nullable = true)\n",
            " |-- attacking_crossing: integer (nullable = true)\n",
            " |-- attacking_finishing: integer (nullable = true)\n",
            " |-- attacking_heading_accuracy: integer (nullable = true)\n",
            " |-- attacking_short_passing: integer (nullable = true)\n",
            " |-- attacking_volleys: integer (nullable = true)\n",
            " |-- skill_dribbling: integer (nullable = true)\n",
            " |-- skill_curve: integer (nullable = true)\n",
            " |-- skill_fk_accuracy: integer (nullable = true)\n",
            " |-- skill_long_passing: integer (nullable = true)\n",
            " |-- skill_ball_control: integer (nullable = true)\n",
            " |-- movement_acceleration: integer (nullable = true)\n",
            " |-- movement_sprint_speed: integer (nullable = true)\n",
            " |-- movement_agility: integer (nullable = true)\n",
            " |-- movement_reactions: integer (nullable = true)\n",
            " |-- movement_balance: integer (nullable = true)\n",
            " |-- power_shot_power: integer (nullable = true)\n",
            " |-- power_jumping: integer (nullable = true)\n",
            " |-- power_stamina: integer (nullable = true)\n",
            " |-- power_strength: integer (nullable = true)\n",
            " |-- power_long_shots: integer (nullable = true)\n",
            " |-- mentality_aggression: integer (nullable = true)\n",
            " |-- mentality_interceptions: integer (nullable = true)\n",
            " |-- mentality_positioning: integer (nullable = true)\n",
            " |-- mentality_vision: integer (nullable = true)\n",
            " |-- mentality_penalties: integer (nullable = true)\n",
            " |-- mentality_composure: integer (nullable = true)\n",
            " |-- defending_marking_awareness: integer (nullable = true)\n",
            " |-- defending_standing_tackle: integer (nullable = true)\n",
            " |-- defending_sliding_tackle: integer (nullable = true)\n",
            " |-- goalkeeping_diving: integer (nullable = true)\n",
            " |-- goalkeeping_handling: integer (nullable = true)\n",
            " |-- goalkeeping_kicking: integer (nullable = true)\n",
            " |-- goalkeeping_positioning: integer (nullable = true)\n",
            " |-- goalkeeping_reflexes: integer (nullable = true)\n",
            " |-- goalkeeping_speed: integer (nullable = true)\n",
            " |-- ls: string (nullable = true)\n",
            " |-- st: string (nullable = true)\n",
            " |-- rs: string (nullable = true)\n",
            " |-- lw: string (nullable = true)\n",
            " |-- lf: string (nullable = true)\n",
            " |-- cf: string (nullable = true)\n",
            " |-- rf: string (nullable = true)\n",
            " |-- rw: string (nullable = true)\n",
            " |-- lam: string (nullable = true)\n",
            " |-- cam: string (nullable = true)\n",
            " |-- ram: string (nullable = true)\n",
            " |-- lm: string (nullable = true)\n",
            " |-- lcm: string (nullable = true)\n",
            " |-- cm: string (nullable = true)\n",
            " |-- rcm: string (nullable = true)\n",
            " |-- rm: string (nullable = true)\n",
            " |-- lwb: string (nullable = true)\n",
            " |-- ldm: string (nullable = true)\n",
            " |-- cdm: string (nullable = true)\n",
            " |-- rdm: string (nullable = true)\n",
            " |-- rwb: string (nullable = true)\n",
            " |-- lb: string (nullable = true)\n",
            " |-- lcb: string (nullable = true)\n",
            " |-- cb: string (nullable = true)\n",
            " |-- rcb: string (nullable = true)\n",
            " |-- rb: string (nullable = true)\n",
            " |-- gk: string (nullable = true)\n",
            " |-- player_face_url: string (nullable = true)\n",
            " |-- club_logo_url: string (nullable = true)\n",
            " |-- club_flag_url: string (nullable = true)\n",
            " |-- nation_logo_url: string (nullable = true)\n",
            " |-- nation_flag_url: string (nullable = true)\n",
            "\n"
          ]
        }
      ],
      "source": [
        "df_new.printSchema()"
      ]
    },
    {
      "cell_type": "code",
      "execution_count": null,
      "metadata": {
        "id": "zK_ZzZ_97uvy",
        "colab": {
          "base_uri": "https://localhost:8080/"
        },
        "outputId": "6ad41d61-3e6f-4a25-eb4b-f859c697a44b"
      },
      "outputs": [
        {
          "output_type": "stream",
          "name": "stdout",
          "text": [
            "Shape: (10000, 110)\n"
          ]
        }
      ],
      "source": [
        "num_rows = df_new.count()\n",
        "num_cols = len(df_new.columns)\n",
        "print(\"Shape: ({}, {})\".format(num_rows, num_cols))"
      ]
    },
    {
      "cell_type": "code",
      "execution_count": null,
      "metadata": {
        "id": "gAMnPfy87uZY",
        "colab": {
          "base_uri": "https://localhost:8080/"
        },
        "outputId": "e87f8125-b69a-4042-92f8-ebfee44994bc"
      },
      "outputs": [
        {
          "output_type": "stream",
          "name": "stdout",
          "text": [
            "Shape: (17954, 55)\n"
          ]
        }
      ],
      "source": [
        "# Import necessary modules\n",
        "from pyspark.sql.functions import col\n",
        "\n",
        "# Define the columns to drop\n",
        "unwanted_cols = ['sofifa_id', 'player_url', 'short_name', 'long_name', 'player_positions', \n",
        "                 'club_team_id', 'club_name', 'league_name', 'league_level', 'club_position', \n",
        "                 'club_jersey_number', 'club_loaned_from', 'club_joined', 'club_contract_valid_until', \n",
        "                 'nationality_id', 'nationality_name', 'nation_team_id', 'nation_position', \n",
        "                 'nation_jersey_number', 'body_type', 'real_face', 'release_clause_eur', 'player_tags', \n",
        "                 'player_traits', 'ls', 'st', 'rs', 'lw', 'lf', 'cf', 'rf', 'rw', 'lam', 'cam', 'ram', \n",
        "                 'lm', 'lcm', 'cm', 'rcm', 'rm', 'lwb', 'ldm', 'cdm', 'rdm', 'rwb', 'lb', 'lcb', 'cb', \n",
        "                 'rcb', 'rb', 'player_face_url', 'club_logo_url', 'club_flag_url', 'nation_logo_url', \n",
        "                 'nation_flag_url']\n",
        "\n",
        "# Drop the unwanted columns\n",
        "df_new = df.select([col(c) for c in df.columns if c not in unwanted_cols])\n",
        "num_rows = df_new.count()\n",
        "num_cols = len(df_new.columns)\n",
        "print(\"Shape: ({}, {})\".format(num_rows, num_cols))"
      ]
    },
    {
      "cell_type": "code",
      "execution_count": null,
      "metadata": {
        "id": "V7Nzl7ab74ge",
        "colab": {
          "base_uri": "https://localhost:8080/"
        },
        "outputId": "2b285c85-ff4c-49fa-fb9e-f2a72cd6aa32"
      },
      "outputs": [
        {
          "output_type": "stream",
          "name": "stdout",
          "text": [
            "+-------+---------+---------+--------+---+---------+---------+---------+-----------+------------------------+------------------+\n",
            "|overall|potential|value_eur|wage_eur|age|height_cm|weight_kg|weak_foot|skill_moves|international_reputation|preferred_foot_num|\n",
            "+-------+---------+---------+--------+---+---------+---------+---------+-----------+------------------------+------------------+\n",
            "|     94|       94|   9.55E7|575000.0| 32|      185|       80|        4|          5|                       5|                 1|\n",
            "|     93|       93|   1.05E8|575000.0| 30|      170|       72|        4|          4|                       5|                 0|\n",
            "|     92|       92|    6.1E7|225000.0| 31|      193|       92|        4|          1|                       5|                 1|\n",
            "|     92|       92|    9.7E7|500000.0| 30|      182|       86|        4|          4|                       5|                 1|\n",
            "|     92|       94|   1.23E8|275000.0| 25|      175|       68|        5|          5|                       5|                 1|\n",
            "|     91|       91|    9.2E7|350000.0| 28|      185|       79|        4|          3|                       4|                 1|\n",
            "|     90|       90|    5.2E7|300000.0| 31|      183|       75|        3|          3|                       4|                 1|\n",
            "|     90|       90|    7.7E7|275000.0| 29|      184|       87|        4|          3|                       4|                 1|\n",
            "|     90|       90|    7.9E7|325000.0| 27|      182|       78|        5|          3|                       4|                 1|\n",
            "|     90|       91|   9.05E7|300000.0| 26|      173|       76|        4|          4|                       4|                 1|\n",
            "|     90|       92|   6.45E7|200000.0| 26|      193|       76|        3|          1|                       4|                 1|\n",
            "|     89|       89|4500000.0|110000.0| 39|      191|       94|        2|          1|                       4|                 1|\n",
            "|     89|       89|    3.8E7|225000.0| 32|      187|       85|        2|          2|                       4|                 0|\n",
            "|     89|       89|   6.65E7|325000.0| 29|      173|       70|        4|          4|                       4|                 1|\n",
            "|     89|       89|   6.95E7|375000.0| 27|      183|       74|        3|          4|                       4|                 0|\n",
            "|     89|       89|    5.7E7|325000.0| 31|      174|       65|        4|          4|                       4|                 1|\n",
            "|     89|       89|   6.75E7|250000.0| 28|      169|       62|        3|          4|                       4|                 1|\n",
            "|     89|       92|    5.9E7|190000.0| 25|      199|       94|        3|          1|                       4|                 0|\n",
            "|     89|       92|    8.3E7|275000.0| 26|      181|       68|        4|          4|                       4|                 1|\n",
            "|     88|       88|    3.6E7|225000.0| 33|      180|       80|        2|          4|                       4|                 0|\n",
            "+-------+---------+---------+--------+---+---------+---------+---------+-----------+------------------------+------------------+\n",
            "only showing top 20 rows\n",
            "\n"
          ]
        }
      ],
      "source": [
        "# Load the FIFA data into a PySpark dataframe\n",
        "from pyspark.sql.functions import *\n",
        "\n",
        "df = df_new\n",
        "# Select the relevant columns\n",
        "selected_cols = ['overall', 'potential', 'value_eur', 'wage_eur', 'age', 'height_cm', 'weight_kg', 'preferred_foot', 'weak_foot', 'skill_moves', 'international_reputation']\n",
        "\n",
        "# Filter out missing values\n",
        "df_clean = df.select(selected_cols).na.drop()\n",
        "\n",
        "# Filter out incorrect data\n",
        "df_clean = df_clean.filter((df_clean['height_cm'] > 0) & (df_clean['weight_kg'] > 0))\n",
        "\n",
        "# Convert categorical variables to numerical\n",
        "df_clean = df_clean.withColumn('preferred_foot_num', when(df_clean['preferred_foot'] == 'Right', 1).otherwise(0))\n",
        "df_clean = df_clean.drop('preferred_foot')\n",
        "\n",
        "# Show the cleaned dataframe\n",
        "df_clean.show()"
      ]
    },
    {
      "cell_type": "code",
      "execution_count": null,
      "metadata": {
        "id": "qd4p3uEm74Nt",
        "colab": {
          "base_uri": "https://localhost:8080/"
        },
        "outputId": "e41c4092-d27f-4eaa-fb5d-d6e39fa28b6a"
      },
      "outputs": [
        {
          "output_type": "stream",
          "name": "stdout",
          "text": [
            "+-------+---------+--------+---+---------+---------+---------+-----------+------------------------+------------------+------------------+\n",
            "|overall|potential|wage_eur|age|height_cm|weight_kg|weak_foot|skill_moves|international_reputation|preferred_foot_num|     log_value_eur|\n",
            "+-------+---------+--------+---+---------+---------+---------+-----------+------------------------+------------------+------------------+\n",
            "|     94|       94|575000.0| 32|      185|       80|        4|          5|                       5|                 1|18.374636805450958|\n",
            "|     93|       93|575000.0| 30|      170|       72|        4|          4|                       5|                 0|18.469470908121796|\n",
            "|     92|       92|225000.0| 31|      193|       92|        4|          1|                       5|                 1|17.926384422137584|\n",
            "|     92|       92|500000.0| 30|      182|       86|        4|          4|                       5|                 1|18.390221536467656|\n",
            "|     92|       94|275000.0| 25|      175|       68|        5|          5|                       5|                 1|18.627694913336693|\n",
            "|     91|       91|350000.0| 28|      185|       79|        4|          3|                       4|                 1|18.337299135013314|\n",
            "|     90|       90|300000.0| 31|      183|       75|        3|          3|                       4|                 1|  17.7667542765457|\n",
            "|     90|       90|275000.0| 29|      184|       87|        4|          3|                       4|                 1|18.159315979817958|\n",
            "|     90|       90|325000.0| 27|      182|       78|        5|          3|                       4|                 1|18.184958410431296|\n",
            "|     90|       91|300000.0| 26|      173|       76|        4|          4|                       4|                 1|18.320860408670153|\n",
            "|     90|       92|200000.0| 26|      193|       76|        3|          1|                       4|                 1|   17.982175781766|\n",
            "|     89|       89|110000.0| 39|      191|       94|        2|          1|                       4|                 1|15.319587954740548|\n",
            "|     89|       89|225000.0| 32|      187|       85|        2|          2|                       4|                 0| 17.45309671769066|\n",
            "|     89|       89|325000.0| 29|      173|       70|        4|          4|                       4|                 1|18.012712505626084|\n",
            "|     89|       89|375000.0| 27|      183|       74|        3|          4|                       4|                 0| 18.05683731053502|\n",
            "|     89|       89|325000.0| 31|      174|       65|        4|          4|                       4|                 1|17.858561825798823|\n",
            "|     89|       89|250000.0| 28|      169|       62|        3|          4|                       4|                 1| 18.02763815584276|\n",
            "|     89|       92|190000.0| 25|      199|       94|        3|          1|                       4|                 0|17.893048001869992|\n",
            "|     89|       92|275000.0| 26|      181|       68|        4|          4|                       4|                 1|18.234351165760874|\n",
            "|     88|       88|225000.0| 33|      180|       80|        2|          4|                       4|                 0|17.399029496420383|\n",
            "+-------+---------+--------+---+---------+---------+---------+-----------+------------------------+------------------+------------------+\n",
            "only showing top 20 rows\n",
            "\n"
          ]
        }
      ],
      "source": [
        "# Load the FIFA data into a PySpark dataframe\n",
        "from pyspark.sql.functions import *\n",
        "\n",
        "# Remove outliers using IQR method\n",
        "q1 = df_clean.approxQuantile('height_cm', [0.25], 0.01)[0]\n",
        "q3 = df_clean.approxQuantile('height_cm', [0.75], 0.01)[0]\n",
        "iqr = q3 - q1\n",
        "height_lower_bound = q1 - 1.5 * iqr\n",
        "height_upper_bound = q3 + 1.5 * iqr\n",
        "\n",
        "df_clean = df_clean.filter((df_clean['height_cm'] >= height_lower_bound) & (df_clean['height_cm'] <= height_upper_bound))\n",
        "\n",
        "# Transform data using log transformation\n",
        "df_clean = df_clean.withColumn('log_value_eur', log(df_clean['value_eur']))\n",
        "df_clean = df_clean.drop('value_eur')\n",
        "\n",
        "# Show the cleaned dataframe\n",
        "df_clean.show()"
      ]
    },
    {
      "cell_type": "code",
      "execution_count": null,
      "metadata": {
        "id": "D4rNqZKq74KV",
        "colab": {
          "base_uri": "https://localhost:8080/"
        },
        "outputId": "c0c1de0d-5d4e-4c99-e310-049668910580"
      },
      "outputs": [
        {
          "output_type": "stream",
          "name": "stdout",
          "text": [
            "Root Mean Squared Error (RMSE): 0.0\n",
            "Training time: 2.3083465099334717 seconds\n",
            "Prediction time: 0.11918163299560547 seconds\n"
          ]
        }
      ],
      "source": [
        "from pyspark.ml.feature import VectorAssembler\n",
        "from pyspark.ml.regression import LinearRegression\n",
        "from pyspark.ml.evaluation import RegressionEvaluator\n",
        "import time\n",
        "\n",
        "# Create a vector assembler to combine the predictor columns into a feature vector\n",
        "assembler = VectorAssembler(inputCols=['age', 'overall', 'potential', 'log_value_eur', 'wage_eur', 'international_reputation'], outputCol='features')\n",
        "\n",
        "# Apply the vector assembler to the dataframe\n",
        "df_assembled = assembler.transform(df_clean)\n",
        "\n",
        "# Split the data into training and testing sets\n",
        "(training_data, testing_data) = df_assembled.randomSplit([0.8, 0.2])\n",
        "\n",
        "# Create a linear regression model\n",
        "lr = LinearRegression(featuresCol='features', labelCol='log_value_eur')\n",
        "\n",
        "# Time the training phase\n",
        "start_time = time.time()\n",
        "# Fit the model to the training data\n",
        "model = lr.fit(training_data)\n",
        "end_time = time.time()\n",
        "\n",
        "# Calculate the time taken for training\n",
        "training_time = end_time - start_time\n",
        "\n",
        "# Time the prediction phase\n",
        "start_time = time.time()\n",
        "# Make predictions on the testing data\n",
        "predictions = model.transform(testing_data)\n",
        "end_time = time.time()\n",
        "\n",
        "# Calculate the time taken for prediction\n",
        "prediction_time = end_time - start_time\n",
        "\n",
        "# Evaluate the performance of the model using the root mean squared error metric\n",
        "evaluator = RegressionEvaluator(labelCol='log_value_eur', predictionCol='prediction', metricName='rmse')\n",
        "rmse = evaluator.evaluate(predictions)\n",
        "\n",
        "# Print the results\n",
        "print('Root Mean Squared Error (RMSE):', rmse)\n",
        "print('Training time:', training_time, 'seconds')\n",
        "print('Prediction time:', prediction_time, 'seconds')"
      ]
    },
    {
      "cell_type": "code",
      "execution_count": null,
      "metadata": {
        "id": "nRaLUI7B8Gyr",
        "colab": {
          "base_uri": "https://localhost:8080/"
        },
        "outputId": "e7421ca1-6617-4511-c779-8d061f10f1eb"
      },
      "outputs": [
        {
          "output_type": "stream",
          "name": "stdout",
          "text": [
            "MAPE:  0.0\n",
            "R-squared:  1.0\n",
            "Time taken:  2.8759520053863525  seconds\n"
          ]
        }
      ],
      "source": [
        "# Import necessary libraries\n",
        "from pyspark.ml.evaluation import RegressionEvaluator\n",
        "import time\n",
        "\n",
        "# Make predictions on the test data\n",
        "predictions = model.transform(testing_data)\n",
        "\n",
        "# Calculate MAPE and R-squared\n",
        "mape = predictions.selectExpr(\"mean(abs((log_value_eur-prediction)/log_value_eur))*100 as MAPE\").collect()[0]['MAPE']\n",
        "r2 = RegressionEvaluator(labelCol=\"log_value_eur\", predictionCol=\"prediction\", metricName=\"r2\").evaluate(predictions)\n",
        "\n",
        "# Calculate time taken to fit the model\n",
        "start_time = time.time()\n",
        "model = lr.fit(training_data)\n",
        "end_time = time.time()\n",
        "time_taken = end_time - start_time\n",
        "\n",
        "# Print the results\n",
        "print(\"MAPE: \", mape)\n",
        "print(\"R-squared: \", r2)\n",
        "print(\"Time taken: \", time_taken, \" seconds\")"
      ]
    },
    {
      "cell_type": "markdown",
      "metadata": {
        "id": "l4SxWhzm8T-O"
      },
      "source": [
        "USING TRADITIONAL METHOD"
      ]
    },
    {
      "cell_type": "code",
      "execution_count": null,
      "metadata": {
        "id": "mdGh2Ybm8GvT",
        "colab": {
          "base_uri": "https://localhost:8080/"
        },
        "outputId": "1029b9e3-f477-4763-cbfd-a7b9a4626950"
      },
      "outputs": [
        {
          "output_type": "execute_result",
          "data": {
            "text/plain": [
              "DataFrame[overall: int, potential: int, value_eur: double, wage_eur: double, age: int, dob: timestamp, height_cm: int, weight_kg: int, preferred_foot: string, weak_foot: int, skill_moves: int, international_reputation: int, work_rate: string, pace: int, shooting: int, passing: int, dribbling: int, defending: int, physic: int, attacking_crossing: int, attacking_finishing: int, attacking_heading_accuracy: int, attacking_short_passing: int, attacking_volleys: int, skill_dribbling: int, skill_curve: int, skill_fk_accuracy: int, skill_long_passing: int, skill_ball_control: int, movement_acceleration: int, movement_sprint_speed: int, movement_agility: int, movement_reactions: int, movement_balance: int, power_shot_power: int, power_jumping: int, power_stamina: int, power_strength: int, power_long_shots: int, mentality_aggression: int, mentality_interceptions: int, mentality_positioning: int, mentality_vision: int, mentality_penalties: int, mentality_composure: int, defending_marking_awareness: int, defending_standing_tackle: int, defending_sliding_tackle: int, goalkeeping_diving: int, goalkeeping_handling: int, goalkeeping_kicking: int, goalkeeping_positioning: int, goalkeeping_reflexes: int, goalkeeping_speed: int, gk: string]"
            ]
          },
          "metadata": {},
          "execution_count": 87
        }
      ],
      "source": [
        "df"
      ]
    },
    {
      "cell_type": "code",
      "execution_count": null,
      "metadata": {
        "id": "83CvLLDr8czd",
        "colab": {
          "base_uri": "https://localhost:8080/",
          "height": 629
        },
        "outputId": "21822284-5ad8-457b-b873-a993392b212a"
      },
      "outputs": [
        {
          "output_type": "stream",
          "name": "stderr",
          "text": [
            "<ipython-input-95-67e552886059>:4: DtypeWarning:\n",
            "\n",
            "Columns (81,82,83,84,85) have mixed types. Specify dtype option on import or set low_memory=False.\n",
            "\n"
          ]
        },
        {
          "output_type": "execute_result",
          "data": {
            "text/plain": [
              "   sofifa_id                                         player_url  \\\n",
              "0      20801  https://sofifa.com/player/20801/c-ronaldo-dos-...   \n",
              "1     158023  https://sofifa.com/player/158023/lionel-messi/...   \n",
              "2     167495  https://sofifa.com/player/167495/manuel-neuer/...   \n",
              "3     176580  https://sofifa.com/player/176580/luis-suarez/1...   \n",
              "4     190871  https://sofifa.com/player/190871/neymar-da-sil...   \n",
              "\n",
              "          short_name                            long_name player_positions  \\\n",
              "0  Cristiano Ronaldo  Cristiano Ronaldo dos Santos Aveiro           LW, ST   \n",
              "1           L. Messi       Lionel Andrés Messi Cuccittini               RW   \n",
              "2           M. Neuer                   Manuel Peter Neuer               GK   \n",
              "3          L. Suárez             Luis Alberto Suárez Díaz               ST   \n",
              "4             Neymar        Neymar da Silva Santos Júnior               LW   \n",
              "\n",
              "   overall  potential    value_eur  wage_eur  age  ...   lcb    cb   rcb  \\\n",
              "0       94         94   95500000.0  575000.0   32  ...  53+4  53+4  53+4   \n",
              "1       93         93  105000000.0  575000.0   30  ...  45+4  45+4  45+4   \n",
              "2       92         92   61000000.0  225000.0   31  ...  33+4  33+4  33+4   \n",
              "3       92         92   97000000.0  500000.0   30  ...  58+4  58+4  58+4   \n",
              "4       92         94  123000000.0  275000.0   25  ...  46+4  46+4  46+4   \n",
              "\n",
              "     rb    gk                                    player_face_url  \\\n",
              "0  61+4  20+4  https://cdn.sofifa.net/players/020/801/18_120.png   \n",
              "1  57+4  19+4  https://cdn.sofifa.net/players/158/023/18_120.png   \n",
              "2  34+4  90+2  https://cdn.sofifa.net/players/167/495/18_120.png   \n",
              "3  64+4  37+4  https://cdn.sofifa.net/players/176/580/18_120.png   \n",
              "4  59+4  20+4  https://cdn.sofifa.net/players/190/871/18_120.png   \n",
              "\n",
              "                             club_logo_url  \\\n",
              "0  https://cdn.sofifa.net/teams/243/60.png   \n",
              "1  https://cdn.sofifa.net/teams/241/60.png   \n",
              "2   https://cdn.sofifa.net/teams/21/60.png   \n",
              "3  https://cdn.sofifa.net/teams/241/60.png   \n",
              "4   https://cdn.sofifa.net/teams/73/60.png   \n",
              "\n",
              "                         club_flag_url  \\\n",
              "0  https://cdn.sofifa.net/flags/es.png   \n",
              "1  https://cdn.sofifa.net/flags/es.png   \n",
              "2  https://cdn.sofifa.net/flags/de.png   \n",
              "3  https://cdn.sofifa.net/flags/es.png   \n",
              "4  https://cdn.sofifa.net/flags/fr.png   \n",
              "\n",
              "                            nation_logo_url  \\\n",
              "0  https://cdn.sofifa.net/teams/1354/60.png   \n",
              "1  https://cdn.sofifa.net/teams/1369/60.png   \n",
              "2  https://cdn.sofifa.net/teams/1337/60.png   \n",
              "3  https://cdn.sofifa.net/teams/1377/60.png   \n",
              "4  https://cdn.sofifa.net/teams/1370/60.png   \n",
              "\n",
              "                       nation_flag_url  \n",
              "0  https://cdn.sofifa.net/flags/pt.png  \n",
              "1  https://cdn.sofifa.net/flags/ar.png  \n",
              "2  https://cdn.sofifa.net/flags/de.png  \n",
              "3  https://cdn.sofifa.net/flags/uy.png  \n",
              "4  https://cdn.sofifa.net/flags/br.png  \n",
              "\n",
              "[5 rows x 110 columns]"
            ],
            "text/html": [
              "\n",
              "  <div id=\"df-76070dc1-ee23-4a88-8ce4-df1307a75cab\">\n",
              "    <div class=\"colab-df-container\">\n",
              "      <div>\n",
              "<style scoped>\n",
              "    .dataframe tbody tr th:only-of-type {\n",
              "        vertical-align: middle;\n",
              "    }\n",
              "\n",
              "    .dataframe tbody tr th {\n",
              "        vertical-align: top;\n",
              "    }\n",
              "\n",
              "    .dataframe thead th {\n",
              "        text-align: right;\n",
              "    }\n",
              "</style>\n",
              "<table border=\"1\" class=\"dataframe\">\n",
              "  <thead>\n",
              "    <tr style=\"text-align: right;\">\n",
              "      <th></th>\n",
              "      <th>sofifa_id</th>\n",
              "      <th>player_url</th>\n",
              "      <th>short_name</th>\n",
              "      <th>long_name</th>\n",
              "      <th>player_positions</th>\n",
              "      <th>overall</th>\n",
              "      <th>potential</th>\n",
              "      <th>value_eur</th>\n",
              "      <th>wage_eur</th>\n",
              "      <th>age</th>\n",
              "      <th>...</th>\n",
              "      <th>lcb</th>\n",
              "      <th>cb</th>\n",
              "      <th>rcb</th>\n",
              "      <th>rb</th>\n",
              "      <th>gk</th>\n",
              "      <th>player_face_url</th>\n",
              "      <th>club_logo_url</th>\n",
              "      <th>club_flag_url</th>\n",
              "      <th>nation_logo_url</th>\n",
              "      <th>nation_flag_url</th>\n",
              "    </tr>\n",
              "  </thead>\n",
              "  <tbody>\n",
              "    <tr>\n",
              "      <th>0</th>\n",
              "      <td>20801</td>\n",
              "      <td>https://sofifa.com/player/20801/c-ronaldo-dos-...</td>\n",
              "      <td>Cristiano Ronaldo</td>\n",
              "      <td>Cristiano Ronaldo dos Santos Aveiro</td>\n",
              "      <td>LW, ST</td>\n",
              "      <td>94</td>\n",
              "      <td>94</td>\n",
              "      <td>95500000.0</td>\n",
              "      <td>575000.0</td>\n",
              "      <td>32</td>\n",
              "      <td>...</td>\n",
              "      <td>53+4</td>\n",
              "      <td>53+4</td>\n",
              "      <td>53+4</td>\n",
              "      <td>61+4</td>\n",
              "      <td>20+4</td>\n",
              "      <td>https://cdn.sofifa.net/players/020/801/18_120.png</td>\n",
              "      <td>https://cdn.sofifa.net/teams/243/60.png</td>\n",
              "      <td>https://cdn.sofifa.net/flags/es.png</td>\n",
              "      <td>https://cdn.sofifa.net/teams/1354/60.png</td>\n",
              "      <td>https://cdn.sofifa.net/flags/pt.png</td>\n",
              "    </tr>\n",
              "    <tr>\n",
              "      <th>1</th>\n",
              "      <td>158023</td>\n",
              "      <td>https://sofifa.com/player/158023/lionel-messi/...</td>\n",
              "      <td>L. Messi</td>\n",
              "      <td>Lionel Andrés Messi Cuccittini</td>\n",
              "      <td>RW</td>\n",
              "      <td>93</td>\n",
              "      <td>93</td>\n",
              "      <td>105000000.0</td>\n",
              "      <td>575000.0</td>\n",
              "      <td>30</td>\n",
              "      <td>...</td>\n",
              "      <td>45+4</td>\n",
              "      <td>45+4</td>\n",
              "      <td>45+4</td>\n",
              "      <td>57+4</td>\n",
              "      <td>19+4</td>\n",
              "      <td>https://cdn.sofifa.net/players/158/023/18_120.png</td>\n",
              "      <td>https://cdn.sofifa.net/teams/241/60.png</td>\n",
              "      <td>https://cdn.sofifa.net/flags/es.png</td>\n",
              "      <td>https://cdn.sofifa.net/teams/1369/60.png</td>\n",
              "      <td>https://cdn.sofifa.net/flags/ar.png</td>\n",
              "    </tr>\n",
              "    <tr>\n",
              "      <th>2</th>\n",
              "      <td>167495</td>\n",
              "      <td>https://sofifa.com/player/167495/manuel-neuer/...</td>\n",
              "      <td>M. Neuer</td>\n",
              "      <td>Manuel Peter Neuer</td>\n",
              "      <td>GK</td>\n",
              "      <td>92</td>\n",
              "      <td>92</td>\n",
              "      <td>61000000.0</td>\n",
              "      <td>225000.0</td>\n",
              "      <td>31</td>\n",
              "      <td>...</td>\n",
              "      <td>33+4</td>\n",
              "      <td>33+4</td>\n",
              "      <td>33+4</td>\n",
              "      <td>34+4</td>\n",
              "      <td>90+2</td>\n",
              "      <td>https://cdn.sofifa.net/players/167/495/18_120.png</td>\n",
              "      <td>https://cdn.sofifa.net/teams/21/60.png</td>\n",
              "      <td>https://cdn.sofifa.net/flags/de.png</td>\n",
              "      <td>https://cdn.sofifa.net/teams/1337/60.png</td>\n",
              "      <td>https://cdn.sofifa.net/flags/de.png</td>\n",
              "    </tr>\n",
              "    <tr>\n",
              "      <th>3</th>\n",
              "      <td>176580</td>\n",
              "      <td>https://sofifa.com/player/176580/luis-suarez/1...</td>\n",
              "      <td>L. Suárez</td>\n",
              "      <td>Luis Alberto Suárez Díaz</td>\n",
              "      <td>ST</td>\n",
              "      <td>92</td>\n",
              "      <td>92</td>\n",
              "      <td>97000000.0</td>\n",
              "      <td>500000.0</td>\n",
              "      <td>30</td>\n",
              "      <td>...</td>\n",
              "      <td>58+4</td>\n",
              "      <td>58+4</td>\n",
              "      <td>58+4</td>\n",
              "      <td>64+4</td>\n",
              "      <td>37+4</td>\n",
              "      <td>https://cdn.sofifa.net/players/176/580/18_120.png</td>\n",
              "      <td>https://cdn.sofifa.net/teams/241/60.png</td>\n",
              "      <td>https://cdn.sofifa.net/flags/es.png</td>\n",
              "      <td>https://cdn.sofifa.net/teams/1377/60.png</td>\n",
              "      <td>https://cdn.sofifa.net/flags/uy.png</td>\n",
              "    </tr>\n",
              "    <tr>\n",
              "      <th>4</th>\n",
              "      <td>190871</td>\n",
              "      <td>https://sofifa.com/player/190871/neymar-da-sil...</td>\n",
              "      <td>Neymar</td>\n",
              "      <td>Neymar da Silva Santos Júnior</td>\n",
              "      <td>LW</td>\n",
              "      <td>92</td>\n",
              "      <td>94</td>\n",
              "      <td>123000000.0</td>\n",
              "      <td>275000.0</td>\n",
              "      <td>25</td>\n",
              "      <td>...</td>\n",
              "      <td>46+4</td>\n",
              "      <td>46+4</td>\n",
              "      <td>46+4</td>\n",
              "      <td>59+4</td>\n",
              "      <td>20+4</td>\n",
              "      <td>https://cdn.sofifa.net/players/190/871/18_120.png</td>\n",
              "      <td>https://cdn.sofifa.net/teams/73/60.png</td>\n",
              "      <td>https://cdn.sofifa.net/flags/fr.png</td>\n",
              "      <td>https://cdn.sofifa.net/teams/1370/60.png</td>\n",
              "      <td>https://cdn.sofifa.net/flags/br.png</td>\n",
              "    </tr>\n",
              "  </tbody>\n",
              "</table>\n",
              "<p>5 rows × 110 columns</p>\n",
              "</div>\n",
              "      <button class=\"colab-df-convert\" onclick=\"convertToInteractive('df-76070dc1-ee23-4a88-8ce4-df1307a75cab')\"\n",
              "              title=\"Convert this dataframe to an interactive table.\"\n",
              "              style=\"display:none;\">\n",
              "        \n",
              "  <svg xmlns=\"http://www.w3.org/2000/svg\" height=\"24px\"viewBox=\"0 0 24 24\"\n",
              "       width=\"24px\">\n",
              "    <path d=\"M0 0h24v24H0V0z\" fill=\"none\"/>\n",
              "    <path d=\"M18.56 5.44l.94 2.06.94-2.06 2.06-.94-2.06-.94-.94-2.06-.94 2.06-2.06.94zm-11 1L8.5 8.5l.94-2.06 2.06-.94-2.06-.94L8.5 2.5l-.94 2.06-2.06.94zm10 10l.94 2.06.94-2.06 2.06-.94-2.06-.94-.94-2.06-.94 2.06-2.06.94z\"/><path d=\"M17.41 7.96l-1.37-1.37c-.4-.4-.92-.59-1.43-.59-.52 0-1.04.2-1.43.59L10.3 9.45l-7.72 7.72c-.78.78-.78 2.05 0 2.83L4 21.41c.39.39.9.59 1.41.59.51 0 1.02-.2 1.41-.59l7.78-7.78 2.81-2.81c.8-.78.8-2.07 0-2.86zM5.41 20L4 18.59l7.72-7.72 1.47 1.35L5.41 20z\"/>\n",
              "  </svg>\n",
              "      </button>\n",
              "      \n",
              "  <style>\n",
              "    .colab-df-container {\n",
              "      display:flex;\n",
              "      flex-wrap:wrap;\n",
              "      gap: 12px;\n",
              "    }\n",
              "\n",
              "    .colab-df-convert {\n",
              "      background-color: #E8F0FE;\n",
              "      border: none;\n",
              "      border-radius: 50%;\n",
              "      cursor: pointer;\n",
              "      display: none;\n",
              "      fill: #1967D2;\n",
              "      height: 32px;\n",
              "      padding: 0 0 0 0;\n",
              "      width: 32px;\n",
              "    }\n",
              "\n",
              "    .colab-df-convert:hover {\n",
              "      background-color: #E2EBFA;\n",
              "      box-shadow: 0px 1px 2px rgba(60, 64, 67, 0.3), 0px 1px 3px 1px rgba(60, 64, 67, 0.15);\n",
              "      fill: #174EA6;\n",
              "    }\n",
              "\n",
              "    [theme=dark] .colab-df-convert {\n",
              "      background-color: #3B4455;\n",
              "      fill: #D2E3FC;\n",
              "    }\n",
              "\n",
              "    [theme=dark] .colab-df-convert:hover {\n",
              "      background-color: #434B5C;\n",
              "      box-shadow: 0px 1px 3px 1px rgba(0, 0, 0, 0.15);\n",
              "      filter: drop-shadow(0px 1px 2px rgba(0, 0, 0, 0.3));\n",
              "      fill: #FFFFFF;\n",
              "    }\n",
              "  </style>\n",
              "\n",
              "      <script>\n",
              "        const buttonEl =\n",
              "          document.querySelector('#df-76070dc1-ee23-4a88-8ce4-df1307a75cab button.colab-df-convert');\n",
              "        buttonEl.style.display =\n",
              "          google.colab.kernel.accessAllowed ? 'block' : 'none';\n",
              "\n",
              "        async function convertToInteractive(key) {\n",
              "          const element = document.querySelector('#df-76070dc1-ee23-4a88-8ce4-df1307a75cab');\n",
              "          const dataTable =\n",
              "            await google.colab.kernel.invokeFunction('convertToInteractive',\n",
              "                                                     [key], {});\n",
              "          if (!dataTable) return;\n",
              "\n",
              "          const docLinkHtml = 'Like what you see? Visit the ' +\n",
              "            '<a target=\"_blank\" href=https://colab.research.google.com/notebooks/data_table.ipynb>data table notebook</a>'\n",
              "            + ' to learn more about interactive tables.';\n",
              "          element.innerHTML = '';\n",
              "          dataTable['output_type'] = 'display_data';\n",
              "          await google.colab.output.renderOutput(dataTable, element);\n",
              "          const docLink = document.createElement('div');\n",
              "          docLink.innerHTML = docLinkHtml;\n",
              "          element.appendChild(docLink);\n",
              "        }\n",
              "      </script>\n",
              "    </div>\n",
              "  </div>\n",
              "  "
            ]
          },
          "metadata": {},
          "execution_count": 95
        }
      ],
      "source": [
        "import pandas as pd\n",
        "\n",
        "# Read the dataset\n",
        "df = pd.read_csv('/content/players_18.csv')\n",
        "\n",
        "# Select the last 7000 columns\n",
        "last_7000_columns = df.iloc[:, -7000:]\n",
        "last_7000_columns.head(5)"
      ]
    },
    {
      "cell_type": "code",
      "source": [
        "last_7000_columns.columns"
      ],
      "metadata": {
        "colab": {
          "base_uri": "https://localhost:8080/"
        },
        "id": "JxVdvW7N-sQK",
        "outputId": "96f5bfa8-fa98-435f-c0ca-63ccfa52559e"
      },
      "execution_count": null,
      "outputs": [
        {
          "output_type": "execute_result",
          "data": {
            "text/plain": [
              "Index(['sofifa_id', 'player_url', 'short_name', 'long_name',\n",
              "       'player_positions', 'overall', 'potential', 'value_eur', 'wage_eur',\n",
              "       'age',\n",
              "       ...\n",
              "       'lcb', 'cb', 'rcb', 'rb', 'gk', 'player_face_url', 'club_logo_url',\n",
              "       'club_flag_url', 'nation_logo_url', 'nation_flag_url'],\n",
              "      dtype='object', length=110)"
            ]
          },
          "metadata": {},
          "execution_count": 96
        }
      ]
    },
    {
      "cell_type": "code",
      "execution_count": null,
      "metadata": {
        "id": "MNgwsc2Z8lAd",
        "colab": {
          "base_uri": "https://localhost:8080/",
          "height": 386
        },
        "outputId": "29c13f1d-40e0-4fc0-936f-dc27fe20565e"
      },
      "outputs": [
        {
          "output_type": "execute_result",
          "data": {
            "text/plain": [
              "   overall  potential    value_eur  wage_eur  age         dob  height_cm  \\\n",
              "0       94         94   95500000.0  575000.0   32  1985-02-05        185   \n",
              "1       93         93  105000000.0  575000.0   30  1987-06-24        170   \n",
              "2       92         92   61000000.0  225000.0   31  1986-03-27        193   \n",
              "3       92         92   97000000.0  500000.0   30  1987-01-24        182   \n",
              "4       92         94  123000000.0  275000.0   25  1992-02-05        175   \n",
              "\n",
              "   weight_kg preferred_foot  weak_foot  ...  defending_marking_awareness  \\\n",
              "0         80          Right          4  ...                           22   \n",
              "1         72           Left          4  ...                           13   \n",
              "2         92          Right          4  ...                           10   \n",
              "3         86          Right          4  ...                           30   \n",
              "4         68          Right          5  ...                           21   \n",
              "\n",
              "   defending_standing_tackle defending_sliding_tackle  goalkeeping_diving  \\\n",
              "0                         31                       23                   7   \n",
              "1                         28                       26                   6   \n",
              "2                         10                       11                  91   \n",
              "3                         45                       38                  27   \n",
              "4                         24                       33                   9   \n",
              "\n",
              "   goalkeeping_handling  goalkeeping_kicking  goalkeeping_positioning  \\\n",
              "0                    11                   15                       14   \n",
              "1                    11                   15                       14   \n",
              "2                    90                   95                       91   \n",
              "3                    25                   31                       33   \n",
              "4                     9                   15                       15   \n",
              "\n",
              "   goalkeeping_reflexes  goalkeeping_speed    gk  \n",
              "0                    11                NaN  20+4  \n",
              "1                     8                NaN  19+4  \n",
              "2                    89               60.0  90+2  \n",
              "3                    37                NaN  37+4  \n",
              "4                    11                NaN  20+4  \n",
              "\n",
              "[5 rows x 55 columns]"
            ],
            "text/html": [
              "\n",
              "  <div id=\"df-26bdc0b6-69ff-4244-9c92-c5dfd1533742\">\n",
              "    <div class=\"colab-df-container\">\n",
              "      <div>\n",
              "<style scoped>\n",
              "    .dataframe tbody tr th:only-of-type {\n",
              "        vertical-align: middle;\n",
              "    }\n",
              "\n",
              "    .dataframe tbody tr th {\n",
              "        vertical-align: top;\n",
              "    }\n",
              "\n",
              "    .dataframe thead th {\n",
              "        text-align: right;\n",
              "    }\n",
              "</style>\n",
              "<table border=\"1\" class=\"dataframe\">\n",
              "  <thead>\n",
              "    <tr style=\"text-align: right;\">\n",
              "      <th></th>\n",
              "      <th>overall</th>\n",
              "      <th>potential</th>\n",
              "      <th>value_eur</th>\n",
              "      <th>wage_eur</th>\n",
              "      <th>age</th>\n",
              "      <th>dob</th>\n",
              "      <th>height_cm</th>\n",
              "      <th>weight_kg</th>\n",
              "      <th>preferred_foot</th>\n",
              "      <th>weak_foot</th>\n",
              "      <th>...</th>\n",
              "      <th>defending_marking_awareness</th>\n",
              "      <th>defending_standing_tackle</th>\n",
              "      <th>defending_sliding_tackle</th>\n",
              "      <th>goalkeeping_diving</th>\n",
              "      <th>goalkeeping_handling</th>\n",
              "      <th>goalkeeping_kicking</th>\n",
              "      <th>goalkeeping_positioning</th>\n",
              "      <th>goalkeeping_reflexes</th>\n",
              "      <th>goalkeeping_speed</th>\n",
              "      <th>gk</th>\n",
              "    </tr>\n",
              "  </thead>\n",
              "  <tbody>\n",
              "    <tr>\n",
              "      <th>0</th>\n",
              "      <td>94</td>\n",
              "      <td>94</td>\n",
              "      <td>95500000.0</td>\n",
              "      <td>575000.0</td>\n",
              "      <td>32</td>\n",
              "      <td>1985-02-05</td>\n",
              "      <td>185</td>\n",
              "      <td>80</td>\n",
              "      <td>Right</td>\n",
              "      <td>4</td>\n",
              "      <td>...</td>\n",
              "      <td>22</td>\n",
              "      <td>31</td>\n",
              "      <td>23</td>\n",
              "      <td>7</td>\n",
              "      <td>11</td>\n",
              "      <td>15</td>\n",
              "      <td>14</td>\n",
              "      <td>11</td>\n",
              "      <td>NaN</td>\n",
              "      <td>20+4</td>\n",
              "    </tr>\n",
              "    <tr>\n",
              "      <th>1</th>\n",
              "      <td>93</td>\n",
              "      <td>93</td>\n",
              "      <td>105000000.0</td>\n",
              "      <td>575000.0</td>\n",
              "      <td>30</td>\n",
              "      <td>1987-06-24</td>\n",
              "      <td>170</td>\n",
              "      <td>72</td>\n",
              "      <td>Left</td>\n",
              "      <td>4</td>\n",
              "      <td>...</td>\n",
              "      <td>13</td>\n",
              "      <td>28</td>\n",
              "      <td>26</td>\n",
              "      <td>6</td>\n",
              "      <td>11</td>\n",
              "      <td>15</td>\n",
              "      <td>14</td>\n",
              "      <td>8</td>\n",
              "      <td>NaN</td>\n",
              "      <td>19+4</td>\n",
              "    </tr>\n",
              "    <tr>\n",
              "      <th>2</th>\n",
              "      <td>92</td>\n",
              "      <td>92</td>\n",
              "      <td>61000000.0</td>\n",
              "      <td>225000.0</td>\n",
              "      <td>31</td>\n",
              "      <td>1986-03-27</td>\n",
              "      <td>193</td>\n",
              "      <td>92</td>\n",
              "      <td>Right</td>\n",
              "      <td>4</td>\n",
              "      <td>...</td>\n",
              "      <td>10</td>\n",
              "      <td>10</td>\n",
              "      <td>11</td>\n",
              "      <td>91</td>\n",
              "      <td>90</td>\n",
              "      <td>95</td>\n",
              "      <td>91</td>\n",
              "      <td>89</td>\n",
              "      <td>60.0</td>\n",
              "      <td>90+2</td>\n",
              "    </tr>\n",
              "    <tr>\n",
              "      <th>3</th>\n",
              "      <td>92</td>\n",
              "      <td>92</td>\n",
              "      <td>97000000.0</td>\n",
              "      <td>500000.0</td>\n",
              "      <td>30</td>\n",
              "      <td>1987-01-24</td>\n",
              "      <td>182</td>\n",
              "      <td>86</td>\n",
              "      <td>Right</td>\n",
              "      <td>4</td>\n",
              "      <td>...</td>\n",
              "      <td>30</td>\n",
              "      <td>45</td>\n",
              "      <td>38</td>\n",
              "      <td>27</td>\n",
              "      <td>25</td>\n",
              "      <td>31</td>\n",
              "      <td>33</td>\n",
              "      <td>37</td>\n",
              "      <td>NaN</td>\n",
              "      <td>37+4</td>\n",
              "    </tr>\n",
              "    <tr>\n",
              "      <th>4</th>\n",
              "      <td>92</td>\n",
              "      <td>94</td>\n",
              "      <td>123000000.0</td>\n",
              "      <td>275000.0</td>\n",
              "      <td>25</td>\n",
              "      <td>1992-02-05</td>\n",
              "      <td>175</td>\n",
              "      <td>68</td>\n",
              "      <td>Right</td>\n",
              "      <td>5</td>\n",
              "      <td>...</td>\n",
              "      <td>21</td>\n",
              "      <td>24</td>\n",
              "      <td>33</td>\n",
              "      <td>9</td>\n",
              "      <td>9</td>\n",
              "      <td>15</td>\n",
              "      <td>15</td>\n",
              "      <td>11</td>\n",
              "      <td>NaN</td>\n",
              "      <td>20+4</td>\n",
              "    </tr>\n",
              "  </tbody>\n",
              "</table>\n",
              "<p>5 rows × 55 columns</p>\n",
              "</div>\n",
              "      <button class=\"colab-df-convert\" onclick=\"convertToInteractive('df-26bdc0b6-69ff-4244-9c92-c5dfd1533742')\"\n",
              "              title=\"Convert this dataframe to an interactive table.\"\n",
              "              style=\"display:none;\">\n",
              "        \n",
              "  <svg xmlns=\"http://www.w3.org/2000/svg\" height=\"24px\"viewBox=\"0 0 24 24\"\n",
              "       width=\"24px\">\n",
              "    <path d=\"M0 0h24v24H0V0z\" fill=\"none\"/>\n",
              "    <path d=\"M18.56 5.44l.94 2.06.94-2.06 2.06-.94-2.06-.94-.94-2.06-.94 2.06-2.06.94zm-11 1L8.5 8.5l.94-2.06 2.06-.94-2.06-.94L8.5 2.5l-.94 2.06-2.06.94zm10 10l.94 2.06.94-2.06 2.06-.94-2.06-.94-.94-2.06-.94 2.06-2.06.94z\"/><path d=\"M17.41 7.96l-1.37-1.37c-.4-.4-.92-.59-1.43-.59-.52 0-1.04.2-1.43.59L10.3 9.45l-7.72 7.72c-.78.78-.78 2.05 0 2.83L4 21.41c.39.39.9.59 1.41.59.51 0 1.02-.2 1.41-.59l7.78-7.78 2.81-2.81c.8-.78.8-2.07 0-2.86zM5.41 20L4 18.59l7.72-7.72 1.47 1.35L5.41 20z\"/>\n",
              "  </svg>\n",
              "      </button>\n",
              "      \n",
              "  <style>\n",
              "    .colab-df-container {\n",
              "      display:flex;\n",
              "      flex-wrap:wrap;\n",
              "      gap: 12px;\n",
              "    }\n",
              "\n",
              "    .colab-df-convert {\n",
              "      background-color: #E8F0FE;\n",
              "      border: none;\n",
              "      border-radius: 50%;\n",
              "      cursor: pointer;\n",
              "      display: none;\n",
              "      fill: #1967D2;\n",
              "      height: 32px;\n",
              "      padding: 0 0 0 0;\n",
              "      width: 32px;\n",
              "    }\n",
              "\n",
              "    .colab-df-convert:hover {\n",
              "      background-color: #E2EBFA;\n",
              "      box-shadow: 0px 1px 2px rgba(60, 64, 67, 0.3), 0px 1px 3px 1px rgba(60, 64, 67, 0.15);\n",
              "      fill: #174EA6;\n",
              "    }\n",
              "\n",
              "    [theme=dark] .colab-df-convert {\n",
              "      background-color: #3B4455;\n",
              "      fill: #D2E3FC;\n",
              "    }\n",
              "\n",
              "    [theme=dark] .colab-df-convert:hover {\n",
              "      background-color: #434B5C;\n",
              "      box-shadow: 0px 1px 3px 1px rgba(0, 0, 0, 0.15);\n",
              "      filter: drop-shadow(0px 1px 2px rgba(0, 0, 0, 0.3));\n",
              "      fill: #FFFFFF;\n",
              "    }\n",
              "  </style>\n",
              "\n",
              "      <script>\n",
              "        const buttonEl =\n",
              "          document.querySelector('#df-26bdc0b6-69ff-4244-9c92-c5dfd1533742 button.colab-df-convert');\n",
              "        buttonEl.style.display =\n",
              "          google.colab.kernel.accessAllowed ? 'block' : 'none';\n",
              "\n",
              "        async function convertToInteractive(key) {\n",
              "          const element = document.querySelector('#df-26bdc0b6-69ff-4244-9c92-c5dfd1533742');\n",
              "          const dataTable =\n",
              "            await google.colab.kernel.invokeFunction('convertToInteractive',\n",
              "                                                     [key], {});\n",
              "          if (!dataTable) return;\n",
              "\n",
              "          const docLinkHtml = 'Like what you see? Visit the ' +\n",
              "            '<a target=\"_blank\" href=https://colab.research.google.com/notebooks/data_table.ipynb>data table notebook</a>'\n",
              "            + ' to learn more about interactive tables.';\n",
              "          element.innerHTML = '';\n",
              "          dataTable['output_type'] = 'display_data';\n",
              "          await google.colab.output.renderOutput(dataTable, element);\n",
              "          const docLink = document.createElement('div');\n",
              "          docLink.innerHTML = docLinkHtml;\n",
              "          element.appendChild(docLink);\n",
              "        }\n",
              "      </script>\n",
              "    </div>\n",
              "  </div>\n",
              "  "
            ]
          },
          "metadata": {},
          "execution_count": 99
        }
      ],
      "source": [
        "unwanted_cols = ['sofifa_id', 'player_url', 'short_name', 'long_name', 'player_positions', \n",
        "                 'club_team_id', 'club_name', 'league_name', 'league_level', 'club_position', \n",
        "                 'club_jersey_number', 'club_loaned_from', 'club_joined', 'club_contract_valid_until', \n",
        "                 'nationality_id', 'nationality_name', 'nation_team_id', 'nation_position', \n",
        "                 'nation_jersey_number', 'body_type', 'real_face', 'release_clause_eur', 'player_tags', \n",
        "                 'player_traits', 'ls', 'st', 'rs', 'lw', 'lf', 'cf', 'rf', 'rw', 'lam', 'cam', 'ram', \n",
        "                 'lm', 'lcm', 'cm', 'rcm', 'rm', 'lwb', 'ldm', 'cdm', 'rdm', 'rwb', 'lb', 'lcb', 'cb', \n",
        "                 'rcb', 'rb', 'player_face_url', 'club_logo_url', 'club_flag_url', 'nation_logo_url', \n",
        "                 'nation_flag_url']\n",
        "last_7000_columns = last_7000_columns.drop(unwanted_cols,axis =1) # Drop unwanted columns\n",
        "last_7000_columns.head(5)"
      ]
    },
    {
      "cell_type": "code",
      "execution_count": null,
      "metadata": {
        "id": "mY9uetF78pm8",
        "colab": {
          "base_uri": "https://localhost:8080/"
        },
        "outputId": "37dfeba4-a487-41b6-f75a-eacad08a14ae"
      },
      "outputs": [
        {
          "output_type": "stream",
          "name": "stdout",
          "text": [
            "Empty DataFrame\n",
            "Columns: [overall, potential, value_eur, wage_eur, age, dob, height_cm, weight_kg, weak_foot, skill_moves, international_reputation, work_rate, pace, shooting, passing, dribbling, defending, physic, attacking_crossing, attacking_finishing, attacking_heading_accuracy, attacking_short_passing, attacking_volleys, skill_dribbling, skill_curve, skill_fk_accuracy, skill_long_passing, skill_ball_control, movement_acceleration, movement_sprint_speed, movement_agility, movement_reactions, movement_balance, power_shot_power, power_jumping, power_stamina, power_strength, power_long_shots, mentality_aggression, mentality_interceptions, mentality_positioning, mentality_vision, mentality_penalties, mentality_composure, defending_marking_awareness, defending_standing_tackle, defending_sliding_tackle, goalkeeping_diving, goalkeeping_handling, goalkeeping_kicking, goalkeeping_positioning, goalkeeping_reflexes, goalkeeping_speed, gk, preferred_foot_num]\n",
            "Index: []\n",
            "\n",
            "[0 rows x 55 columns]\n"
          ]
        }
      ],
      "source": [
        "import pandas as pd\n",
        "\n",
        "# Load the FIFA data into a Pandas dataframe\n",
        "df = last_7000_columns\n",
        "\n",
        "# Select the relevant columns\n",
        "selected_cols = ['overall', 'potential', 'value_eur', 'wage_eur', 'age', 'height_cm', 'weight_kg', 'preferred_foot', 'weak_foot', 'skill_moves', 'international_reputation']\n",
        "\n",
        "# Filter out missing values\n",
        "df_clean = df.dropna()\n",
        "\n",
        "# Filter out incorrect data\n",
        "df_clean = df_clean[(df_clean['height_cm'] > 0) & (df_clean['weight_kg'] > 0)]\n",
        "\n",
        "# Convert categorical variables to numerical\n",
        "df_clean['preferred_foot_num'] = df_clean['preferred_foot'].apply(lambda x: 1 if x == 'Right' else 0)\n",
        "df_clean = df_clean.drop('preferred_foot', axis=1)\n",
        "\n",
        "# Show the cleaned dataframe\n",
        "print(df_clean.head())"
      ]
    },
    {
      "cell_type": "code",
      "execution_count": null,
      "metadata": {
        "id": "kkHKmR0E8pVq",
        "colab": {
          "base_uri": "https://localhost:8080/",
          "height": 270
        },
        "outputId": "f6ac0505-999c-4448-cb15-5b7dba34d6f8"
      },
      "outputs": [
        {
          "output_type": "execute_result",
          "data": {
            "text/plain": [
              "      overall  potential  value_eur  wage_eur  age  height_cm  weight_kg  \\\n",
              "935        77         77  4300000.0   20000.0   34        184         81   \n",
              "936        77         77  2100000.0   15000.0   35        184         82   \n",
              "1174       77         77   600000.0   10000.0   37        186         84   \n",
              "1215       76         76  4500000.0   10000.0   33        188         78   \n",
              "1222       76         76  3900000.0   20000.0   33        185         76   \n",
              "\n",
              "      weak_foot  skill_moves  international_reputation  preferred_foot_num  \n",
              "935           3            3                         1                   1  \n",
              "936           3            2                         1                   1  \n",
              "1174          3            1                         1                   1  \n",
              "1215          3            3                         1                   1  \n",
              "1222          3            1                         1                   1  "
            ],
            "text/html": [
              "\n",
              "  <div id=\"df-f48f8d7f-e69e-45a2-af1b-205c4a697db7\">\n",
              "    <div class=\"colab-df-container\">\n",
              "      <div>\n",
              "<style scoped>\n",
              "    .dataframe tbody tr th:only-of-type {\n",
              "        vertical-align: middle;\n",
              "    }\n",
              "\n",
              "    .dataframe tbody tr th {\n",
              "        vertical-align: top;\n",
              "    }\n",
              "\n",
              "    .dataframe thead th {\n",
              "        text-align: right;\n",
              "    }\n",
              "</style>\n",
              "<table border=\"1\" class=\"dataframe\">\n",
              "  <thead>\n",
              "    <tr style=\"text-align: right;\">\n",
              "      <th></th>\n",
              "      <th>overall</th>\n",
              "      <th>potential</th>\n",
              "      <th>value_eur</th>\n",
              "      <th>wage_eur</th>\n",
              "      <th>age</th>\n",
              "      <th>height_cm</th>\n",
              "      <th>weight_kg</th>\n",
              "      <th>weak_foot</th>\n",
              "      <th>skill_moves</th>\n",
              "      <th>international_reputation</th>\n",
              "      <th>preferred_foot_num</th>\n",
              "    </tr>\n",
              "  </thead>\n",
              "  <tbody>\n",
              "    <tr>\n",
              "      <th>935</th>\n",
              "      <td>77</td>\n",
              "      <td>77</td>\n",
              "      <td>4300000.0</td>\n",
              "      <td>20000.0</td>\n",
              "      <td>34</td>\n",
              "      <td>184</td>\n",
              "      <td>81</td>\n",
              "      <td>3</td>\n",
              "      <td>3</td>\n",
              "      <td>1</td>\n",
              "      <td>1</td>\n",
              "    </tr>\n",
              "    <tr>\n",
              "      <th>936</th>\n",
              "      <td>77</td>\n",
              "      <td>77</td>\n",
              "      <td>2100000.0</td>\n",
              "      <td>15000.0</td>\n",
              "      <td>35</td>\n",
              "      <td>184</td>\n",
              "      <td>82</td>\n",
              "      <td>3</td>\n",
              "      <td>2</td>\n",
              "      <td>1</td>\n",
              "      <td>1</td>\n",
              "    </tr>\n",
              "    <tr>\n",
              "      <th>1174</th>\n",
              "      <td>77</td>\n",
              "      <td>77</td>\n",
              "      <td>600000.0</td>\n",
              "      <td>10000.0</td>\n",
              "      <td>37</td>\n",
              "      <td>186</td>\n",
              "      <td>84</td>\n",
              "      <td>3</td>\n",
              "      <td>1</td>\n",
              "      <td>1</td>\n",
              "      <td>1</td>\n",
              "    </tr>\n",
              "    <tr>\n",
              "      <th>1215</th>\n",
              "      <td>76</td>\n",
              "      <td>76</td>\n",
              "      <td>4500000.0</td>\n",
              "      <td>10000.0</td>\n",
              "      <td>33</td>\n",
              "      <td>188</td>\n",
              "      <td>78</td>\n",
              "      <td>3</td>\n",
              "      <td>3</td>\n",
              "      <td>1</td>\n",
              "      <td>1</td>\n",
              "    </tr>\n",
              "    <tr>\n",
              "      <th>1222</th>\n",
              "      <td>76</td>\n",
              "      <td>76</td>\n",
              "      <td>3900000.0</td>\n",
              "      <td>20000.0</td>\n",
              "      <td>33</td>\n",
              "      <td>185</td>\n",
              "      <td>76</td>\n",
              "      <td>3</td>\n",
              "      <td>1</td>\n",
              "      <td>1</td>\n",
              "      <td>1</td>\n",
              "    </tr>\n",
              "  </tbody>\n",
              "</table>\n",
              "</div>\n",
              "      <button class=\"colab-df-convert\" onclick=\"convertToInteractive('df-f48f8d7f-e69e-45a2-af1b-205c4a697db7')\"\n",
              "              title=\"Convert this dataframe to an interactive table.\"\n",
              "              style=\"display:none;\">\n",
              "        \n",
              "  <svg xmlns=\"http://www.w3.org/2000/svg\" height=\"24px\"viewBox=\"0 0 24 24\"\n",
              "       width=\"24px\">\n",
              "    <path d=\"M0 0h24v24H0V0z\" fill=\"none\"/>\n",
              "    <path d=\"M18.56 5.44l.94 2.06.94-2.06 2.06-.94-2.06-.94-.94-2.06-.94 2.06-2.06.94zm-11 1L8.5 8.5l.94-2.06 2.06-.94-2.06-.94L8.5 2.5l-.94 2.06-2.06.94zm10 10l.94 2.06.94-2.06 2.06-.94-2.06-.94-.94-2.06-.94 2.06-2.06.94z\"/><path d=\"M17.41 7.96l-1.37-1.37c-.4-.4-.92-.59-1.43-.59-.52 0-1.04.2-1.43.59L10.3 9.45l-7.72 7.72c-.78.78-.78 2.05 0 2.83L4 21.41c.39.39.9.59 1.41.59.51 0 1.02-.2 1.41-.59l7.78-7.78 2.81-2.81c.8-.78.8-2.07 0-2.86zM5.41 20L4 18.59l7.72-7.72 1.47 1.35L5.41 20z\"/>\n",
              "  </svg>\n",
              "      </button>\n",
              "      \n",
              "  <style>\n",
              "    .colab-df-container {\n",
              "      display:flex;\n",
              "      flex-wrap:wrap;\n",
              "      gap: 12px;\n",
              "    }\n",
              "\n",
              "    .colab-df-convert {\n",
              "      background-color: #E8F0FE;\n",
              "      border: none;\n",
              "      border-radius: 50%;\n",
              "      cursor: pointer;\n",
              "      display: none;\n",
              "      fill: #1967D2;\n",
              "      height: 32px;\n",
              "      padding: 0 0 0 0;\n",
              "      width: 32px;\n",
              "    }\n",
              "\n",
              "    .colab-df-convert:hover {\n",
              "      background-color: #E2EBFA;\n",
              "      box-shadow: 0px 1px 2px rgba(60, 64, 67, 0.3), 0px 1px 3px 1px rgba(60, 64, 67, 0.15);\n",
              "      fill: #174EA6;\n",
              "    }\n",
              "\n",
              "    [theme=dark] .colab-df-convert {\n",
              "      background-color: #3B4455;\n",
              "      fill: #D2E3FC;\n",
              "    }\n",
              "\n",
              "    [theme=dark] .colab-df-convert:hover {\n",
              "      background-color: #434B5C;\n",
              "      box-shadow: 0px 1px 3px 1px rgba(0, 0, 0, 0.15);\n",
              "      filter: drop-shadow(0px 1px 2px rgba(0, 0, 0, 0.3));\n",
              "      fill: #FFFFFF;\n",
              "    }\n",
              "  </style>\n",
              "\n",
              "      <script>\n",
              "        const buttonEl =\n",
              "          document.querySelector('#df-f48f8d7f-e69e-45a2-af1b-205c4a697db7 button.colab-df-convert');\n",
              "        buttonEl.style.display =\n",
              "          google.colab.kernel.accessAllowed ? 'block' : 'none';\n",
              "\n",
              "        async function convertToInteractive(key) {\n",
              "          const element = document.querySelector('#df-f48f8d7f-e69e-45a2-af1b-205c4a697db7');\n",
              "          const dataTable =\n",
              "            await google.colab.kernel.invokeFunction('convertToInteractive',\n",
              "                                                     [key], {});\n",
              "          if (!dataTable) return;\n",
              "\n",
              "          const docLinkHtml = 'Like what you see? Visit the ' +\n",
              "            '<a target=\"_blank\" href=https://colab.research.google.com/notebooks/data_table.ipynb>data table notebook</a>'\n",
              "            + ' to learn more about interactive tables.';\n",
              "          element.innerHTML = '';\n",
              "          dataTable['output_type'] = 'display_data';\n",
              "          await google.colab.output.renderOutput(dataTable, element);\n",
              "          const docLink = document.createElement('div');\n",
              "          docLink.innerHTML = docLinkHtml;\n",
              "          element.appendChild(docLink);\n",
              "        }\n",
              "      </script>\n",
              "    </div>\n",
              "  </div>\n",
              "  "
            ]
          },
          "metadata": {},
          "execution_count": 101
        }
      ],
      "source": [
        "import numpy as np\n",
        "# Filter out missing values\n",
        "df_clean = df[selected_cols].dropna()\n",
        "\n",
        "# Filter out incorrect data\n",
        "df_clean = df_clean[(df_clean['height_cm'] > 0) & (df_clean['weight_kg'] > 0)]\n",
        "\n",
        "# Convert categorical variables to numerical\n",
        "df_clean['preferred_foot_num'] = np.where(df_clean['preferred_foot'] == 'Right', 1, 0)\n",
        "df_clean = df_clean.drop('preferred_foot', axis=1)\n",
        "\n",
        "# Detect and remove outliers\n",
        "Q1 = df_clean.quantile(0.25)\n",
        "Q3 = df_clean.quantile(0.75)\n",
        "IQR = Q3 - Q1\n",
        "df_clean = df_clean[~((df_clean < (Q1 - 1.5 * IQR)) | (df_clean > (Q3 + 1.5 * IQR))).any(axis=1)]\n",
        "\n",
        "# Show the cleaned dataframe\n",
        "df_clean.head()"
      ]
    },
    {
      "cell_type": "code",
      "execution_count": null,
      "metadata": {
        "id": "BBNUInnK8zYB",
        "colab": {
          "base_uri": "https://localhost:8080/"
        },
        "outputId": "f2f5b109-b335-4a80-ec7a-eb26ab80cf12"
      },
      "outputs": [
        {
          "output_type": "stream",
          "name": "stdout",
          "text": [
            "MAE:  377072.79570936767\n",
            "R-squared:  0.6617063482303365\n",
            "Time took to complete:  0.050379037857055664\n"
          ]
        }
      ],
      "source": [
        "from sklearn.linear_model import LinearRegression\n",
        "from sklearn.model_selection import train_test_split\n",
        "from sklearn.metrics import mean_absolute_error, r2_score\n",
        "\n",
        "X = df_clean.drop('value_eur', axis=1)  # Features\n",
        "y = df_clean['value_eur']  # Target variable\n",
        "\n",
        "# Assuming `X` is the feature matrix and `y` is the target variable\n",
        "X_train, X_test, y_train, y_test = train_test_split(X, y, test_size=0.2, random_state=42)\n",
        "\n",
        "start_time = time.time()\n",
        "\n",
        "# Create a linear regression model\n",
        "lr_model = LinearRegression()\n",
        "\n",
        "# Fit the model to the training data\n",
        "lr_model.fit(X_train, y_train)\n",
        "\n",
        "# Make predictions on the test data\n",
        "y_pred = lr_model.predict(X_test)\n",
        "\n",
        "# Calculate MAE and R-squared on the test data\n",
        "mae = mean_absolute_error(y_test, y_pred)\n",
        "r2 = r2_score(y_test, y_pred)\n",
        "\n",
        "end_time = time.time()\n",
        "\n",
        "# Print the results\n",
        "print(\"MAE: \", mae)\n",
        "print(\"R-squared: \", r2)\n",
        "time_taken = end_time - start_time\n",
        "print('Time took to complete: ', time_taken)"
      ]
    }
  ],
  "metadata": {
    "colab": {
      "provenance": []
    },
    "kernelspec": {
      "display_name": "Python 3",
      "name": "python3"
    },
    "language_info": {
      "name": "python"
    }
  },
  "nbformat": 4,
  "nbformat_minor": 0
}